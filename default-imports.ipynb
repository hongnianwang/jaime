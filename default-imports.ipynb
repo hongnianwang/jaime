{
 "cells": [
  {
   "cell_type": "code",
   "execution_count": null,
   "metadata": {},
   "outputs": [],
   "source": [
    "\"\"\" different number of imports to be shared over the other notebooks \"\"\"\n",
    "\n",
    "import morpher\n",
    "import morpher.config as config\n",
    "from morpher.config import algorithms, imputers, scalers, samplers, explainers\n",
    "from morpher.jobs import *\n",
    "from morpher.metrics import *\n",
    "from morpher.plots import *\n",
    "from morpher.algorithms import *\n",
    "from morpher.utils import Timer\n",
    "import matplotlib.pyplot as plt, mpld3\n",
    "from collections import defaultdict\n",
    "from itertools import product\n",
    "import os\n",
    "import uuid\n",
    "import pandas as pd\n",
    "import numpy as np\n",
    "import json\n",
    "import pathlib\n",
    "import inspect\n",
    "import uuid\n",
    "from datetime import datetime\n",
    "from sklearn.model_selection import StratifiedKFold\n",
    "from sklearn.linear_model import Ridge, ElasticNet\n",
    "from sklearn.utils import resample\n",
    "import dill\n",
    "\n",
    "\"\"\" util functions for pickling and unpickling using dill instead of jsonpickle \"\"\"\n",
    "\n",
    "def pickle(obj, path=None):\n",
    "\n",
    "    try:        \n",
    "        with open(path,'wb') as file:            \n",
    "            dill.dump(obj, file)\n",
    "            print(\"OK, object pickled.\")\n",
    "            return True\n",
    "    except Exception as e:\n",
    "        print(f\"Could not pickle object. {e}\")\n",
    "    return False\n",
    "\n",
    "def unpickle(path):\n",
    "    \n",
    "    try:\n",
    "        with open(path, 'rb') as file:\n",
    "            print(\"Unpickling object...\")        \n",
    "            return dill.load(file)\n",
    "    \n",
    "    except Exception as e:\n",
    "        print(f\"Could not unpickle object. {e}\")\n",
    "        return False"
   ]
  },
  {
   "cell_type": "code",
   "execution_count": null,
   "metadata": {},
   "outputs": [],
   "source": []
  }
 ],
 "metadata": {
  "kernelspec": {
   "display_name": "Python 3",
   "language": "python",
   "name": "python3"
  },
  "language_info": {
   "codemirror_mode": {
    "name": "ipython",
    "version": 3
   },
   "file_extension": ".py",
   "mimetype": "text/x-python",
   "name": "python",
   "nbconvert_exporter": "python",
   "pygments_lexer": "ipython3",
   "version": "3.6.4"
  }
 },
 "nbformat": 4,
 "nbformat_minor": 2
}
