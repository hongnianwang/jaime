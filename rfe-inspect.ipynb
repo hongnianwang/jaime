{
 "cells": [
  {
   "cell_type": "code",
   "execution_count": null,
   "metadata": {},
   "outputs": [],
   "source": [
    "%run default-imports.ipynb"
   ]
  },
  {
   "cell_type": "code",
   "execution_count": null,
   "metadata": {},
   "outputs": [],
   "source": [
    "rfe_experiments = unpickle('./experiments/experiments_rfe_sinai.d') or {}\n"
   ]
  },
  {
   "cell_type": "code",
   "execution_count": null,
   "metadata": {},
   "outputs": [],
   "source": [
    "len(rfe_experiments)"
   ]
  },
  {
   "cell_type": "code",
   "execution_count": null,
   "metadata": {},
   "outputs": [],
   "source": [
    "algorithm = algorithms.RF\n",
    "metric = 'auc'\n",
    "\n",
    "experiments = [exp for exp in rfe_experiments.values() if exp['parameters']['rfe_mode'] == 'prefit' and exp['parameters']['algorithm'] == algorithm ]\n",
    "\n",
    "#experiments = [exp['parameters'].get('feature_rank') for exp in rfe_experiments.values() if exp['parameters']['rfe_mode'] == 'prefit']\n",
    "#print(experiments[0].keys())\n",
    "[print(f\"({f[0]},{f[1]}, {f[2]})\") for f in [(k, v[metric]['mean'], v[metric]['ci']) for k,v in experiments[0]['performance']['rfe'].items()]]\n"
   ]
  },
  {
   "cell_type": "code",
   "execution_count": null,
   "metadata": {},
   "outputs": [],
   "source": [
    "data_points = {}\n",
    "\n",
    "#experiment = [exp for exp in rfe_experiments.values() if exp['parameters']['rfe_mode'] == 'feature_importance' and exp['parameters']['algorithm'] == algorithm ][0]\n",
    "#data_points['Feature Importance'] = [(k, v[metric]['mean'], v[metric]['ci']) for k,v in experiment['performance']['rfe'].items()]\n",
    "\n",
    "#experiment = [exp for exp in rfe_experiments.values() if exp['parameters']['rfe_mode'] == 'weighted_explanations' and exp['parameters']['algorithm'] == algorithm ][0]\n",
    "#data_points['Weighted Explanations'] = [(k, v[metric]['mean'], v[metric]['ci']) for k,v in experiment['performance']['rfe'].items()]\n",
    "\n",
    "experiment = [exp for exp in rfe_experiments.values() if exp['parameters']['rfe_mode'] == 'prefit' and exp['parameters']['algorithm'] == algorithm ][0]\n",
    "data_points['SINAI w/ MIMIC'] = [(k, v[metric]['mean'], v[metric]['ci']) for k,v in experiment['performance']['rfe'].items()]\n",
    "\n",
    "\n",
    "rfe_experiments_mimic = unpickle('./experiments/experiments_rfe_mimic.d') or {}\n",
    "experiment = [exp for exp in rfe_experiments_mimic.values() if exp['parameters']['rfe_mode'] == 'weighted_explanations' and exp['parameters']['algorithm'] == algorithm ][0]\n",
    "data_points['MIMIC'] = [(k, v[metric]['mean'], v[metric]['ci']) for k,v in experiment['performance']['rfe'].items()]\n",
    "\n",
    "\n"
   ]
  },
  {
   "cell_type": "code",
   "execution_count": null,
   "metadata": {},
   "outputs": [],
   "source": [
    "%matplotlib notebook"
   ]
  },
  {
   "cell_type": "code",
   "execution_count": null,
   "metadata": {
    "scrolled": false
   },
   "outputs": [],
   "source": [
    "fig = plt.figure(figsize=(5,5))\n",
    "ax = plt.axes()\n",
    "ax.set_xlabel('Number of Features')\n",
    "ax.set_ylabel('Area Under the ROC Curve')\n",
    "ax.set_title('Explanation-Driven Recursive Feature Elimination')\n",
    "\n",
    "for rfe_mode in data_points:\n",
    "    plot_data = sorted(data_points[rfe_mode], key=lambda x: int(x[0]), reverse=False)\n",
    "    X = np.array([int(d[0]) for d in plot_data])\n",
    "    y = np.array([d[1] for d in plot_data])\n",
    "    ci = np.array([d[2] for d in plot_data])\n",
    "    line, = ax.plot(X,y,'-')\n",
    "    line.set_label(rfe_mode)\n",
    "    print(f\"Top number of features ({rfe_mode}): {X[y.argmax()]}, Metric={y.max()}\")\n",
    "    ax.axvline(X[y.argmax()], linestyle='-.', linewidth=1)\n",
    "    #ax.errorbar(X, y, yerr=ci/2, color='gray', alpha=0.5, capsize=3)\n",
    "    ax.fill_between(X, y+ci/2, y-ci/2, alpha=0.2, edgecolor='gray')\n",
    "    #ax.fill_between(X, y+ci/2, y-ci/2, alpha=0.2)\n",
    "\n",
    "mimic = sorted(data_points['MIMIC'], key=lambda x: int(x[0]), reverse=False)\n",
    "sinai = sorted(data_points['SINAI w/ MIMIC'], key=lambda x: int(x[0]), reverse=False)\n",
    "X = np.array([int(d[0]) for d in mimic])\n",
    "y = np.array([d[1] for d in mimic]) - np.array([d[1] for d in sinai])[:90]\n",
    "\n",
    "#line_feat, = ax.plot(X,y,'-',color='red')\n",
    "#line_feat.set_label('Difference')\n",
    "ax.set_xlim((10,100))\n",
    "ax.legend()\n",
    "plt.tight_layout()\n"
   ]
  },
  {
   "cell_type": "code",
   "execution_count": null,
   "metadata": {},
   "outputs": [],
   "source": [
    "plt.savefig('test.pdf')"
   ]
  },
  {
   "cell_type": "code",
   "execution_count": null,
   "metadata": {},
   "outputs": [],
   "source": [
    "from scipy import stats\n",
    "\n",
    "y1 = y_feat\n",
    "y2 = y_exp\n",
    "y1 = y1[:-1]\n",
    "\n",
    "plt.clf()\n",
    "ax = plt.axes()\n",
    "ax.hist(y1-y2)\n",
    "plt.show()\n",
    "\n",
    "from statsmodels.graphics.gofplots import qqplot\n",
    "qqplot(y1-y2, line='s')"
   ]
  },
  {
   "cell_type": "code",
   "execution_count": null,
   "metadata": {},
   "outputs": [],
   "source": [
    "print(stats.ttest_rel(y1,y2))\n",
    "print(f\"Mean of feat: {y1.mean()}\")\n",
    "print(f\"Mean of exp: {y2.mean()}\")\n",
    "print(f\": {y1.mean() - y2.mean()}\")\n",
    "\n",
    "\n"
   ]
  },
  {
   "cell_type": "code",
   "execution_count": null,
   "metadata": {},
   "outputs": [],
   "source": [
    "np.arange(0, 1.01, step=0.01)"
   ]
  },
  {
   "cell_type": "code",
   "execution_count": null,
   "metadata": {},
   "outputs": [],
   "source": []
  }
 ],
 "metadata": {
  "kernelspec": {
   "display_name": "Python 3",
   "language": "python",
   "name": "python3"
  },
  "language_info": {
   "codemirror_mode": {
    "name": "ipython",
    "version": 3
   },
   "file_extension": ".py",
   "mimetype": "text/x-python",
   "name": "python",
   "nbconvert_exporter": "python",
   "pygments_lexer": "ipython3",
   "version": "3.6.4"
  }
 },
 "nbformat": 4,
 "nbformat_minor": 2
}
