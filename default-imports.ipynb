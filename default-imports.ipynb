{
 "cells": [
  {
   "cell_type": "code",
   "execution_count": 1,
   "metadata": {},
   "outputs": [],
   "source": [
    "import morpher\n",
    "import morpher.config as config\n",
    "from morpher.config import algorithms, imputers, scalers, samplers, explainers\n",
    "from morpher.jobs import *\n",
    "from morpher.metrics import *\n",
    "from morpher.plots import *\n",
    "from morpher.utils import pickle, unpickle, Timer\n",
    "import matplotlib.pyplot as plt, mpld3\n",
    "from collections import defaultdict\n",
    "from itertools import product\n",
    "import os\n",
    "import uuid\n",
    "import pandas as pd\n",
    "import numpy as np\n",
    "import json\n",
    "import pathlib\n",
    "import inspect\n",
    "import uuid"
   ]
  },
  {
   "cell_type": "code",
   "execution_count": null,
   "metadata": {},
   "outputs": [],
   "source": []
  }
 ],
 "metadata": {
  "kernelspec": {
   "display_name": "Python 3",
   "language": "python",
   "name": "python3"
  },
  "language_info": {
   "codemirror_mode": {
    "name": "ipython",
    "version": 3
   },
   "file_extension": ".py",
   "mimetype": "text/x-python",
   "name": "python",
   "nbconvert_exporter": "python",
   "pygments_lexer": "ipython3",
   "version": "3.7.5"
  }
 },
 "nbformat": 4,
 "nbformat_minor": 2
}
