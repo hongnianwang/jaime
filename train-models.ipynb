{
 "cells": [
  {
   "cell_type": "code",
   "execution_count": 4,
   "metadata": {},
   "outputs": [],
   "source": [
    "%run default-imports.ipynb"
   ]
  },
  {
   "cell_type": "code",
   "execution_count": 5,
   "metadata": {},
   "outputs": [],
   "source": [
    "%run run-experiment.ipynb"
   ]
  },
  {
   "cell_type": "code",
   "execution_count": 6,
   "metadata": {},
   "outputs": [
    {
     "name": "stdout",
     "output_type": "stream",
     "text": [
      "Unpickling object...\n",
      "Running experiment with following parameters: \n",
      "{'target': 'AKI', 'cohort': 'MIMIC', 'test_size': 0.2, 'imputation_method': 'SimpleImputer', 'algorithm': 'GradientBoostingDecisionTree', 'transform_method': None, 'optimize_mode': False}\n",
      "*** Training of model 'GradientBoostingClassifier' started.\n",
      "*** Training of classifier ready. Time elapsed: 845.284ms\n",
      "\n",
      "Running experiment with following parameters: \n",
      "{'target': 'AKI', 'cohort': 'MIMIC', 'test_size': 0.2, 'imputation_method': 'SimpleImputer', 'algorithm': 'GradientBoostingDecisionTree', 'transform_method': 'StandardScaler', 'optimize_mode': False}\n",
      "Original shape:\n",
      "(5425, 104)\n",
      "After scaling:\n",
      "(6516, 104)\n"
     ]
    },
    {
     "name": "stderr",
     "output_type": "stream",
     "text": [
      "/home/freith01/anaconda3/envs/fiber/lib/python3.7/site-packages/sklearn/preprocessing/data.py:645: DataConversionWarning: Data with input dtype int64, float64 were all converted to float64 by StandardScaler.\n",
      "  return self.partial_fit(X, y)\n",
      "/home/freith01/anaconda3/envs/fiber/lib/python3.7/site-packages/sklearn/base.py:464: DataConversionWarning: Data with input dtype int64, float64 were all converted to float64 by StandardScaler.\n",
      "  return self.fit(X, **fit_params).transform(X)\n",
      "/home/freith01/anaconda3/envs/fiber/lib/python3.7/site-packages/sklearn/preprocessing/data.py:645: DataConversionWarning: Data with input dtype int64, float64 were all converted to float64 by StandardScaler.\n",
      "  return self.partial_fit(X, y)\n",
      "/home/freith01/anaconda3/envs/fiber/lib/python3.7/site-packages/sklearn/utils/extmath.py:776: RuntimeWarning: invalid value encountered in true_divide\n",
      "  updated_mean = (last_sum + new_sum) / updated_sample_count\n",
      "/home/freith01/anaconda3/envs/fiber/lib/python3.7/site-packages/sklearn/utils/extmath.py:781: RuntimeWarning: Degrees of freedom <= 0 for slice.\n",
      "  new_unnormalized_variance = np.nanvar(X, axis=0) * new_sample_count\n",
      "/home/freith01/anaconda3/envs/fiber/lib/python3.7/site-packages/sklearn/base.py:464: DataConversionWarning: Data with input dtype int64, float64 were all converted to float64 by StandardScaler.\n",
      "  return self.fit(X, **fit_params).transform(X)\n"
     ]
    },
    {
     "name": "stdout",
     "output_type": "stream",
     "text": [
      "*** Training of model 'GradientBoostingClassifier' started.\n",
      "Traceback (most recent call last):\n",
      "  File \"/home/freith01/morpher-toolkit/morpher/algorithms.py\", line 66, in fit\n",
      "    self.clf.fit(features, labels)\n",
      "  File \"/home/freith01/anaconda3/envs/fiber/lib/python3.7/site-packages/sklearn/ensemble/gradient_boosting.py\", line 1404, in fit\n",
      "    y = self._validate_y(y, sample_weight)\n",
      "  File \"/home/freith01/anaconda3/envs/fiber/lib/python3.7/site-packages/sklearn/ensemble/gradient_boosting.py\", line 1962, in _validate_y\n",
      "    check_classification_targets(y)\n",
      "  File \"/home/freith01/anaconda3/envs/fiber/lib/python3.7/site-packages/sklearn/utils/multiclass.py\", line 171, in check_classification_targets\n",
      "    raise ValueError(\"Unknown label type: %r\" % y_type)\n",
      "ValueError: Unknown label type: 'continuous'\n",
      "\n",
      "Original shape:\n",
      "(1357, 104)\n",
      "After scaling:\n",
      "(2470, 104)\n",
      "Traceback (most recent call last):\n",
      "  File \"/home/freith01/morpher-toolkit/morpher/algorithms.py\", line 117, in predict\n",
      "    return self.clf.predict(features)\n",
      "  File \"/home/freith01/anaconda3/envs/fiber/lib/python3.7/site-packages/sklearn/ensemble/gradient_boosting.py\", line 2037, in predict\n",
      "    score = self.decision_function(X)\n",
      "  File \"/home/freith01/anaconda3/envs/fiber/lib/python3.7/site-packages/sklearn/ensemble/gradient_boosting.py\", line 1992, in decision_function\n",
      "    score = self._decision_function(X)\n",
      "  File \"/home/freith01/anaconda3/envs/fiber/lib/python3.7/site-packages/sklearn/ensemble/gradient_boosting.py\", line 1586, in _decision_function\n",
      "    score = self._init_decision_function(X)\n",
      "  File \"/home/freith01/anaconda3/envs/fiber/lib/python3.7/site-packages/sklearn/ensemble/gradient_boosting.py\", line 1575, in _init_decision_function\n",
      "    self._check_initialized()\n",
      "  File \"/home/freith01/anaconda3/envs/fiber/lib/python3.7/site-packages/sklearn/ensemble/gradient_boosting.py\", line 1347, in _check_initialized\n",
      "    check_is_fitted(self, 'estimators_')\n",
      "  File \"/home/freith01/anaconda3/envs/fiber/lib/python3.7/site-packages/sklearn/utils/validation.py\", line 951, in check_is_fitted\n",
      "    raise NotFittedError(msg % {'name': type(estimator).__name__})\n",
      "sklearn.exceptions.NotFittedError: This GradientBoostingClassifier instance is not fitted yet. Call 'fit' with appropriate arguments before using this method.\n",
      "\n",
      "Could not run experiment with params {'target': 'AKI', 'cohort': 'MIMIC', 'test_size': 0.2, 'imputation_method': 'SimpleImputer', 'algorithm': 'GradientBoostingDecisionTree', 'transform_method': 'StandardScaler', 'optimize_mode': False}. Error: 'NoneType' object is not subscriptable\n",
      "Running took 2.213 sec.\n",
      "Pickling object...\n",
      "Successfully saved.\n"
     ]
    }
   ],
   "source": [
    "''' define options to run experiments on '''\n",
    "options = {\n",
    "    'target' : [\"AKI\"],\n",
    "    'cohort' : ['MIMIC'],\n",
    "    'test_size' : [0.2],\n",
    "    'imputation_method' : [imputers.DEFAULT],\n",
    "    'algorithm' : [algorithms.GBDT],\n",
    "    #'sampling_method': [None] + [sampler for sampler in samplers],\n",
    "    #'transform_method': [None] + [scaler for scaler in scalers],\n",
    "    'transform_method': [None] + [scalers.DEFAULT],\n",
    "    'optimize_mode': [False],\n",
    "    #'explainers' : [[explainers.MIMIC, explainers.SHAP]]\n",
    "}\n",
    "\n",
    "experiments = unpickle('experiments.json') or {}\n",
    "\n",
    "with Timer() as t:\n",
    "    \n",
    "    ''' iterate over different options '''\n",
    "    for combination in product(*options.values()):\n",
    "        try:\n",
    "            params = dict(zip(options.keys(), combination))\n",
    "            experiment = run_experiment(params)\n",
    "            exp_id = str(uuid.uuid1())\n",
    "            experiments[exp_id] = experiment\n",
    "        except Exception as e:\n",
    "            print(f\"Could not run experiment with params {str(params)}. Error: {str(e)}\")\n",
    "\n",
    "print('Running took %.03f sec.' % t.interval)\n",
    "\n",
    "''' store everything '''\n",
    "if pickle(experiments, 'experiments.json'):\n",
    "    print('Successfully saved.')"
   ]
  },
  {
   "cell_type": "code",
   "execution_count": null,
   "metadata": {},
   "outputs": [],
   "source": []
  }
 ],
 "metadata": {
  "kernelspec": {
   "display_name": "Python 3",
   "language": "python",
   "name": "python3"
  },
  "language_info": {
   "codemirror_mode": {
    "name": "ipython",
    "version": 3
   },
   "file_extension": ".py",
   "mimetype": "text/x-python",
   "name": "python",
   "nbconvert_exporter": "python",
   "pygments_lexer": "ipython3",
   "version": "3.7.5"
  }
 },
 "nbformat": 4,
 "nbformat_minor": 2
}
