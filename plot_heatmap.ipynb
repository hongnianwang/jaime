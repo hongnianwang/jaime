{
 "cells": [
  {
   "cell_type": "code",
   "execution_count": null,
   "metadata": {},
   "outputs": [],
   "source": [
    "%run default-imports.ipynb\n",
    "from sklearn.preprocessing import scale, MinMaxScaler, StandardScaler\n",
    "from collections import OrderedDict"
   ]
  },
  {
   "cell_type": "code",
   "execution_count": null,
   "metadata": {},
   "outputs": [],
   "source": [
    "cohorts = {\n",
    "    'MIMIC' : { 'title' : \"MIMIC-III\", 'filename' : \"./experiments/experiments_rfe_mimic.d\" },\n",
    "    'SINAI' : { 'title' : \"Mt. Sinai\", 'filename' : \"./experiments/experiments_rfe_sinai.d\" },\n",
    "    'DHZB'  : { 'title' : \"DHZB\", 'filename': \"./experiments/experiments_rfe_sinai.d\" },\n",
    "}\n",
    "\n",
    "algorithm = algorithms.RF\n",
    "cohort = 'MIMIC'\n",
    "top_features = 15"
   ]
  },
  {
   "cell_type": "code",
   "execution_count": null,
   "metadata": {},
   "outputs": [],
   "source": [
    "experiments = unpickle(cohorts[cohort]['filename']) or {}\n",
    "experiments = [x for x in experiments.values() if x['parameters']['algorithm'] == algorithm ]"
   ]
  },
  {
   "cell_type": "code",
   "execution_count": null,
   "metadata": {},
   "outputs": [],
   "source": [
    "heatmap_data = {}\n",
    "acronyms = {explainers.MIMIC : 'GS', explainers.LIME : 'LS', explainers.FEAT_CONTRIB : 'MB' , explainers.SHAP : 'SV'}\n",
    "friendly_names = unpickle('friendly_names.d') or {}\n",
    "\n",
    "for cohort in cohorts:\n",
    "    experiments = unpickle(cohorts[cohort]['filename']) or {}\n",
    "    experiments = [x for x in experiments.values() if x['parameters']['algorithm'] == algorithm ]\n",
    "    #weighted_explanations = list(sorted(experiments[0]['weighted_explanations'], key=lambda x: x[1], reverse=True))\n",
    "    #heatmap_data[cohorts[cohort]['title']] = OrderedDict(zip([x[0] for x in weighted_explanations],[x[1] for x in weighted_explanations]))\n",
    "    explanations = experiments[0]['explanations'][algorithm]\n",
    "    for method in explanations:\n",
    "        title = cohorts[cohort]['title']        \n",
    "        heatmap_data[f\"{title} ({acronyms[method]})\"] = explanations[method]   "
   ]
  },
  {
   "cell_type": "code",
   "execution_count": null,
   "metadata": {},
   "outputs": [],
   "source": [
    "%matplotlib notebook\n",
    "plot_explanation_heatmap(heatmap_data, friendly_names=friendly_names, top_features=20, figsize=(10,10))\n",
    "plt.tight_layout()"
   ]
  },
  {
   "cell_type": "code",
   "execution_count": null,
   "metadata": {},
   "outputs": [],
   "source": [
    "plt.savefig('heatmap-figure.pdf')"
   ]
  },
  {
   "cell_type": "code",
   "execution_count": null,
   "metadata": {},
   "outputs": [],
   "source": []
  }
 ],
 "metadata": {
  "kernelspec": {
   "display_name": "Python 3",
   "language": "python",
   "name": "python3"
  },
  "language_info": {
   "codemirror_mode": {
    "name": "ipython",
    "version": 3
   },
   "file_extension": ".py",
   "mimetype": "text/x-python",
   "name": "python",
   "nbconvert_exporter": "python",
   "pygments_lexer": "ipython3",
   "version": "3.6.4"
  }
 },
 "nbformat": 4,
 "nbformat_minor": 2
}
