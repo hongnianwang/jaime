{
 "cells": [
  {
   "cell_type": "code",
   "execution_count": 2,
   "metadata": {},
   "outputs": [],
   "source": [
    "%run default-imports.ipynb"
   ]
  },
  {
   "cell_type": "code",
   "execution_count": 5,
   "metadata": {},
   "outputs": [
    {
     "name": "stdout",
     "output_type": "stream",
     "text": [
      "Trying to get top explanations from a previous experiment...\n",
      "Unpickling object...\n"
     ]
    }
   ],
   "source": [
    "''' obtains experiments performed with RFE with MIMIC dataset '''\n",
    "print(\"Trying to get feature rank from previous experiment...\")\n",
    "experiments_path = './experiments/_experiments_rfe_mimic.d'\n",
    "rfe_experiments = unpickle(experiments_path) or {}\n",
    "feature_rank = {}\n",
    "\n",
    "''' get top explanations from the respective algorithms (we know from experiments that RF and GBDT perform well) '''\n",
    "rf_experiment = {exp_id:experiment for exp_id, experiment in rfe_experiments.items() if experiment['parameters']['algorithm'] == algorithms.RF}\n",
    "gbdt_experiment = {exp_id:experiment for exp_id, experiment in rfe_experiments.items() if experiment['parameters']['algorithm'] == algorithms.GBDT}\n",
    "\n",
    "feature_rank[algorithms.RF] = list(rf_experiment.values())[0]['weighted_explanations']\n",
    "feature_rank[algorithms.GBDT] = list(gbdt_experiment.values())[0]['weighted_explanations']"
   ]
  },
  {
   "cell_type": "code",
   "execution_count": null,
   "metadata": {},
   "outputs": [],
   "source": []
  }
 ],
 "metadata": {
  "kernelspec": {
   "display_name": "Python 3",
   "language": "python",
   "name": "python3"
  },
  "language_info": {
   "codemirror_mode": {
    "name": "ipython",
    "version": 3
   },
   "file_extension": ".py",
   "mimetype": "text/x-python",
   "name": "python",
   "nbconvert_exporter": "python",
   "pygments_lexer": "ipython3",
   "version": "3.6.4"
  }
 },
 "nbformat": 4,
 "nbformat_minor": 2
}
