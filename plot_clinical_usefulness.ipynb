{
 "cells": [
  {
   "cell_type": "code",
   "execution_count": null,
   "metadata": {},
   "outputs": [],
   "source": [
    "%run default-imports.ipynb\n",
    "from sklearn.calibration import CalibratedClassifierCV, calibration_curve"
   ]
  },
  {
   "cell_type": "code",
   "execution_count": null,
   "metadata": {},
   "outputs": [],
   "source": [
    "cohorts = {\n",
    "    'MIMIC' : { 'title' : \"MIMIC-III\", 'filename' : \"./experiments/mimic_model_results_calibration.d\" },\n",
    "    'SINAI' : { 'title' : \"Mt. Sinai\", 'filename' : \"./experiments/sinai_model_results.d\" },\n",
    "    'DHZB'  : { 'title' : \"DHZB\", 'filename': \"./experiments/sinai_model_results.d\" },\n",
    "}\n"
   ]
  },
  {
   "cell_type": "code",
   "execution_count": null,
   "metadata": {},
   "outputs": [],
   "source": [
    "def plot_cc(exp, ax, title,legend=False):    \n",
    "    for mode in modes:    \n",
    "        y_test = exp[mode]['y_true']\n",
    "        y_probs = exp[mode]['y_probs']\n",
    "        score = brier_score_loss(y_test, y_probs, pos_label=y_test.max())\n",
    "        fraction_of_positives, mean_predicted_value = calibration_curve(y_test, y_probs, n_bins=10)\n",
    "        ax.plot(mean_predicted_value, fraction_of_positives, label=\"%s (Brier=%1.3f)\" % (labels[mode], score), linestyle=linestyles[mode],marker=markers[mode])    \n",
    "    ax.plot([0, 1], [0, 1], \"k:\", label=\"Perfectly calibrated\")\n",
    "    ax.set_ylabel(\"Fraction of Positives\")\n",
    "    ax.set_xlabel(\"Mean Predicted Probability\")\n",
    "    ax.set_ylim([-0.05, 1.05])\n",
    "    if legend: ax.legend(loc=None, fancybox=True, shadow=True)\n",
    "    ax.set_title(title)"
   ]
  },
  {
   "cell_type": "code",
   "execution_count": null,
   "metadata": {},
   "outputs": [],
   "source": [
    "''' setting up graph display structures '''\n",
    "modes = ['results', 'calibrated_results']\n",
    "labels = dict(zip(modes, ['No calibration','Sigmoid']))\n",
    "markers = dict(zip(modes, ['s','d']))\n",
    "linestyles = dict(zip(modes, ['-','--']))\n",
    "algs = [algorithms.RF, algorithms.GBDT]\n",
    "alg_labels = dict(zip(algs, ['RF', 'GBDT']))\n",
    "\n",
    "fig, axs = plt.subplots(len(algs), len(cohorts), figsize=(12,8))\n",
    "i = 0\n",
    "''' cycle over algorithms and cohorts '''\n",
    "for algorithm in algs:\n",
    "    j = 0\n",
    "    for cohort in cohorts:\n",
    "        experiments = unpickle(cohorts[cohort]['filename'])\n",
    "        exps = [exp for exp in experiments.values() if exp['parameters']['algorithm'] in [algorithm]]        \n",
    "        plot_cc(exps[1], axs[i,j], f\"{cohorts[cohort]['title']} ({alg_labels[algorithm]})\", legend=(i==j==0))        \n",
    "        j += 1\n",
    "    i += 1\n",
    "\n",
    "plt.tight_layout()\n",
    "plt.savefig('cc_plots.pdf')"
   ]
  },
  {
   "cell_type": "code",
   "execution_count": null,
   "metadata": {},
   "outputs": [],
   "source": []
  },
  {
   "cell_type": "code",
   "execution_count": null,
   "metadata": {},
   "outputs": [],
   "source": []
  }
 ],
 "metadata": {
  "kernelspec": {
   "display_name": "Python 3",
   "language": "python",
   "name": "python3"
  },
  "language_info": {
   "codemirror_mode": {
    "name": "ipython",
    "version": 3
   },
   "file_extension": ".py",
   "mimetype": "text/x-python",
   "name": "python",
   "nbconvert_exporter": "python",
   "pygments_lexer": "ipython3",
   "version": "3.6.4"
  }
 },
 "nbformat": 4,
 "nbformat_minor": 2
}
