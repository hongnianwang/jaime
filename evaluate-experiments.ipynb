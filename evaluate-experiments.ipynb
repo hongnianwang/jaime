{
 "cells": [
  {
   "cell_type": "code",
   "execution_count": 1,
   "metadata": {},
   "outputs": [],
   "source": [
    "%run default-imports.ipynb"
   ]
  },
  {
   "cell_type": "code",
   "execution_count": 2,
   "metadata": {},
   "outputs": [
    {
     "name": "stdout",
     "output_type": "stream",
     "text": [
      "Unpickling object...\n"
     ]
    }
   ],
   "source": [
    "experiments = unpickle('experiments.json') or {}"
   ]
  },
  {
   "cell_type": "code",
   "execution_count": 8,
   "metadata": {},
   "outputs": [],
   "source": [
    "top_aucs = list(sorted([(k,v['performance']['discrimination']['auc']) for k,v in experiments.items()], key=lambda x: x[1], reverse=True))[:10]"
   ]
  },
  {
   "cell_type": "code",
   "execution_count": 9,
   "metadata": {},
   "outputs": [
    {
     "data": {
      "text/html": [
       "[('6b3fd86a-1543-11ea-8127-000d3a0e06d9', 0.8919225784974616), ('8303c0fc-1542-11ea-8127-000d3a0e06d9', 0.8884425896945459), ('51e22b5c-1543-11ea-8127-000d3a0e06d9', 0.8857972829011677), ('7c8ba634-1544-11ea-8127-000d3a0e06d9', 0.8818525922964148), ('d49ee058-1543-11ea-8127-000d3a0e06d9', 0.8778182368730337), ('05750626-1544-11ea-8127-000d3a0e06d9', 0.876557468435504), ('94332354-1542-11ea-8127-000d3a0e06d9', 0.8734830263692575), ('7b239920-1542-11ea-8127-000d3a0e06d9', 0.8722350579501552), ('bb2b1c9a-1543-11ea-8127-000d3a0e06d9', 0.8720031572611328), ('7d99722e-1542-11ea-8127-000d3a0e06d9', 0.8714861251625957)]"
      ],
      "text/plain": [
       "[('6b3fd86a-1543-11ea-8127-000d3a0e06d9', 0.8919225784974616),\n",
       " ('8303c0fc-1542-11ea-8127-000d3a0e06d9', 0.8884425896945459),\n",
       " ('51e22b5c-1543-11ea-8127-000d3a0e06d9', 0.8857972829011677),\n",
       " ('7c8ba634-1544-11ea-8127-000d3a0e06d9', 0.8818525922964148),\n",
       " ('d49ee058-1543-11ea-8127-000d3a0e06d9', 0.8778182368730337),\n",
       " ('05750626-1544-11ea-8127-000d3a0e06d9', 0.876557468435504),\n",
       " ('94332354-1542-11ea-8127-000d3a0e06d9', 0.8734830263692575),\n",
       " ('7b239920-1542-11ea-8127-000d3a0e06d9', 0.8722350579501552),\n",
       " ('bb2b1c9a-1543-11ea-8127-000d3a0e06d9', 0.8720031572611328),\n",
       " ('7d99722e-1542-11ea-8127-000d3a0e06d9', 0.8714861251625957)]"
      ]
     },
     "execution_count": 9,
     "metadata": {},
     "output_type": "execute_result"
    }
   ],
   "source": [
    "top_aucs"
   ]
  },
  {
   "cell_type": "code",
   "execution_count": 10,
   "metadata": {},
   "outputs": [
    {
     "data": {
      "text/plain": [
       "{'algorithm': 'GradientBoostingDecisionTree',\n",
       " 'cohort': 'MIMIC',\n",
       " 'imputation_method': 'SimpleImputer',\n",
       " 'optimize_mode': False,\n",
       " 'sampling_method': 'SMOTENC',\n",
       " 'target': 'AKI',\n",
       " 'test_size': 0.2,\n",
       " 'transform_method': 'Normalizer'}"
      ]
     },
     "execution_count": 10,
     "metadata": {},
     "output_type": "execute_result"
    }
   ],
   "source": [
    "experiments['6b3fd86a-1543-11ea-8127-000d3a0e06d9']['parameters']"
   ]
  },
  {
   "cell_type": "code",
   "execution_count": null,
   "metadata": {},
   "outputs": [],
   "source": []
  }
 ],
 "metadata": {
  "kernelspec": {
   "display_name": "Python 3",
   "language": "python",
   "name": "python3"
  },
  "language_info": {
   "codemirror_mode": {
    "name": "ipython",
    "version": 3
   },
   "file_extension": ".py",
   "mimetype": "text/x-python",
   "name": "python",
   "nbconvert_exporter": "python",
   "pygments_lexer": "ipython3",
   "version": "3.7.5"
  }
 },
 "nbformat": 4,
 "nbformat_minor": 2
}
