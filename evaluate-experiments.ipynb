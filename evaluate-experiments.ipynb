{
 "cells": [
  {
   "cell_type": "code",
   "execution_count": 16,
   "metadata": {},
   "outputs": [],
   "source": [
    "%run default-imports.ipynb"
   ]
  },
  {
   "cell_type": "code",
   "execution_count": 17,
   "metadata": {},
   "outputs": [
    {
     "name": "stdout",
     "output_type": "stream",
     "text": [
      "Unpickling object...\n"
     ]
    }
   ],
   "source": [
    "experiments = unpickle('experiments.json') or {}"
   ]
  },
  {
   "cell_type": "code",
   "execution_count": 25,
   "metadata": {},
   "outputs": [],
   "source": [
    "top_experiments_sinai = list(sorted([(k,v['performance']['discrimination']['auc']) for k,v in experiments.items() if v['parameters']['cohort'] == 'SINAI'], key=lambda x: x[1], reverse=True))[:10]\n",
    "top_experiments_mimic = list(sorted([(k,v['performance']['discrimination']['auc']) for k,v in experiments.items() if v['parameters']['cohort'] == 'MIMIC'], key=lambda x: x[1], reverse=True))[:10]"
   ]
  },
  {
   "cell_type": "code",
   "execution_count": 26,
   "metadata": {},
   "outputs": [
    {
     "name": "stdout",
     "output_type": "stream",
     "text": [
      "Params\tAUC\n",
      "AUC: 0.8828332424077104\n",
      "Parameters:\n",
      "{'algorithm': 'RandomForest', 'cohort': 'MIMIC', 'datetime': datetime.datetime(2019, 12, 5, 20, 29, 40, 298770), 'explainers': 0.09844384622138824, 'imputation_method': 'SimpleImputer', 'optimize_mode': False, 'sampling_method': None, 'scale_method': None, 'target': 'AKI', 'test_size': 0.2}\n",
      "AUC: 0.8657238092100205\n",
      "Parameters:\n",
      "{'algorithm': 'GradientBoostingDecisionTree', 'cohort': 'MIMIC', 'datetime': datetime.datetime(2019, 12, 5, 21, 18, 24, 377440), 'explainers': 0.09844384622138824, 'imputation_method': 'SimpleImputer', 'optimize_mode': False, 'sampling_method': 'RandomOverSampler', 'scale_method': None, 'target': 'AKI', 'test_size': 0.2}\n",
      "AUC: 0.8622047244094488\n",
      "Parameters:\n",
      "{'algorithm': 'GradientBoostingDecisionTree', 'cohort': 'MIMIC', 'datetime': datetime.datetime(2019, 12, 5, 21, 5, 2, 935810), 'explainers': 0.09844384622138824, 'imputation_method': 'SimpleImputer', 'optimize_mode': False, 'sampling_method': None, 'scale_method': None, 'target': 'AKI', 'test_size': 0.2}\n",
      "AUC: 0.8571858567988598\n",
      "Parameters:\n",
      "{'algorithm': 'RandomForest', 'cohort': 'MIMIC', 'datetime': datetime.datetime(2019, 12, 5, 20, 47, 38, 722763), 'explainers': 0.09844384622138824, 'imputation_method': 'SimpleImputer', 'optimize_mode': False, 'sampling_method': 'RandomOverSampler', 'scale_method': None, 'target': 'AKI', 'test_size': 0.2}\n",
      "AUC: 0.8536284580960131\n",
      "Parameters:\n",
      "{'algorithm': 'RandomForest', 'cohort': 'MIMIC', 'datetime': datetime.datetime(2019, 12, 5, 21, 54, 48, 789843), 'explainers': 0.09844384622138824, 'imputation_method': 'KNNImputer', 'optimize_mode': False, 'sampling_method': 'RandomOverSampler', 'scale_method': None, 'target': 'AKI', 'test_size': 0.2}\n",
      "AUC: 0.8519896902249844\n",
      "Parameters:\n",
      "{'algorithm': 'GradientBoostingDecisionTree', 'cohort': 'MIMIC', 'datetime': datetime.datetime(2019, 12, 5, 22, 14, 22, 610250), 'explainers': 0.09844384622138824, 'imputation_method': 'KNNImputer', 'optimize_mode': False, 'sampling_method': None, 'scale_method': None, 'target': 'AKI', 'test_size': 0.2}\n",
      "AUC: 0.8426807096733749\n",
      "Parameters:\n",
      "{'algorithm': 'RandomForest', 'cohort': 'MIMIC', 'datetime': datetime.datetime(2019, 12, 5, 21, 34, 22, 8345), 'explainers': ['MimicExplainer', 'ShapExplainer', 'FeatContribExplainer', 'LimeExplainer'], 'imputation_method': 'KNNImputer', 'optimize_mode': False, 'sampling_method': None, 'scale_method': None, 'target': 'AKI', 'test_size': 0.2}\n",
      "AUC: 0.8245248662797314\n",
      "Parameters:\n",
      "{'algorithm': 'GradientBoostingDecisionTree', 'cohort': 'MIMIC', 'datetime': datetime.datetime(2019, 12, 5, 22, 29, 44, 613776), 'explainers': 0.09844384622138824, 'imputation_method': 'KNNImputer', 'optimize_mode': False, 'sampling_method': 'RandomOverSampler', 'scale_method': None, 'target': 'AKI', 'test_size': 0.2}\n",
      "AUC: 0.8090302778828669\n",
      "Parameters:\n",
      "{'algorithm': 'RandomForest', 'cohort': 'MIMIC', 'datetime': datetime.datetime(2019, 12, 5, 21, 47, 18, 319954), 'explainers': 0.09844384622138824, 'imputation_method': 'KNNImputer', 'optimize_mode': False, 'sampling_method': None, 'scale_method': 'Normalizer', 'target': 'AKI', 'test_size': 0.2}\n",
      "AUC: 0.7115890215735416\n",
      "Parameters:\n",
      "{'algorithm': 'RandomForest', 'cohort': 'MIMIC', 'datetime': datetime.datetime(2019, 12, 5, 20, 35, 19, 201461), 'explainers': 0.09844384622138824, 'imputation_method': 'SimpleImputer', 'optimize_mode': False, 'sampling_method': None, 'scale_method': 'StandardScaler', 'target': 'AKI', 'test_size': 0.2}\n"
     ]
    }
   ],
   "source": [
    "print(\"Params\\tAUC\")\n",
    "for experiment in top_experiments_mimic:\n",
    "    print(f\"AUC: {experiment[1]}\")\n",
    "    print(\"Parameters:\")\n",
    "    print(experiments[experiment[0]]['parameters'])     "
   ]
  },
  {
   "cell_type": "code",
   "execution_count": 21,
   "metadata": {},
   "outputs": [
    {
     "data": {
      "text/html": [
       "[<matplotlib.lines.Line2D object at 0x7f2c6315e110>]"
      ],
      "text/plain": [
       "[<matplotlib.lines.Line2D at 0x7f2c6315e110>]"
      ]
     },
     "execution_count": 21,
     "metadata": {},
     "output_type": "execute_result"
    },
    {
     "data": {
      "image/png": "[encoded data removed]",
      "text/plain": [
       "<Figure size 432x288 with 1 Axes>"
      ]
     },
     "metadata": {
      "needs_background": "light"
     },
     "output_type": "display_data"
    }
   ],
   "source": [
    "fig = plt.figure()\n",
    "ax = plt.axes()\n",
    "\n",
    "X = [exp[0] for exp in top_experiments]\n",
    "y = [exp[1] for exp in top_experiments]\n",
    "\n",
    "ax.plot(X,y)"
   ]
  },
  {
   "cell_type": "code",
   "execution_count": 15,
   "metadata": {},
   "outputs": [
    {
     "data": {
      "text/plain": [
       "0.8828332424077104"
      ]
     },
     "execution_count": 15,
     "metadata": {},
     "output_type": "execute_result"
    }
   ],
   "source": [
    "experiments['f69fde80-179d-11ea-bf3a-000d3a0e06d9']['performance']['discrimination']['auc']"
   ]
  },
  {
   "cell_type": "code",
   "execution_count": null,
   "metadata": {},
   "outputs": [],
   "source": []
  }
 ],
 "metadata": {
  "kernelspec": {
   "display_name": "Python 3",
   "language": "python",
   "name": "python3"
  },
  "language_info": {
   "codemirror_mode": {
    "name": "ipython",
    "version": 3
   },
   "file_extension": ".py",
   "mimetype": "text/x-python",
   "name": "python",
   "nbconvert_exporter": "python",
   "pygments_lexer": "ipython3",
   "version": "3.7.5"
  }
 },
 "nbformat": 4,
 "nbformat_minor": 2
}
