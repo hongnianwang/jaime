{
 "cells": [
  {
   "cell_type": "code",
   "execution_count": 100,
   "metadata": {},
   "outputs": [],
   "source": [
    "%run default-imports.ipynb"
   ]
  },
  {
   "cell_type": "code",
   "execution_count": 101,
   "metadata": {},
   "outputs": [],
   "source": [
    "%run run-validation-experiment.ipynb"
   ]
  },
  {
   "cell_type": "code",
   "execution_count": 102,
   "metadata": {},
   "outputs": [],
   "source": [
    "filenames = {'MIMIC' : \"~/cohorts/hs_mimic.csv\", 'SINAI' : \"~/cohorts/hs_sinai_preprocessed.csv\"}\n",
    "validation_path = './experiments/validation_mimic_on_sinai.d'\n",
    "derivation_path = './experiments/mimic_with_pipelines.d'"
   ]
  },
  {
   "cell_type": "code",
   "execution_count": 103,
   "metadata": {},
   "outputs": [
    {
     "name": "stdout",
     "output_type": "stream",
     "text": [
      "Unpickling object...\n",
      "Unpickling object...\n",
      "Running experiment with following parameters: {'target': 'AKI', 'cohort': 'SINAI', 'bootstrap': 'yes', 'n_iterations': 100, 'n_ratio': 0.5}\n",
      "Validating bootstrapped sample #1\n",
      "Validating bootstrapped sample #2\n",
      "Validating bootstrapped sample #3\n",
      "Validating bootstrapped sample #4\n",
      "Validating bootstrapped sample #5\n",
      "Validating bootstrapped sample #6\n",
      "Validating bootstrapped sample #7\n",
      "Validating bootstrapped sample #8\n",
      "Validating bootstrapped sample #9\n",
      "Validating bootstrapped sample #10\n",
      "Validating bootstrapped sample #11\n",
      "Validating bootstrapped sample #12\n",
      "Validating bootstrapped sample #13\n",
      "Validating bootstrapped sample #14\n",
      "Validating bootstrapped sample #15\n",
      "Validating bootstrapped sample #16\n",
      "Validating bootstrapped sample #17\n",
      "Validating bootstrapped sample #18\n",
      "Validating bootstrapped sample #19\n",
      "Validating bootstrapped sample #20\n",
      "Validating bootstrapped sample #21\n",
      "Validating bootstrapped sample #22\n",
      "Validating bootstrapped sample #23\n",
      "Validating bootstrapped sample #24\n",
      "Validating bootstrapped sample #25\n",
      "Validating bootstrapped sample #26\n",
      "Validating bootstrapped sample #27\n",
      "Validating bootstrapped sample #28\n",
      "Validating bootstrapped sample #29\n",
      "Validating bootstrapped sample #30\n",
      "Validating bootstrapped sample #31\n",
      "Validating bootstrapped sample #32\n",
      "Validating bootstrapped sample #33\n",
      "Validating bootstrapped sample #34\n",
      "Validating bootstrapped sample #35\n",
      "Validating bootstrapped sample #36\n",
      "Validating bootstrapped sample #37\n",
      "Validating bootstrapped sample #38\n",
      "Validating bootstrapped sample #39\n",
      "Validating bootstrapped sample #40\n",
      "Validating bootstrapped sample #41\n",
      "Validating bootstrapped sample #42\n",
      "Validating bootstrapped sample #43\n",
      "Validating bootstrapped sample #44\n",
      "Validating bootstrapped sample #45\n",
      "Validating bootstrapped sample #46\n",
      "Validating bootstrapped sample #47\n",
      "Validating bootstrapped sample #48\n",
      "Validating bootstrapped sample #49\n",
      "Validating bootstrapped sample #50\n",
      "Validating bootstrapped sample #51\n",
      "Validating bootstrapped sample #52\n",
      "Validating bootstrapped sample #53\n",
      "Validating bootstrapped sample #54\n",
      "Validating bootstrapped sample #55\n",
      "Validating bootstrapped sample #56\n",
      "Validating bootstrapped sample #57\n",
      "Validating bootstrapped sample #58\n",
      "Validating bootstrapped sample #59\n",
      "Validating bootstrapped sample #60\n",
      "Validating bootstrapped sample #61\n",
      "Validating bootstrapped sample #62\n",
      "Validating bootstrapped sample #63\n",
      "Validating bootstrapped sample #64\n",
      "Validating bootstrapped sample #65\n",
      "Validating bootstrapped sample #66\n",
      "Validating bootstrapped sample #67\n",
      "Validating bootstrapped sample #68\n",
      "Validating bootstrapped sample #69\n",
      "Validating bootstrapped sample #70\n",
      "Validating bootstrapped sample #71\n",
      "Validating bootstrapped sample #72\n",
      "Validating bootstrapped sample #73\n",
      "Validating bootstrapped sample #74\n",
      "Validating bootstrapped sample #75\n",
      "Validating bootstrapped sample #76\n",
      "Validating bootstrapped sample #77\n",
      "Validating bootstrapped sample #78\n",
      "Validating bootstrapped sample #79\n",
      "Validating bootstrapped sample #80\n",
      "Validating bootstrapped sample #81\n",
      "Validating bootstrapped sample #82\n",
      "Validating bootstrapped sample #83\n",
      "Validating bootstrapped sample #84\n",
      "Validating bootstrapped sample #85\n",
      "Validating bootstrapped sample #86\n",
      "Validating bootstrapped sample #87\n",
      "Validating bootstrapped sample #88\n",
      "Validating bootstrapped sample #89\n",
      "Validating bootstrapped sample #90\n",
      "Validating bootstrapped sample #91\n",
      "Validating bootstrapped sample #92\n",
      "Validating bootstrapped sample #93\n",
      "Validating bootstrapped sample #94\n",
      "Validating bootstrapped sample #95\n",
      "Validating bootstrapped sample #96\n",
      "Validating bootstrapped sample #97\n",
      "Validating bootstrapped sample #98\n",
      "Validating bootstrapped sample #99\n",
      "Validating bootstrapped sample #100\n",
      "Running experiment with following parameters: {'target': 'AKI', 'cohort': 'SINAI', 'bootstrap': 'yes', 'n_iterations': 100, 'n_ratio': 0.5}\n",
      "Validating bootstrapped sample #1\n",
      "Validating bootstrapped sample #2\n",
      "Validating bootstrapped sample #3\n",
      "Validating bootstrapped sample #4\n",
      "Validating bootstrapped sample #5\n",
      "Validating bootstrapped sample #6\n",
      "Validating bootstrapped sample #7\n",
      "Validating bootstrapped sample #8\n",
      "Validating bootstrapped sample #9\n",
      "Validating bootstrapped sample #10\n",
      "Validating bootstrapped sample #11\n",
      "Validating bootstrapped sample #12\n",
      "Validating bootstrapped sample #13\n",
      "Validating bootstrapped sample #14\n",
      "Validating bootstrapped sample #15\n",
      "Validating bootstrapped sample #16\n",
      "Validating bootstrapped sample #17\n",
      "Validating bootstrapped sample #18\n",
      "Validating bootstrapped sample #19\n",
      "Validating bootstrapped sample #20\n",
      "Validating bootstrapped sample #21\n",
      "Validating bootstrapped sample #22\n",
      "Validating bootstrapped sample #23\n",
      "Validating bootstrapped sample #24\n",
      "Validating bootstrapped sample #25\n",
      "Validating bootstrapped sample #26\n",
      "Validating bootstrapped sample #27\n",
      "Validating bootstrapped sample #28\n",
      "Validating bootstrapped sample #29\n",
      "Validating bootstrapped sample #30\n",
      "Validating bootstrapped sample #31\n",
      "Validating bootstrapped sample #32\n",
      "Validating bootstrapped sample #33\n",
      "Validating bootstrapped sample #34\n",
      "Validating bootstrapped sample #35\n",
      "Validating bootstrapped sample #36\n",
      "Validating bootstrapped sample #37\n",
      "Validating bootstrapped sample #38\n",
      "Validating bootstrapped sample #39\n",
      "Validating bootstrapped sample #40\n",
      "Validating bootstrapped sample #41\n",
      "Validating bootstrapped sample #42\n",
      "Validating bootstrapped sample #43\n",
      "Validating bootstrapped sample #44\n",
      "Validating bootstrapped sample #45\n",
      "Validating bootstrapped sample #46\n",
      "Validating bootstrapped sample #47\n",
      "Validating bootstrapped sample #48\n",
      "Validating bootstrapped sample #49\n",
      "Validating bootstrapped sample #50\n",
      "Validating bootstrapped sample #51\n",
      "Validating bootstrapped sample #52\n",
      "Validating bootstrapped sample #53\n",
      "Validating bootstrapped sample #54\n",
      "Validating bootstrapped sample #55\n",
      "Validating bootstrapped sample #56\n",
      "Validating bootstrapped sample #57\n",
      "Validating bootstrapped sample #58\n",
      "Validating bootstrapped sample #59\n",
      "Validating bootstrapped sample #60\n",
      "Validating bootstrapped sample #61\n",
      "Validating bootstrapped sample #62\n",
      "Validating bootstrapped sample #63\n",
      "Validating bootstrapped sample #64\n",
      "Validating bootstrapped sample #65\n",
      "Validating bootstrapped sample #66\n",
      "Validating bootstrapped sample #67\n",
      "Validating bootstrapped sample #68\n",
      "Validating bootstrapped sample #69\n",
      "Validating bootstrapped sample #70\n",
      "Validating bootstrapped sample #71\n",
      "Validating bootstrapped sample #72\n",
      "Validating bootstrapped sample #73\n",
      "Validating bootstrapped sample #74\n",
      "Validating bootstrapped sample #75\n",
      "Validating bootstrapped sample #76\n",
      "Validating bootstrapped sample #77\n",
      "Validating bootstrapped sample #78\n",
      "Validating bootstrapped sample #79\n",
      "Validating bootstrapped sample #80\n",
      "Validating bootstrapped sample #81\n",
      "Validating bootstrapped sample #82\n",
      "Validating bootstrapped sample #83\n",
      "Validating bootstrapped sample #84\n",
      "Validating bootstrapped sample #85\n",
      "Validating bootstrapped sample #86\n",
      "Validating bootstrapped sample #87\n",
      "Validating bootstrapped sample #88\n",
      "Validating bootstrapped sample #89\n",
      "Validating bootstrapped sample #90\n",
      "Validating bootstrapped sample #91\n",
      "Validating bootstrapped sample #92\n",
      "Validating bootstrapped sample #93\n",
      "Validating bootstrapped sample #94\n",
      "Validating bootstrapped sample #95\n",
      "Validating bootstrapped sample #96\n",
      "Validating bootstrapped sample #97\n",
      "Validating bootstrapped sample #98\n",
      "Validating bootstrapped sample #99\n",
      "Validating bootstrapped sample #100\n",
      "Running experiment with following parameters: {'target': 'AKI', 'cohort': 'SINAI', 'bootstrap': 'yes', 'n_iterations': 100, 'n_ratio': 0.5}\n"
     ]
    },
    {
     "name": "stderr",
     "output_type": "stream",
     "text": [
      "Precision and F-score are ill-defined and being set to 0.0 in labels with no predicted samples.\n",
      "invalid value encountered in long_scalars\n",
      "invalid value encountered in double_scalars\n",
      "invalid value encountered in sqrt\n",
      "invalid value encountered in double_scalars\n"
     ]
    },
    {
     "name": "stdout",
     "output_type": "stream",
     "text": [
      "Validating bootstrapped sample #1\n"
     ]
    },
    {
     "name": "stderr",
     "output_type": "stream",
     "text": [
      "Precision and F-score are ill-defined and being set to 0.0 in labels with no predicted samples.\n",
      "invalid value encountered in long_scalars\n",
      "invalid value encountered in double_scalars\n",
      "invalid value encountered in sqrt\n",
      "invalid value encountered in double_scalars\n"
     ]
    },
    {
     "name": "stdout",
     "output_type": "stream",
     "text": [
      "Validating bootstrapped sample #2\n"
     ]
    },
    {
     "name": "stderr",
     "output_type": "stream",
     "text": [
      "Precision and F-score are ill-defined and being set to 0.0 in labels with no predicted samples.\n",
      "invalid value encountered in long_scalars\n",
      "invalid value encountered in double_scalars\n",
      "invalid value encountered in sqrt\n",
      "invalid value encountered in double_scalars\n"
     ]
    },
    {
     "name": "stdout",
     "output_type": "stream",
     "text": [
      "Validating bootstrapped sample #3\n"
     ]
    },
    {
     "name": "stderr",
     "output_type": "stream",
     "text": [
      "Precision and F-score are ill-defined and being set to 0.0 in labels with no predicted samples.\n",
      "invalid value encountered in long_scalars\n",
      "invalid value encountered in double_scalars\n",
      "invalid value encountered in sqrt\n",
      "invalid value encountered in double_scalars\n"
     ]
    },
    {
     "name": "stdout",
     "output_type": "stream",
     "text": [
      "Validating bootstrapped sample #4\n"
     ]
    },
    {
     "name": "stderr",
     "output_type": "stream",
     "text": [
      "Precision and F-score are ill-defined and being set to 0.0 in labels with no predicted samples.\n",
      "invalid value encountered in long_scalars\n",
      "invalid value encountered in double_scalars\n",
      "invalid value encountered in sqrt\n",
      "invalid value encountered in double_scalars\n"
     ]
    },
    {
     "name": "stdout",
     "output_type": "stream",
     "text": [
      "Validating bootstrapped sample #5\n"
     ]
    },
    {
     "name": "stderr",
     "output_type": "stream",
     "text": [
      "Precision and F-score are ill-defined and being set to 0.0 in labels with no predicted samples.\n",
      "invalid value encountered in long_scalars\n",
      "invalid value encountered in double_scalars\n",
      "invalid value encountered in sqrt\n",
      "invalid value encountered in double_scalars\n"
     ]
    },
    {
     "name": "stdout",
     "output_type": "stream",
     "text": [
      "Validating bootstrapped sample #6\n"
     ]
    },
    {
     "name": "stderr",
     "output_type": "stream",
     "text": [
      "Precision and F-score are ill-defined and being set to 0.0 in labels with no predicted samples.\n",
      "invalid value encountered in long_scalars\n",
      "invalid value encountered in double_scalars\n",
      "invalid value encountered in sqrt\n",
      "invalid value encountered in double_scalars\n"
     ]
    },
    {
     "name": "stdout",
     "output_type": "stream",
     "text": [
      "Validating bootstrapped sample #7\n"
     ]
    },
    {
     "name": "stderr",
     "output_type": "stream",
     "text": [
      "Precision and F-score are ill-defined and being set to 0.0 in labels with no predicted samples.\n",
      "invalid value encountered in long_scalars\n",
      "invalid value encountered in double_scalars\n",
      "invalid value encountered in sqrt\n",
      "invalid value encountered in double_scalars\n"
     ]
    },
    {
     "name": "stdout",
     "output_type": "stream",
     "text": [
      "Validating bootstrapped sample #8\n"
     ]
    },
    {
     "name": "stderr",
     "output_type": "stream",
     "text": [
      "Precision and F-score are ill-defined and being set to 0.0 in labels with no predicted samples.\n",
      "invalid value encountered in long_scalars\n",
      "invalid value encountered in double_scalars\n",
      "invalid value encountered in sqrt\n",
      "invalid value encountered in double_scalars\n"
     ]
    },
    {
     "name": "stdout",
     "output_type": "stream",
     "text": [
      "Validating bootstrapped sample #9\n"
     ]
    },
    {
     "name": "stderr",
     "output_type": "stream",
     "text": [
      "Precision and F-score are ill-defined and being set to 0.0 in labels with no predicted samples.\n",
      "invalid value encountered in long_scalars\n",
      "invalid value encountered in double_scalars\n",
      "invalid value encountered in sqrt\n",
      "invalid value encountered in double_scalars\n"
     ]
    },
    {
     "name": "stdout",
     "output_type": "stream",
     "text": [
      "Validating bootstrapped sample #10\n"
     ]
    },
    {
     "name": "stderr",
     "output_type": "stream",
     "text": [
      "Precision and F-score are ill-defined and being set to 0.0 in labels with no predicted samples.\n",
      "invalid value encountered in long_scalars\n",
      "invalid value encountered in double_scalars\n",
      "invalid value encountered in sqrt\n",
      "invalid value encountered in double_scalars\n"
     ]
    },
    {
     "name": "stdout",
     "output_type": "stream",
     "text": [
      "Validating bootstrapped sample #11\n"
     ]
    },
    {
     "name": "stderr",
     "output_type": "stream",
     "text": [
      "Precision and F-score are ill-defined and being set to 0.0 in labels with no predicted samples.\n",
      "invalid value encountered in long_scalars\n",
      "invalid value encountered in double_scalars\n",
      "invalid value encountered in sqrt\n",
      "invalid value encountered in double_scalars\n"
     ]
    },
    {
     "name": "stdout",
     "output_type": "stream",
     "text": [
      "Validating bootstrapped sample #12\n"
     ]
    },
    {
     "name": "stderr",
     "output_type": "stream",
     "text": [
      "Precision and F-score are ill-defined and being set to 0.0 in labels with no predicted samples.\n",
      "invalid value encountered in long_scalars\n",
      "invalid value encountered in double_scalars\n",
      "invalid value encountered in sqrt\n",
      "invalid value encountered in double_scalars\n"
     ]
    },
    {
     "name": "stdout",
     "output_type": "stream",
     "text": [
      "Validating bootstrapped sample #13\n"
     ]
    },
    {
     "name": "stderr",
     "output_type": "stream",
     "text": [
      "Precision and F-score are ill-defined and being set to 0.0 in labels with no predicted samples.\n",
      "invalid value encountered in long_scalars\n",
      "invalid value encountered in double_scalars\n",
      "invalid value encountered in sqrt\n",
      "invalid value encountered in double_scalars\n"
     ]
    },
    {
     "name": "stdout",
     "output_type": "stream",
     "text": [
      "Validating bootstrapped sample #14\n"
     ]
    },
    {
     "name": "stderr",
     "output_type": "stream",
     "text": [
      "Precision and F-score are ill-defined and being set to 0.0 in labels with no predicted samples.\n",
      "invalid value encountered in long_scalars\n",
      "invalid value encountered in double_scalars\n",
      "invalid value encountered in sqrt\n",
      "invalid value encountered in double_scalars\n"
     ]
    },
    {
     "name": "stdout",
     "output_type": "stream",
     "text": [
      "Validating bootstrapped sample #15\n"
     ]
    },
    {
     "name": "stderr",
     "output_type": "stream",
     "text": [
      "Precision and F-score are ill-defined and being set to 0.0 in labels with no predicted samples.\n",
      "invalid value encountered in long_scalars\n",
      "invalid value encountered in double_scalars\n",
      "invalid value encountered in sqrt\n",
      "invalid value encountered in double_scalars\n"
     ]
    },
    {
     "name": "stdout",
     "output_type": "stream",
     "text": [
      "Validating bootstrapped sample #16\n"
     ]
    },
    {
     "name": "stderr",
     "output_type": "stream",
     "text": [
      "Precision and F-score are ill-defined and being set to 0.0 in labels with no predicted samples.\n",
      "invalid value encountered in long_scalars\n",
      "invalid value encountered in double_scalars\n",
      "invalid value encountered in sqrt\n",
      "invalid value encountered in double_scalars\n"
     ]
    },
    {
     "name": "stdout",
     "output_type": "stream",
     "text": [
      "Validating bootstrapped sample #17\n"
     ]
    },
    {
     "name": "stderr",
     "output_type": "stream",
     "text": [
      "Precision and F-score are ill-defined and being set to 0.0 in labels with no predicted samples.\n",
      "invalid value encountered in long_scalars\n",
      "invalid value encountered in double_scalars\n",
      "invalid value encountered in sqrt\n",
      "invalid value encountered in double_scalars\n"
     ]
    },
    {
     "name": "stdout",
     "output_type": "stream",
     "text": [
      "Validating bootstrapped sample #18\n"
     ]
    },
    {
     "name": "stderr",
     "output_type": "stream",
     "text": [
      "Precision and F-score are ill-defined and being set to 0.0 in labels with no predicted samples.\n",
      "invalid value encountered in long_scalars\n",
      "invalid value encountered in double_scalars\n",
      "invalid value encountered in sqrt\n",
      "invalid value encountered in double_scalars\n"
     ]
    },
    {
     "name": "stdout",
     "output_type": "stream",
     "text": [
      "Validating bootstrapped sample #19\n"
     ]
    },
    {
     "name": "stderr",
     "output_type": "stream",
     "text": [
      "Precision and F-score are ill-defined and being set to 0.0 in labels with no predicted samples.\n",
      "invalid value encountered in long_scalars\n",
      "invalid value encountered in double_scalars\n",
      "invalid value encountered in sqrt\n",
      "invalid value encountered in double_scalars\n"
     ]
    },
    {
     "name": "stdout",
     "output_type": "stream",
     "text": [
      "Validating bootstrapped sample #20\n"
     ]
    },
    {
     "name": "stderr",
     "output_type": "stream",
     "text": [
      "Precision and F-score are ill-defined and being set to 0.0 in labels with no predicted samples.\n",
      "invalid value encountered in long_scalars\n",
      "invalid value encountered in double_scalars\n",
      "invalid value encountered in sqrt\n",
      "invalid value encountered in double_scalars\n"
     ]
    },
    {
     "name": "stdout",
     "output_type": "stream",
     "text": [
      "Validating bootstrapped sample #21\n"
     ]
    },
    {
     "name": "stderr",
     "output_type": "stream",
     "text": [
      "Precision and F-score are ill-defined and being set to 0.0 in labels with no predicted samples.\n",
      "invalid value encountered in long_scalars\n",
      "invalid value encountered in double_scalars\n",
      "invalid value encountered in sqrt\n",
      "invalid value encountered in double_scalars\n"
     ]
    },
    {
     "name": "stdout",
     "output_type": "stream",
     "text": [
      "Validating bootstrapped sample #22\n"
     ]
    },
    {
     "name": "stderr",
     "output_type": "stream",
     "text": [
      "Precision and F-score are ill-defined and being set to 0.0 in labels with no predicted samples.\n",
      "invalid value encountered in long_scalars\n",
      "invalid value encountered in double_scalars\n",
      "invalid value encountered in sqrt\n",
      "invalid value encountered in double_scalars\n"
     ]
    },
    {
     "name": "stdout",
     "output_type": "stream",
     "text": [
      "Validating bootstrapped sample #23\n"
     ]
    },
    {
     "name": "stderr",
     "output_type": "stream",
     "text": [
      "Precision and F-score are ill-defined and being set to 0.0 in labels with no predicted samples.\n",
      "invalid value encountered in long_scalars\n",
      "invalid value encountered in double_scalars\n",
      "invalid value encountered in sqrt\n",
      "invalid value encountered in double_scalars\n"
     ]
    },
    {
     "name": "stdout",
     "output_type": "stream",
     "text": [
      "Validating bootstrapped sample #24\n"
     ]
    },
    {
     "name": "stderr",
     "output_type": "stream",
     "text": [
      "Precision and F-score are ill-defined and being set to 0.0 in labels with no predicted samples.\n",
      "invalid value encountered in long_scalars\n",
      "invalid value encountered in double_scalars\n",
      "invalid value encountered in sqrt\n",
      "invalid value encountered in double_scalars\n"
     ]
    },
    {
     "name": "stdout",
     "output_type": "stream",
     "text": [
      "Validating bootstrapped sample #25\n"
     ]
    },
    {
     "name": "stderr",
     "output_type": "stream",
     "text": [
      "Precision and F-score are ill-defined and being set to 0.0 in labels with no predicted samples.\n",
      "invalid value encountered in long_scalars\n",
      "invalid value encountered in double_scalars\n",
      "invalid value encountered in sqrt\n",
      "invalid value encountered in double_scalars\n"
     ]
    },
    {
     "name": "stdout",
     "output_type": "stream",
     "text": [
      "Validating bootstrapped sample #26\n"
     ]
    },
    {
     "name": "stderr",
     "output_type": "stream",
     "text": [
      "Precision and F-score are ill-defined and being set to 0.0 in labels with no predicted samples.\n",
      "invalid value encountered in long_scalars\n",
      "invalid value encountered in double_scalars\n",
      "invalid value encountered in sqrt\n",
      "invalid value encountered in double_scalars\n"
     ]
    },
    {
     "name": "stdout",
     "output_type": "stream",
     "text": [
      "Validating bootstrapped sample #27\n"
     ]
    },
    {
     "name": "stderr",
     "output_type": "stream",
     "text": [
      "Precision and F-score are ill-defined and being set to 0.0 in labels with no predicted samples.\n",
      "invalid value encountered in long_scalars\n",
      "invalid value encountered in double_scalars\n",
      "invalid value encountered in sqrt\n",
      "invalid value encountered in double_scalars\n"
     ]
    },
    {
     "name": "stdout",
     "output_type": "stream",
     "text": [
      "Validating bootstrapped sample #28\n"
     ]
    },
    {
     "name": "stderr",
     "output_type": "stream",
     "text": [
      "Precision and F-score are ill-defined and being set to 0.0 in labels with no predicted samples.\n",
      "invalid value encountered in long_scalars\n",
      "invalid value encountered in double_scalars\n",
      "invalid value encountered in sqrt\n",
      "invalid value encountered in double_scalars\n"
     ]
    },
    {
     "name": "stdout",
     "output_type": "stream",
     "text": [
      "Validating bootstrapped sample #29\n"
     ]
    },
    {
     "name": "stderr",
     "output_type": "stream",
     "text": [
      "Precision and F-score are ill-defined and being set to 0.0 in labels with no predicted samples.\n",
      "invalid value encountered in long_scalars\n",
      "invalid value encountered in double_scalars\n",
      "invalid value encountered in sqrt\n",
      "invalid value encountered in double_scalars\n"
     ]
    },
    {
     "name": "stdout",
     "output_type": "stream",
     "text": [
      "Validating bootstrapped sample #30\n"
     ]
    },
    {
     "name": "stderr",
     "output_type": "stream",
     "text": [
      "Precision and F-score are ill-defined and being set to 0.0 in labels with no predicted samples.\n",
      "invalid value encountered in long_scalars\n",
      "invalid value encountered in double_scalars\n",
      "invalid value encountered in sqrt\n",
      "invalid value encountered in double_scalars\n"
     ]
    },
    {
     "name": "stdout",
     "output_type": "stream",
     "text": [
      "Validating bootstrapped sample #31\n"
     ]
    },
    {
     "name": "stderr",
     "output_type": "stream",
     "text": [
      "Precision and F-score are ill-defined and being set to 0.0 in labels with no predicted samples.\n",
      "invalid value encountered in long_scalars\n",
      "invalid value encountered in double_scalars\n",
      "invalid value encountered in sqrt\n",
      "invalid value encountered in double_scalars\n"
     ]
    },
    {
     "name": "stdout",
     "output_type": "stream",
     "text": [
      "Validating bootstrapped sample #32\n"
     ]
    },
    {
     "name": "stderr",
     "output_type": "stream",
     "text": [
      "Precision and F-score are ill-defined and being set to 0.0 in labels with no predicted samples.\n",
      "invalid value encountered in long_scalars\n",
      "invalid value encountered in double_scalars\n",
      "invalid value encountered in sqrt\n",
      "invalid value encountered in double_scalars\n"
     ]
    },
    {
     "name": "stdout",
     "output_type": "stream",
     "text": [
      "Validating bootstrapped sample #33\n"
     ]
    },
    {
     "name": "stderr",
     "output_type": "stream",
     "text": [
      "Precision and F-score are ill-defined and being set to 0.0 in labels with no predicted samples.\n",
      "invalid value encountered in long_scalars\n",
      "invalid value encountered in double_scalars\n",
      "invalid value encountered in sqrt\n",
      "invalid value encountered in double_scalars\n"
     ]
    },
    {
     "name": "stdout",
     "output_type": "stream",
     "text": [
      "Validating bootstrapped sample #34\n"
     ]
    },
    {
     "name": "stderr",
     "output_type": "stream",
     "text": [
      "Precision and F-score are ill-defined and being set to 0.0 in labels with no predicted samples.\n",
      "invalid value encountered in long_scalars\n",
      "invalid value encountered in double_scalars\n",
      "invalid value encountered in sqrt\n",
      "invalid value encountered in double_scalars\n"
     ]
    },
    {
     "name": "stdout",
     "output_type": "stream",
     "text": [
      "Validating bootstrapped sample #35\n"
     ]
    },
    {
     "name": "stderr",
     "output_type": "stream",
     "text": [
      "Precision and F-score are ill-defined and being set to 0.0 in labels with no predicted samples.\n",
      "invalid value encountered in long_scalars\n",
      "invalid value encountered in double_scalars\n",
      "invalid value encountered in sqrt\n",
      "invalid value encountered in double_scalars\n"
     ]
    },
    {
     "name": "stdout",
     "output_type": "stream",
     "text": [
      "Validating bootstrapped sample #36\n"
     ]
    },
    {
     "name": "stderr",
     "output_type": "stream",
     "text": [
      "Precision and F-score are ill-defined and being set to 0.0 in labels with no predicted samples.\n",
      "invalid value encountered in long_scalars\n",
      "invalid value encountered in double_scalars\n",
      "invalid value encountered in sqrt\n",
      "invalid value encountered in double_scalars\n"
     ]
    },
    {
     "name": "stdout",
     "output_type": "stream",
     "text": [
      "Validating bootstrapped sample #37\n"
     ]
    },
    {
     "name": "stderr",
     "output_type": "stream",
     "text": [
      "Precision and F-score are ill-defined and being set to 0.0 in labels with no predicted samples.\n",
      "invalid value encountered in long_scalars\n",
      "invalid value encountered in double_scalars\n",
      "invalid value encountered in sqrt\n",
      "invalid value encountered in double_scalars\n"
     ]
    },
    {
     "name": "stdout",
     "output_type": "stream",
     "text": [
      "Validating bootstrapped sample #38\n"
     ]
    },
    {
     "name": "stderr",
     "output_type": "stream",
     "text": [
      "Precision and F-score are ill-defined and being set to 0.0 in labels with no predicted samples.\n",
      "invalid value encountered in long_scalars\n",
      "invalid value encountered in double_scalars\n",
      "invalid value encountered in sqrt\n",
      "invalid value encountered in double_scalars\n"
     ]
    },
    {
     "name": "stdout",
     "output_type": "stream",
     "text": [
      "Validating bootstrapped sample #39\n"
     ]
    },
    {
     "name": "stderr",
     "output_type": "stream",
     "text": [
      "Precision and F-score are ill-defined and being set to 0.0 in labels with no predicted samples.\n",
      "invalid value encountered in long_scalars\n",
      "invalid value encountered in double_scalars\n",
      "invalid value encountered in sqrt\n",
      "invalid value encountered in double_scalars\n"
     ]
    },
    {
     "name": "stdout",
     "output_type": "stream",
     "text": [
      "Validating bootstrapped sample #40\n"
     ]
    },
    {
     "name": "stderr",
     "output_type": "stream",
     "text": [
      "Precision and F-score are ill-defined and being set to 0.0 in labels with no predicted samples.\n",
      "invalid value encountered in long_scalars\n",
      "invalid value encountered in double_scalars\n",
      "invalid value encountered in sqrt\n",
      "invalid value encountered in double_scalars\n"
     ]
    },
    {
     "name": "stdout",
     "output_type": "stream",
     "text": [
      "Validating bootstrapped sample #41\n"
     ]
    },
    {
     "name": "stderr",
     "output_type": "stream",
     "text": [
      "Precision and F-score are ill-defined and being set to 0.0 in labels with no predicted samples.\n",
      "invalid value encountered in long_scalars\n",
      "invalid value encountered in double_scalars\n",
      "invalid value encountered in sqrt\n",
      "invalid value encountered in double_scalars\n"
     ]
    },
    {
     "name": "stdout",
     "output_type": "stream",
     "text": [
      "Validating bootstrapped sample #42\n"
     ]
    },
    {
     "name": "stderr",
     "output_type": "stream",
     "text": [
      "Precision and F-score are ill-defined and being set to 0.0 in labels with no predicted samples.\n",
      "invalid value encountered in long_scalars\n",
      "invalid value encountered in double_scalars\n",
      "invalid value encountered in sqrt\n",
      "invalid value encountered in double_scalars\n"
     ]
    },
    {
     "name": "stdout",
     "output_type": "stream",
     "text": [
      "Validating bootstrapped sample #43\n"
     ]
    },
    {
     "name": "stderr",
     "output_type": "stream",
     "text": [
      "Precision and F-score are ill-defined and being set to 0.0 in labels with no predicted samples.\n",
      "invalid value encountered in long_scalars\n",
      "invalid value encountered in double_scalars\n",
      "invalid value encountered in sqrt\n",
      "invalid value encountered in double_scalars\n"
     ]
    },
    {
     "name": "stdout",
     "output_type": "stream",
     "text": [
      "Validating bootstrapped sample #44\n"
     ]
    },
    {
     "name": "stderr",
     "output_type": "stream",
     "text": [
      "Precision and F-score are ill-defined and being set to 0.0 in labels with no predicted samples.\n",
      "invalid value encountered in long_scalars\n",
      "invalid value encountered in double_scalars\n",
      "invalid value encountered in sqrt\n",
      "invalid value encountered in double_scalars\n"
     ]
    },
    {
     "name": "stdout",
     "output_type": "stream",
     "text": [
      "Validating bootstrapped sample #45\n"
     ]
    },
    {
     "name": "stderr",
     "output_type": "stream",
     "text": [
      "Precision and F-score are ill-defined and being set to 0.0 in labels with no predicted samples.\n",
      "invalid value encountered in long_scalars\n",
      "invalid value encountered in double_scalars\n",
      "invalid value encountered in sqrt\n",
      "invalid value encountered in double_scalars\n"
     ]
    },
    {
     "name": "stdout",
     "output_type": "stream",
     "text": [
      "Validating bootstrapped sample #46\n"
     ]
    },
    {
     "name": "stderr",
     "output_type": "stream",
     "text": [
      "Precision and F-score are ill-defined and being set to 0.0 in labels with no predicted samples.\n",
      "invalid value encountered in long_scalars\n",
      "invalid value encountered in double_scalars\n",
      "invalid value encountered in sqrt\n",
      "invalid value encountered in double_scalars\n"
     ]
    },
    {
     "name": "stdout",
     "output_type": "stream",
     "text": [
      "Validating bootstrapped sample #47\n"
     ]
    },
    {
     "name": "stderr",
     "output_type": "stream",
     "text": [
      "Precision and F-score are ill-defined and being set to 0.0 in labels with no predicted samples.\n",
      "invalid value encountered in long_scalars\n",
      "invalid value encountered in double_scalars\n",
      "invalid value encountered in sqrt\n",
      "invalid value encountered in double_scalars\n"
     ]
    },
    {
     "name": "stdout",
     "output_type": "stream",
     "text": [
      "Validating bootstrapped sample #48\n"
     ]
    },
    {
     "name": "stderr",
     "output_type": "stream",
     "text": [
      "Precision and F-score are ill-defined and being set to 0.0 in labels with no predicted samples.\n",
      "invalid value encountered in long_scalars\n",
      "invalid value encountered in double_scalars\n",
      "invalid value encountered in sqrt\n",
      "invalid value encountered in double_scalars\n"
     ]
    },
    {
     "name": "stdout",
     "output_type": "stream",
     "text": [
      "Validating bootstrapped sample #49\n"
     ]
    },
    {
     "name": "stderr",
     "output_type": "stream",
     "text": [
      "Precision and F-score are ill-defined and being set to 0.0 in labels with no predicted samples.\n",
      "invalid value encountered in long_scalars\n",
      "invalid value encountered in double_scalars\n",
      "invalid value encountered in sqrt\n",
      "invalid value encountered in double_scalars\n"
     ]
    },
    {
     "name": "stdout",
     "output_type": "stream",
     "text": [
      "Validating bootstrapped sample #50\n"
     ]
    },
    {
     "name": "stderr",
     "output_type": "stream",
     "text": [
      "Precision and F-score are ill-defined and being set to 0.0 in labels with no predicted samples.\n",
      "invalid value encountered in long_scalars\n",
      "invalid value encountered in double_scalars\n",
      "invalid value encountered in sqrt\n",
      "invalid value encountered in double_scalars\n"
     ]
    },
    {
     "name": "stdout",
     "output_type": "stream",
     "text": [
      "Validating bootstrapped sample #51\n"
     ]
    },
    {
     "name": "stderr",
     "output_type": "stream",
     "text": [
      "Precision and F-score are ill-defined and being set to 0.0 in labels with no predicted samples.\n",
      "invalid value encountered in long_scalars\n",
      "invalid value encountered in double_scalars\n",
      "invalid value encountered in sqrt\n",
      "invalid value encountered in double_scalars\n"
     ]
    },
    {
     "name": "stdout",
     "output_type": "stream",
     "text": [
      "Validating bootstrapped sample #52\n"
     ]
    },
    {
     "name": "stderr",
     "output_type": "stream",
     "text": [
      "Precision and F-score are ill-defined and being set to 0.0 in labels with no predicted samples.\n",
      "invalid value encountered in long_scalars\n",
      "invalid value encountered in double_scalars\n",
      "invalid value encountered in sqrt\n",
      "invalid value encountered in double_scalars\n"
     ]
    },
    {
     "name": "stdout",
     "output_type": "stream",
     "text": [
      "Validating bootstrapped sample #53\n"
     ]
    },
    {
     "name": "stderr",
     "output_type": "stream",
     "text": [
      "Precision and F-score are ill-defined and being set to 0.0 in labels with no predicted samples.\n",
      "invalid value encountered in long_scalars\n",
      "invalid value encountered in double_scalars\n",
      "invalid value encountered in sqrt\n",
      "invalid value encountered in double_scalars\n"
     ]
    },
    {
     "name": "stdout",
     "output_type": "stream",
     "text": [
      "Validating bootstrapped sample #54\n"
     ]
    },
    {
     "name": "stderr",
     "output_type": "stream",
     "text": [
      "Precision and F-score are ill-defined and being set to 0.0 in labels with no predicted samples.\n",
      "invalid value encountered in long_scalars\n",
      "invalid value encountered in double_scalars\n",
      "invalid value encountered in sqrt\n",
      "invalid value encountered in double_scalars\n"
     ]
    },
    {
     "name": "stdout",
     "output_type": "stream",
     "text": [
      "Validating bootstrapped sample #55\n"
     ]
    },
    {
     "name": "stderr",
     "output_type": "stream",
     "text": [
      "Precision and F-score are ill-defined and being set to 0.0 in labels with no predicted samples.\n",
      "invalid value encountered in long_scalars\n",
      "invalid value encountered in double_scalars\n",
      "invalid value encountered in sqrt\n",
      "invalid value encountered in double_scalars\n"
     ]
    },
    {
     "name": "stdout",
     "output_type": "stream",
     "text": [
      "Validating bootstrapped sample #56\n"
     ]
    },
    {
     "name": "stderr",
     "output_type": "stream",
     "text": [
      "Precision and F-score are ill-defined and being set to 0.0 in labels with no predicted samples.\n",
      "invalid value encountered in long_scalars\n",
      "invalid value encountered in double_scalars\n",
      "invalid value encountered in sqrt\n",
      "invalid value encountered in double_scalars\n"
     ]
    },
    {
     "name": "stdout",
     "output_type": "stream",
     "text": [
      "Validating bootstrapped sample #57\n"
     ]
    },
    {
     "name": "stderr",
     "output_type": "stream",
     "text": [
      "Precision and F-score are ill-defined and being set to 0.0 in labels with no predicted samples.\n",
      "invalid value encountered in long_scalars\n",
      "invalid value encountered in double_scalars\n",
      "invalid value encountered in sqrt\n",
      "invalid value encountered in double_scalars\n"
     ]
    },
    {
     "name": "stdout",
     "output_type": "stream",
     "text": [
      "Validating bootstrapped sample #58\n"
     ]
    },
    {
     "name": "stderr",
     "output_type": "stream",
     "text": [
      "Precision and F-score are ill-defined and being set to 0.0 in labels with no predicted samples.\n",
      "invalid value encountered in long_scalars\n",
      "invalid value encountered in double_scalars\n",
      "invalid value encountered in sqrt\n",
      "invalid value encountered in double_scalars\n"
     ]
    },
    {
     "name": "stdout",
     "output_type": "stream",
     "text": [
      "Validating bootstrapped sample #59\n"
     ]
    },
    {
     "name": "stderr",
     "output_type": "stream",
     "text": [
      "Precision and F-score are ill-defined and being set to 0.0 in labels with no predicted samples.\n",
      "invalid value encountered in long_scalars\n",
      "invalid value encountered in double_scalars\n",
      "invalid value encountered in sqrt\n",
      "invalid value encountered in double_scalars\n"
     ]
    },
    {
     "name": "stdout",
     "output_type": "stream",
     "text": [
      "Validating bootstrapped sample #60\n"
     ]
    },
    {
     "name": "stderr",
     "output_type": "stream",
     "text": [
      "Precision and F-score are ill-defined and being set to 0.0 in labels with no predicted samples.\n",
      "invalid value encountered in long_scalars\n",
      "invalid value encountered in double_scalars\n",
      "invalid value encountered in sqrt\n",
      "invalid value encountered in double_scalars\n"
     ]
    },
    {
     "name": "stdout",
     "output_type": "stream",
     "text": [
      "Validating bootstrapped sample #61\n"
     ]
    },
    {
     "name": "stderr",
     "output_type": "stream",
     "text": [
      "Precision and F-score are ill-defined and being set to 0.0 in labels with no predicted samples.\n",
      "invalid value encountered in long_scalars\n",
      "invalid value encountered in double_scalars\n",
      "invalid value encountered in sqrt\n",
      "invalid value encountered in double_scalars\n"
     ]
    },
    {
     "name": "stdout",
     "output_type": "stream",
     "text": [
      "Validating bootstrapped sample #62\n"
     ]
    },
    {
     "name": "stderr",
     "output_type": "stream",
     "text": [
      "Precision and F-score are ill-defined and being set to 0.0 in labels with no predicted samples.\n",
      "invalid value encountered in long_scalars\n",
      "invalid value encountered in double_scalars\n",
      "invalid value encountered in sqrt\n",
      "invalid value encountered in double_scalars\n"
     ]
    },
    {
     "name": "stdout",
     "output_type": "stream",
     "text": [
      "Validating bootstrapped sample #63\n"
     ]
    },
    {
     "name": "stderr",
     "output_type": "stream",
     "text": [
      "Precision and F-score are ill-defined and being set to 0.0 in labels with no predicted samples.\n",
      "invalid value encountered in long_scalars\n",
      "invalid value encountered in double_scalars\n",
      "invalid value encountered in sqrt\n",
      "invalid value encountered in double_scalars\n"
     ]
    },
    {
     "name": "stdout",
     "output_type": "stream",
     "text": [
      "Validating bootstrapped sample #64\n"
     ]
    },
    {
     "name": "stderr",
     "output_type": "stream",
     "text": [
      "Precision and F-score are ill-defined and being set to 0.0 in labels with no predicted samples.\n",
      "invalid value encountered in long_scalars\n",
      "invalid value encountered in double_scalars\n",
      "invalid value encountered in sqrt\n",
      "invalid value encountered in double_scalars\n"
     ]
    },
    {
     "name": "stdout",
     "output_type": "stream",
     "text": [
      "Validating bootstrapped sample #65\n"
     ]
    },
    {
     "name": "stderr",
     "output_type": "stream",
     "text": [
      "Precision and F-score are ill-defined and being set to 0.0 in labels with no predicted samples.\n",
      "invalid value encountered in long_scalars\n",
      "invalid value encountered in double_scalars\n",
      "invalid value encountered in sqrt\n",
      "invalid value encountered in double_scalars\n"
     ]
    },
    {
     "name": "stdout",
     "output_type": "stream",
     "text": [
      "Validating bootstrapped sample #66\n"
     ]
    },
    {
     "name": "stderr",
     "output_type": "stream",
     "text": [
      "Precision and F-score are ill-defined and being set to 0.0 in labels with no predicted samples.\n",
      "invalid value encountered in long_scalars\n",
      "invalid value encountered in double_scalars\n",
      "invalid value encountered in sqrt\n",
      "invalid value encountered in double_scalars\n"
     ]
    },
    {
     "name": "stdout",
     "output_type": "stream",
     "text": [
      "Validating bootstrapped sample #67\n"
     ]
    },
    {
     "name": "stderr",
     "output_type": "stream",
     "text": [
      "Precision and F-score are ill-defined and being set to 0.0 in labels with no predicted samples.\n",
      "invalid value encountered in long_scalars\n",
      "invalid value encountered in double_scalars\n",
      "invalid value encountered in sqrt\n",
      "invalid value encountered in double_scalars\n"
     ]
    },
    {
     "name": "stdout",
     "output_type": "stream",
     "text": [
      "Validating bootstrapped sample #68\n"
     ]
    },
    {
     "name": "stderr",
     "output_type": "stream",
     "text": [
      "Precision and F-score are ill-defined and being set to 0.0 in labels with no predicted samples.\n",
      "invalid value encountered in long_scalars\n",
      "invalid value encountered in double_scalars\n",
      "invalid value encountered in sqrt\n",
      "invalid value encountered in double_scalars\n"
     ]
    },
    {
     "name": "stdout",
     "output_type": "stream",
     "text": [
      "Validating bootstrapped sample #69\n"
     ]
    },
    {
     "name": "stderr",
     "output_type": "stream",
     "text": [
      "Precision and F-score are ill-defined and being set to 0.0 in labels with no predicted samples.\n",
      "invalid value encountered in long_scalars\n",
      "invalid value encountered in double_scalars\n",
      "invalid value encountered in sqrt\n",
      "invalid value encountered in double_scalars\n"
     ]
    },
    {
     "name": "stdout",
     "output_type": "stream",
     "text": [
      "Validating bootstrapped sample #70\n"
     ]
    },
    {
     "name": "stderr",
     "output_type": "stream",
     "text": [
      "Precision and F-score are ill-defined and being set to 0.0 in labels with no predicted samples.\n",
      "invalid value encountered in long_scalars\n",
      "invalid value encountered in double_scalars\n",
      "invalid value encountered in sqrt\n",
      "invalid value encountered in double_scalars\n"
     ]
    },
    {
     "name": "stdout",
     "output_type": "stream",
     "text": [
      "Validating bootstrapped sample #71\n"
     ]
    },
    {
     "name": "stderr",
     "output_type": "stream",
     "text": [
      "Precision and F-score are ill-defined and being set to 0.0 in labels with no predicted samples.\n",
      "invalid value encountered in long_scalars\n",
      "invalid value encountered in double_scalars\n",
      "invalid value encountered in sqrt\n",
      "invalid value encountered in double_scalars\n"
     ]
    },
    {
     "name": "stdout",
     "output_type": "stream",
     "text": [
      "Validating bootstrapped sample #72\n"
     ]
    },
    {
     "name": "stderr",
     "output_type": "stream",
     "text": [
      "Precision and F-score are ill-defined and being set to 0.0 in labels with no predicted samples.\n",
      "invalid value encountered in long_scalars\n",
      "invalid value encountered in double_scalars\n",
      "invalid value encountered in sqrt\n",
      "invalid value encountered in double_scalars\n"
     ]
    },
    {
     "name": "stdout",
     "output_type": "stream",
     "text": [
      "Validating bootstrapped sample #73\n"
     ]
    },
    {
     "name": "stderr",
     "output_type": "stream",
     "text": [
      "Precision and F-score are ill-defined and being set to 0.0 in labels with no predicted samples.\n",
      "invalid value encountered in long_scalars\n",
      "invalid value encountered in double_scalars\n",
      "invalid value encountered in sqrt\n",
      "invalid value encountered in double_scalars\n"
     ]
    },
    {
     "name": "stdout",
     "output_type": "stream",
     "text": [
      "Validating bootstrapped sample #74\n"
     ]
    },
    {
     "name": "stderr",
     "output_type": "stream",
     "text": [
      "Precision and F-score are ill-defined and being set to 0.0 in labels with no predicted samples.\n",
      "invalid value encountered in long_scalars\n",
      "invalid value encountered in double_scalars\n",
      "invalid value encountered in sqrt\n",
      "invalid value encountered in double_scalars\n"
     ]
    },
    {
     "name": "stdout",
     "output_type": "stream",
     "text": [
      "Validating bootstrapped sample #75\n"
     ]
    },
    {
     "name": "stderr",
     "output_type": "stream",
     "text": [
      "Precision and F-score are ill-defined and being set to 0.0 in labels with no predicted samples.\n",
      "invalid value encountered in long_scalars\n",
      "invalid value encountered in double_scalars\n",
      "invalid value encountered in sqrt\n",
      "invalid value encountered in double_scalars\n"
     ]
    },
    {
     "name": "stdout",
     "output_type": "stream",
     "text": [
      "Validating bootstrapped sample #76\n"
     ]
    },
    {
     "name": "stderr",
     "output_type": "stream",
     "text": [
      "Precision and F-score are ill-defined and being set to 0.0 in labels with no predicted samples.\n",
      "invalid value encountered in long_scalars\n",
      "invalid value encountered in double_scalars\n",
      "invalid value encountered in sqrt\n",
      "invalid value encountered in double_scalars\n"
     ]
    },
    {
     "name": "stdout",
     "output_type": "stream",
     "text": [
      "Validating bootstrapped sample #77\n"
     ]
    },
    {
     "name": "stderr",
     "output_type": "stream",
     "text": [
      "Precision and F-score are ill-defined and being set to 0.0 in labels with no predicted samples.\n",
      "invalid value encountered in long_scalars\n",
      "invalid value encountered in double_scalars\n",
      "invalid value encountered in sqrt\n",
      "invalid value encountered in double_scalars\n"
     ]
    },
    {
     "name": "stdout",
     "output_type": "stream",
     "text": [
      "Validating bootstrapped sample #78\n"
     ]
    },
    {
     "name": "stderr",
     "output_type": "stream",
     "text": [
      "Precision and F-score are ill-defined and being set to 0.0 in labels with no predicted samples.\n",
      "invalid value encountered in long_scalars\n",
      "invalid value encountered in double_scalars\n",
      "invalid value encountered in sqrt\n",
      "invalid value encountered in double_scalars\n"
     ]
    },
    {
     "name": "stdout",
     "output_type": "stream",
     "text": [
      "Validating bootstrapped sample #79\n"
     ]
    },
    {
     "name": "stderr",
     "output_type": "stream",
     "text": [
      "Precision and F-score are ill-defined and being set to 0.0 in labels with no predicted samples.\n",
      "invalid value encountered in long_scalars\n",
      "invalid value encountered in double_scalars\n",
      "invalid value encountered in sqrt\n",
      "invalid value encountered in double_scalars\n"
     ]
    },
    {
     "name": "stdout",
     "output_type": "stream",
     "text": [
      "Validating bootstrapped sample #80\n"
     ]
    },
    {
     "name": "stderr",
     "output_type": "stream",
     "text": [
      "Precision and F-score are ill-defined and being set to 0.0 in labels with no predicted samples.\n",
      "invalid value encountered in long_scalars\n",
      "invalid value encountered in double_scalars\n",
      "invalid value encountered in sqrt\n",
      "invalid value encountered in double_scalars\n"
     ]
    },
    {
     "name": "stdout",
     "output_type": "stream",
     "text": [
      "Validating bootstrapped sample #81\n"
     ]
    },
    {
     "name": "stderr",
     "output_type": "stream",
     "text": [
      "Precision and F-score are ill-defined and being set to 0.0 in labels with no predicted samples.\n",
      "invalid value encountered in long_scalars\n",
      "invalid value encountered in double_scalars\n",
      "invalid value encountered in sqrt\n",
      "invalid value encountered in double_scalars\n"
     ]
    },
    {
     "name": "stdout",
     "output_type": "stream",
     "text": [
      "Validating bootstrapped sample #82\n"
     ]
    },
    {
     "name": "stderr",
     "output_type": "stream",
     "text": [
      "Precision and F-score are ill-defined and being set to 0.0 in labels with no predicted samples.\n",
      "invalid value encountered in long_scalars\n",
      "invalid value encountered in double_scalars\n",
      "invalid value encountered in sqrt\n",
      "invalid value encountered in double_scalars\n"
     ]
    },
    {
     "name": "stdout",
     "output_type": "stream",
     "text": [
      "Validating bootstrapped sample #83\n"
     ]
    },
    {
     "name": "stderr",
     "output_type": "stream",
     "text": [
      "Precision and F-score are ill-defined and being set to 0.0 in labels with no predicted samples.\n",
      "invalid value encountered in long_scalars\n",
      "invalid value encountered in double_scalars\n",
      "invalid value encountered in sqrt\n",
      "invalid value encountered in double_scalars\n"
     ]
    },
    {
     "name": "stdout",
     "output_type": "stream",
     "text": [
      "Validating bootstrapped sample #84\n"
     ]
    },
    {
     "name": "stderr",
     "output_type": "stream",
     "text": [
      "Precision and F-score are ill-defined and being set to 0.0 in labels with no predicted samples.\n",
      "invalid value encountered in long_scalars\n",
      "invalid value encountered in double_scalars\n",
      "invalid value encountered in sqrt\n",
      "invalid value encountered in double_scalars\n"
     ]
    },
    {
     "name": "stdout",
     "output_type": "stream",
     "text": [
      "Validating bootstrapped sample #85\n"
     ]
    },
    {
     "name": "stderr",
     "output_type": "stream",
     "text": [
      "Precision and F-score are ill-defined and being set to 0.0 in labels with no predicted samples.\n",
      "invalid value encountered in long_scalars\n",
      "invalid value encountered in double_scalars\n",
      "invalid value encountered in sqrt\n",
      "invalid value encountered in double_scalars\n"
     ]
    },
    {
     "name": "stdout",
     "output_type": "stream",
     "text": [
      "Validating bootstrapped sample #86\n"
     ]
    },
    {
     "name": "stderr",
     "output_type": "stream",
     "text": [
      "Precision and F-score are ill-defined and being set to 0.0 in labels with no predicted samples.\n",
      "invalid value encountered in long_scalars\n",
      "invalid value encountered in double_scalars\n",
      "invalid value encountered in sqrt\n",
      "invalid value encountered in double_scalars\n"
     ]
    },
    {
     "name": "stdout",
     "output_type": "stream",
     "text": [
      "Validating bootstrapped sample #87\n"
     ]
    },
    {
     "name": "stderr",
     "output_type": "stream",
     "text": [
      "Precision and F-score are ill-defined and being set to 0.0 in labels with no predicted samples.\n",
      "invalid value encountered in long_scalars\n",
      "invalid value encountered in double_scalars\n",
      "invalid value encountered in sqrt\n",
      "invalid value encountered in double_scalars\n"
     ]
    },
    {
     "name": "stdout",
     "output_type": "stream",
     "text": [
      "Validating bootstrapped sample #88\n"
     ]
    },
    {
     "name": "stderr",
     "output_type": "stream",
     "text": [
      "Precision and F-score are ill-defined and being set to 0.0 in labels with no predicted samples.\n",
      "invalid value encountered in long_scalars\n",
      "invalid value encountered in double_scalars\n",
      "invalid value encountered in sqrt\n",
      "invalid value encountered in double_scalars\n"
     ]
    },
    {
     "name": "stdout",
     "output_type": "stream",
     "text": [
      "Validating bootstrapped sample #89\n"
     ]
    },
    {
     "name": "stderr",
     "output_type": "stream",
     "text": [
      "Precision and F-score are ill-defined and being set to 0.0 in labels with no predicted samples.\n",
      "invalid value encountered in long_scalars\n",
      "invalid value encountered in double_scalars\n",
      "invalid value encountered in sqrt\n",
      "invalid value encountered in double_scalars\n"
     ]
    },
    {
     "name": "stdout",
     "output_type": "stream",
     "text": [
      "Validating bootstrapped sample #90\n"
     ]
    },
    {
     "name": "stderr",
     "output_type": "stream",
     "text": [
      "Precision and F-score are ill-defined and being set to 0.0 in labels with no predicted samples.\n",
      "invalid value encountered in long_scalars\n",
      "invalid value encountered in double_scalars\n",
      "invalid value encountered in sqrt\n",
      "invalid value encountered in double_scalars\n"
     ]
    },
    {
     "name": "stdout",
     "output_type": "stream",
     "text": [
      "Validating bootstrapped sample #91\n"
     ]
    },
    {
     "name": "stderr",
     "output_type": "stream",
     "text": [
      "Precision and F-score are ill-defined and being set to 0.0 in labels with no predicted samples.\n",
      "invalid value encountered in long_scalars\n",
      "invalid value encountered in double_scalars\n",
      "invalid value encountered in sqrt\n",
      "invalid value encountered in double_scalars\n"
     ]
    },
    {
     "name": "stdout",
     "output_type": "stream",
     "text": [
      "Validating bootstrapped sample #92\n"
     ]
    },
    {
     "name": "stderr",
     "output_type": "stream",
     "text": [
      "Precision and F-score are ill-defined and being set to 0.0 in labels with no predicted samples.\n",
      "invalid value encountered in long_scalars\n",
      "invalid value encountered in double_scalars\n",
      "invalid value encountered in sqrt\n",
      "invalid value encountered in double_scalars\n"
     ]
    },
    {
     "name": "stdout",
     "output_type": "stream",
     "text": [
      "Validating bootstrapped sample #93\n"
     ]
    },
    {
     "name": "stderr",
     "output_type": "stream",
     "text": [
      "Precision and F-score are ill-defined and being set to 0.0 in labels with no predicted samples.\n",
      "invalid value encountered in long_scalars\n",
      "invalid value encountered in double_scalars\n",
      "invalid value encountered in sqrt\n",
      "invalid value encountered in double_scalars\n"
     ]
    },
    {
     "name": "stdout",
     "output_type": "stream",
     "text": [
      "Validating bootstrapped sample #94\n"
     ]
    },
    {
     "name": "stderr",
     "output_type": "stream",
     "text": [
      "Precision and F-score are ill-defined and being set to 0.0 in labels with no predicted samples.\n",
      "invalid value encountered in long_scalars\n",
      "invalid value encountered in double_scalars\n",
      "invalid value encountered in sqrt\n",
      "invalid value encountered in double_scalars\n"
     ]
    },
    {
     "name": "stdout",
     "output_type": "stream",
     "text": [
      "Validating bootstrapped sample #95\n"
     ]
    },
    {
     "name": "stderr",
     "output_type": "stream",
     "text": [
      "Precision and F-score are ill-defined and being set to 0.0 in labels with no predicted samples.\n",
      "invalid value encountered in long_scalars\n",
      "invalid value encountered in double_scalars\n",
      "invalid value encountered in sqrt\n",
      "invalid value encountered in double_scalars\n"
     ]
    },
    {
     "name": "stdout",
     "output_type": "stream",
     "text": [
      "Validating bootstrapped sample #96\n"
     ]
    },
    {
     "name": "stderr",
     "output_type": "stream",
     "text": [
      "Precision and F-score are ill-defined and being set to 0.0 in labels with no predicted samples.\n",
      "invalid value encountered in long_scalars\n",
      "invalid value encountered in double_scalars\n",
      "invalid value encountered in sqrt\n",
      "invalid value encountered in double_scalars\n"
     ]
    },
    {
     "name": "stdout",
     "output_type": "stream",
     "text": [
      "Validating bootstrapped sample #97\n"
     ]
    },
    {
     "name": "stderr",
     "output_type": "stream",
     "text": [
      "Precision and F-score are ill-defined and being set to 0.0 in labels with no predicted samples.\n",
      "invalid value encountered in long_scalars\n",
      "invalid value encountered in double_scalars\n",
      "invalid value encountered in sqrt\n",
      "invalid value encountered in double_scalars\n"
     ]
    },
    {
     "name": "stdout",
     "output_type": "stream",
     "text": [
      "Validating bootstrapped sample #98\n"
     ]
    },
    {
     "name": "stderr",
     "output_type": "stream",
     "text": [
      "Precision and F-score are ill-defined and being set to 0.0 in labels with no predicted samples.\n",
      "invalid value encountered in long_scalars\n",
      "invalid value encountered in double_scalars\n",
      "invalid value encountered in sqrt\n",
      "invalid value encountered in double_scalars\n"
     ]
    },
    {
     "name": "stdout",
     "output_type": "stream",
     "text": [
      "Validating bootstrapped sample #99\n"
     ]
    },
    {
     "name": "stderr",
     "output_type": "stream",
     "text": [
      "Precision and F-score are ill-defined and being set to 0.0 in labels with no predicted samples.\n",
      "invalid value encountered in long_scalars\n",
      "invalid value encountered in double_scalars\n",
      "invalid value encountered in sqrt\n",
      "invalid value encountered in double_scalars\n"
     ]
    },
    {
     "name": "stdout",
     "output_type": "stream",
     "text": [
      "Validating bootstrapped sample #100\n"
     ]
    },
    {
     "name": "stderr",
     "output_type": "stream",
     "text": [
      "Precision and F-score are ill-defined and being set to 0.0 in labels with no predicted samples.\n",
      "invalid value encountered in long_scalars\n",
      "invalid value encountered in double_scalars\n",
      "invalid value encountered in sqrt\n",
      "invalid value encountered in double_scalars\n"
     ]
    },
    {
     "name": "stdout",
     "output_type": "stream",
     "text": [
      "Running experiment with following parameters: {'target': 'AKI', 'cohort': 'SINAI', 'bootstrap': 'yes', 'n_iterations': 100, 'n_ratio': 0.5}\n"
     ]
    },
    {
     "name": "stderr",
     "output_type": "stream",
     "text": [
      "overflow encountered in exp\n"
     ]
    },
    {
     "name": "stdout",
     "output_type": "stream",
     "text": [
      "Validating bootstrapped sample #1\n"
     ]
    },
    {
     "name": "stderr",
     "output_type": "stream",
     "text": [
      "overflow encountered in exp\n"
     ]
    },
    {
     "name": "stdout",
     "output_type": "stream",
     "text": [
      "Validating bootstrapped sample #2\n"
     ]
    },
    {
     "name": "stderr",
     "output_type": "stream",
     "text": [
      "overflow encountered in exp\n"
     ]
    },
    {
     "name": "stdout",
     "output_type": "stream",
     "text": [
      "Validating bootstrapped sample #3\n"
     ]
    },
    {
     "name": "stderr",
     "output_type": "stream",
     "text": [
      "overflow encountered in exp\n"
     ]
    },
    {
     "name": "stdout",
     "output_type": "stream",
     "text": [
      "Validating bootstrapped sample #4\n"
     ]
    },
    {
     "name": "stderr",
     "output_type": "stream",
     "text": [
      "overflow encountered in exp\n"
     ]
    },
    {
     "name": "stdout",
     "output_type": "stream",
     "text": [
      "Validating bootstrapped sample #5\n"
     ]
    },
    {
     "name": "stderr",
     "output_type": "stream",
     "text": [
      "overflow encountered in exp\n"
     ]
    },
    {
     "name": "stdout",
     "output_type": "stream",
     "text": [
      "Validating bootstrapped sample #6\n"
     ]
    },
    {
     "name": "stderr",
     "output_type": "stream",
     "text": [
      "overflow encountered in exp\n"
     ]
    },
    {
     "name": "stdout",
     "output_type": "stream",
     "text": [
      "Validating bootstrapped sample #7\n"
     ]
    },
    {
     "name": "stderr",
     "output_type": "stream",
     "text": [
      "overflow encountered in exp\n"
     ]
    },
    {
     "name": "stdout",
     "output_type": "stream",
     "text": [
      "Validating bootstrapped sample #8\n"
     ]
    },
    {
     "name": "stderr",
     "output_type": "stream",
     "text": [
      "overflow encountered in exp\n"
     ]
    },
    {
     "name": "stdout",
     "output_type": "stream",
     "text": [
      "Validating bootstrapped sample #9\n"
     ]
    },
    {
     "name": "stderr",
     "output_type": "stream",
     "text": [
      "overflow encountered in exp\n"
     ]
    },
    {
     "name": "stdout",
     "output_type": "stream",
     "text": [
      "Validating bootstrapped sample #10\n"
     ]
    },
    {
     "name": "stderr",
     "output_type": "stream",
     "text": [
      "overflow encountered in exp\n"
     ]
    },
    {
     "name": "stdout",
     "output_type": "stream",
     "text": [
      "Validating bootstrapped sample #11\n"
     ]
    },
    {
     "name": "stderr",
     "output_type": "stream",
     "text": [
      "overflow encountered in exp\n"
     ]
    },
    {
     "name": "stdout",
     "output_type": "stream",
     "text": [
      "Validating bootstrapped sample #12\n"
     ]
    },
    {
     "name": "stderr",
     "output_type": "stream",
     "text": [
      "overflow encountered in exp\n"
     ]
    },
    {
     "name": "stdout",
     "output_type": "stream",
     "text": [
      "Validating bootstrapped sample #13\n"
     ]
    },
    {
     "name": "stderr",
     "output_type": "stream",
     "text": [
      "overflow encountered in exp\n"
     ]
    },
    {
     "name": "stdout",
     "output_type": "stream",
     "text": [
      "Validating bootstrapped sample #14\n"
     ]
    },
    {
     "name": "stderr",
     "output_type": "stream",
     "text": [
      "overflow encountered in exp\n"
     ]
    },
    {
     "name": "stdout",
     "output_type": "stream",
     "text": [
      "Validating bootstrapped sample #15\n"
     ]
    },
    {
     "name": "stderr",
     "output_type": "stream",
     "text": [
      "overflow encountered in exp\n"
     ]
    },
    {
     "name": "stdout",
     "output_type": "stream",
     "text": [
      "Validating bootstrapped sample #16\n"
     ]
    },
    {
     "name": "stderr",
     "output_type": "stream",
     "text": [
      "overflow encountered in exp\n"
     ]
    },
    {
     "name": "stdout",
     "output_type": "stream",
     "text": [
      "Validating bootstrapped sample #17\n"
     ]
    },
    {
     "name": "stderr",
     "output_type": "stream",
     "text": [
      "overflow encountered in exp\n"
     ]
    },
    {
     "name": "stdout",
     "output_type": "stream",
     "text": [
      "Validating bootstrapped sample #18\n"
     ]
    },
    {
     "name": "stderr",
     "output_type": "stream",
     "text": [
      "overflow encountered in exp\n"
     ]
    },
    {
     "name": "stdout",
     "output_type": "stream",
     "text": [
      "Validating bootstrapped sample #19\n"
     ]
    },
    {
     "name": "stderr",
     "output_type": "stream",
     "text": [
      "overflow encountered in exp\n"
     ]
    },
    {
     "name": "stdout",
     "output_type": "stream",
     "text": [
      "Validating bootstrapped sample #20\n"
     ]
    },
    {
     "name": "stderr",
     "output_type": "stream",
     "text": [
      "overflow encountered in exp\n"
     ]
    },
    {
     "name": "stdout",
     "output_type": "stream",
     "text": [
      "Validating bootstrapped sample #21\n"
     ]
    },
    {
     "name": "stderr",
     "output_type": "stream",
     "text": [
      "overflow encountered in exp\n"
     ]
    },
    {
     "name": "stdout",
     "output_type": "stream",
     "text": [
      "Validating bootstrapped sample #22\n"
     ]
    },
    {
     "name": "stderr",
     "output_type": "stream",
     "text": [
      "overflow encountered in exp\n"
     ]
    },
    {
     "name": "stdout",
     "output_type": "stream",
     "text": [
      "Validating bootstrapped sample #23\n"
     ]
    },
    {
     "name": "stderr",
     "output_type": "stream",
     "text": [
      "overflow encountered in exp\n"
     ]
    },
    {
     "name": "stdout",
     "output_type": "stream",
     "text": [
      "Validating bootstrapped sample #24\n"
     ]
    },
    {
     "name": "stderr",
     "output_type": "stream",
     "text": [
      "overflow encountered in exp\n"
     ]
    },
    {
     "name": "stdout",
     "output_type": "stream",
     "text": [
      "Validating bootstrapped sample #25\n"
     ]
    },
    {
     "name": "stderr",
     "output_type": "stream",
     "text": [
      "overflow encountered in exp\n"
     ]
    },
    {
     "name": "stdout",
     "output_type": "stream",
     "text": [
      "Validating bootstrapped sample #26\n"
     ]
    },
    {
     "name": "stderr",
     "output_type": "stream",
     "text": [
      "overflow encountered in exp\n"
     ]
    },
    {
     "name": "stdout",
     "output_type": "stream",
     "text": [
      "Validating bootstrapped sample #27\n"
     ]
    },
    {
     "name": "stderr",
     "output_type": "stream",
     "text": [
      "overflow encountered in exp\n"
     ]
    },
    {
     "name": "stdout",
     "output_type": "stream",
     "text": [
      "Validating bootstrapped sample #28\n"
     ]
    },
    {
     "name": "stderr",
     "output_type": "stream",
     "text": [
      "overflow encountered in exp\n"
     ]
    },
    {
     "name": "stdout",
     "output_type": "stream",
     "text": [
      "Validating bootstrapped sample #29\n"
     ]
    },
    {
     "name": "stderr",
     "output_type": "stream",
     "text": [
      "overflow encountered in exp\n"
     ]
    },
    {
     "name": "stdout",
     "output_type": "stream",
     "text": [
      "Validating bootstrapped sample #30\n"
     ]
    },
    {
     "name": "stderr",
     "output_type": "stream",
     "text": [
      "overflow encountered in exp\n"
     ]
    },
    {
     "name": "stdout",
     "output_type": "stream",
     "text": [
      "Validating bootstrapped sample #31\n"
     ]
    },
    {
     "name": "stderr",
     "output_type": "stream",
     "text": [
      "overflow encountered in exp\n"
     ]
    },
    {
     "name": "stdout",
     "output_type": "stream",
     "text": [
      "Validating bootstrapped sample #32\n"
     ]
    },
    {
     "name": "stderr",
     "output_type": "stream",
     "text": [
      "overflow encountered in exp\n"
     ]
    },
    {
     "name": "stdout",
     "output_type": "stream",
     "text": [
      "Validating bootstrapped sample #33\n"
     ]
    },
    {
     "name": "stderr",
     "output_type": "stream",
     "text": [
      "overflow encountered in exp\n"
     ]
    },
    {
     "name": "stdout",
     "output_type": "stream",
     "text": [
      "Validating bootstrapped sample #34\n"
     ]
    },
    {
     "name": "stderr",
     "output_type": "stream",
     "text": [
      "overflow encountered in exp\n"
     ]
    },
    {
     "name": "stdout",
     "output_type": "stream",
     "text": [
      "Validating bootstrapped sample #35\n"
     ]
    },
    {
     "name": "stderr",
     "output_type": "stream",
     "text": [
      "overflow encountered in exp\n"
     ]
    },
    {
     "name": "stdout",
     "output_type": "stream",
     "text": [
      "Validating bootstrapped sample #36\n"
     ]
    },
    {
     "name": "stderr",
     "output_type": "stream",
     "text": [
      "overflow encountered in exp\n"
     ]
    },
    {
     "name": "stdout",
     "output_type": "stream",
     "text": [
      "Validating bootstrapped sample #37\n"
     ]
    },
    {
     "name": "stderr",
     "output_type": "stream",
     "text": [
      "overflow encountered in exp\n"
     ]
    },
    {
     "name": "stdout",
     "output_type": "stream",
     "text": [
      "Validating bootstrapped sample #38\n"
     ]
    },
    {
     "name": "stderr",
     "output_type": "stream",
     "text": [
      "overflow encountered in exp\n"
     ]
    },
    {
     "name": "stdout",
     "output_type": "stream",
     "text": [
      "Validating bootstrapped sample #39\n"
     ]
    },
    {
     "name": "stderr",
     "output_type": "stream",
     "text": [
      "overflow encountered in exp\n"
     ]
    },
    {
     "name": "stdout",
     "output_type": "stream",
     "text": [
      "Validating bootstrapped sample #40\n"
     ]
    },
    {
     "name": "stderr",
     "output_type": "stream",
     "text": [
      "overflow encountered in exp\n"
     ]
    },
    {
     "name": "stdout",
     "output_type": "stream",
     "text": [
      "Validating bootstrapped sample #41\n"
     ]
    },
    {
     "name": "stderr",
     "output_type": "stream",
     "text": [
      "overflow encountered in exp\n"
     ]
    },
    {
     "name": "stdout",
     "output_type": "stream",
     "text": [
      "Validating bootstrapped sample #42\n"
     ]
    },
    {
     "name": "stderr",
     "output_type": "stream",
     "text": [
      "overflow encountered in exp\n"
     ]
    },
    {
     "name": "stdout",
     "output_type": "stream",
     "text": [
      "Validating bootstrapped sample #43\n"
     ]
    },
    {
     "name": "stderr",
     "output_type": "stream",
     "text": [
      "overflow encountered in exp\n"
     ]
    },
    {
     "name": "stdout",
     "output_type": "stream",
     "text": [
      "Validating bootstrapped sample #44\n"
     ]
    },
    {
     "name": "stderr",
     "output_type": "stream",
     "text": [
      "overflow encountered in exp\n"
     ]
    },
    {
     "name": "stdout",
     "output_type": "stream",
     "text": [
      "Validating bootstrapped sample #45\n"
     ]
    },
    {
     "name": "stderr",
     "output_type": "stream",
     "text": [
      "overflow encountered in exp\n"
     ]
    },
    {
     "name": "stdout",
     "output_type": "stream",
     "text": [
      "Validating bootstrapped sample #46\n"
     ]
    },
    {
     "name": "stderr",
     "output_type": "stream",
     "text": [
      "overflow encountered in exp\n"
     ]
    },
    {
     "name": "stdout",
     "output_type": "stream",
     "text": [
      "Validating bootstrapped sample #47\n"
     ]
    },
    {
     "name": "stderr",
     "output_type": "stream",
     "text": [
      "overflow encountered in exp\n"
     ]
    },
    {
     "name": "stdout",
     "output_type": "stream",
     "text": [
      "Validating bootstrapped sample #48\n"
     ]
    },
    {
     "name": "stderr",
     "output_type": "stream",
     "text": [
      "overflow encountered in exp\n"
     ]
    },
    {
     "name": "stdout",
     "output_type": "stream",
     "text": [
      "Validating bootstrapped sample #49\n"
     ]
    },
    {
     "name": "stderr",
     "output_type": "stream",
     "text": [
      "overflow encountered in exp\n"
     ]
    },
    {
     "name": "stdout",
     "output_type": "stream",
     "text": [
      "Validating bootstrapped sample #50\n"
     ]
    },
    {
     "name": "stderr",
     "output_type": "stream",
     "text": [
      "overflow encountered in exp\n"
     ]
    },
    {
     "name": "stdout",
     "output_type": "stream",
     "text": [
      "Validating bootstrapped sample #51\n"
     ]
    },
    {
     "name": "stderr",
     "output_type": "stream",
     "text": [
      "overflow encountered in exp\n"
     ]
    },
    {
     "name": "stdout",
     "output_type": "stream",
     "text": [
      "Validating bootstrapped sample #52\n"
     ]
    },
    {
     "name": "stderr",
     "output_type": "stream",
     "text": [
      "overflow encountered in exp\n"
     ]
    },
    {
     "name": "stdout",
     "output_type": "stream",
     "text": [
      "Validating bootstrapped sample #53\n"
     ]
    },
    {
     "name": "stderr",
     "output_type": "stream",
     "text": [
      "overflow encountered in exp\n"
     ]
    },
    {
     "name": "stdout",
     "output_type": "stream",
     "text": [
      "Validating bootstrapped sample #54\n"
     ]
    },
    {
     "name": "stderr",
     "output_type": "stream",
     "text": [
      "overflow encountered in exp\n"
     ]
    },
    {
     "name": "stdout",
     "output_type": "stream",
     "text": [
      "Validating bootstrapped sample #55\n"
     ]
    },
    {
     "name": "stderr",
     "output_type": "stream",
     "text": [
      "overflow encountered in exp\n"
     ]
    },
    {
     "name": "stdout",
     "output_type": "stream",
     "text": [
      "Validating bootstrapped sample #56\n"
     ]
    },
    {
     "name": "stderr",
     "output_type": "stream",
     "text": [
      "overflow encountered in exp\n"
     ]
    },
    {
     "name": "stdout",
     "output_type": "stream",
     "text": [
      "Validating bootstrapped sample #57\n"
     ]
    },
    {
     "name": "stderr",
     "output_type": "stream",
     "text": [
      "overflow encountered in exp\n"
     ]
    },
    {
     "name": "stdout",
     "output_type": "stream",
     "text": [
      "Validating bootstrapped sample #58\n"
     ]
    },
    {
     "name": "stderr",
     "output_type": "stream",
     "text": [
      "overflow encountered in exp\n"
     ]
    },
    {
     "name": "stdout",
     "output_type": "stream",
     "text": [
      "Validating bootstrapped sample #59\n"
     ]
    },
    {
     "name": "stderr",
     "output_type": "stream",
     "text": [
      "overflow encountered in exp\n"
     ]
    },
    {
     "name": "stdout",
     "output_type": "stream",
     "text": [
      "Validating bootstrapped sample #60\n"
     ]
    },
    {
     "name": "stderr",
     "output_type": "stream",
     "text": [
      "overflow encountered in exp\n"
     ]
    },
    {
     "name": "stdout",
     "output_type": "stream",
     "text": [
      "Validating bootstrapped sample #61\n"
     ]
    },
    {
     "name": "stderr",
     "output_type": "stream",
     "text": [
      "overflow encountered in exp\n"
     ]
    },
    {
     "name": "stdout",
     "output_type": "stream",
     "text": [
      "Validating bootstrapped sample #62\n"
     ]
    },
    {
     "name": "stderr",
     "output_type": "stream",
     "text": [
      "overflow encountered in exp\n"
     ]
    },
    {
     "name": "stdout",
     "output_type": "stream",
     "text": [
      "Validating bootstrapped sample #63\n"
     ]
    },
    {
     "name": "stderr",
     "output_type": "stream",
     "text": [
      "overflow encountered in exp\n"
     ]
    },
    {
     "name": "stdout",
     "output_type": "stream",
     "text": [
      "Validating bootstrapped sample #64\n"
     ]
    },
    {
     "name": "stderr",
     "output_type": "stream",
     "text": [
      "overflow encountered in exp\n"
     ]
    },
    {
     "name": "stdout",
     "output_type": "stream",
     "text": [
      "Validating bootstrapped sample #65\n"
     ]
    },
    {
     "name": "stderr",
     "output_type": "stream",
     "text": [
      "overflow encountered in exp\n"
     ]
    },
    {
     "name": "stdout",
     "output_type": "stream",
     "text": [
      "Validating bootstrapped sample #66\n"
     ]
    },
    {
     "name": "stderr",
     "output_type": "stream",
     "text": [
      "overflow encountered in exp\n"
     ]
    },
    {
     "name": "stdout",
     "output_type": "stream",
     "text": [
      "Validating bootstrapped sample #67\n"
     ]
    },
    {
     "name": "stderr",
     "output_type": "stream",
     "text": [
      "overflow encountered in exp\n"
     ]
    },
    {
     "name": "stdout",
     "output_type": "stream",
     "text": [
      "Validating bootstrapped sample #68\n"
     ]
    },
    {
     "name": "stderr",
     "output_type": "stream",
     "text": [
      "overflow encountered in exp\n"
     ]
    },
    {
     "name": "stdout",
     "output_type": "stream",
     "text": [
      "Validating bootstrapped sample #69\n"
     ]
    },
    {
     "name": "stderr",
     "output_type": "stream",
     "text": [
      "overflow encountered in exp\n"
     ]
    },
    {
     "name": "stdout",
     "output_type": "stream",
     "text": [
      "Validating bootstrapped sample #70\n"
     ]
    },
    {
     "name": "stderr",
     "output_type": "stream",
     "text": [
      "overflow encountered in exp\n"
     ]
    },
    {
     "name": "stdout",
     "output_type": "stream",
     "text": [
      "Validating bootstrapped sample #71\n"
     ]
    },
    {
     "name": "stderr",
     "output_type": "stream",
     "text": [
      "overflow encountered in exp\n"
     ]
    },
    {
     "name": "stdout",
     "output_type": "stream",
     "text": [
      "Validating bootstrapped sample #72\n"
     ]
    },
    {
     "name": "stderr",
     "output_type": "stream",
     "text": [
      "overflow encountered in exp\n"
     ]
    },
    {
     "name": "stdout",
     "output_type": "stream",
     "text": [
      "Validating bootstrapped sample #73\n"
     ]
    },
    {
     "name": "stderr",
     "output_type": "stream",
     "text": [
      "overflow encountered in exp\n"
     ]
    },
    {
     "name": "stdout",
     "output_type": "stream",
     "text": [
      "Validating bootstrapped sample #74\n"
     ]
    },
    {
     "name": "stderr",
     "output_type": "stream",
     "text": [
      "overflow encountered in exp\n"
     ]
    },
    {
     "name": "stdout",
     "output_type": "stream",
     "text": [
      "Validating bootstrapped sample #75\n"
     ]
    },
    {
     "name": "stderr",
     "output_type": "stream",
     "text": [
      "overflow encountered in exp\n"
     ]
    },
    {
     "name": "stdout",
     "output_type": "stream",
     "text": [
      "Validating bootstrapped sample #76\n"
     ]
    },
    {
     "name": "stderr",
     "output_type": "stream",
     "text": [
      "overflow encountered in exp\n"
     ]
    },
    {
     "name": "stdout",
     "output_type": "stream",
     "text": [
      "Validating bootstrapped sample #77\n"
     ]
    },
    {
     "name": "stderr",
     "output_type": "stream",
     "text": [
      "overflow encountered in exp\n"
     ]
    },
    {
     "name": "stdout",
     "output_type": "stream",
     "text": [
      "Validating bootstrapped sample #78\n"
     ]
    },
    {
     "name": "stderr",
     "output_type": "stream",
     "text": [
      "overflow encountered in exp\n"
     ]
    },
    {
     "name": "stdout",
     "output_type": "stream",
     "text": [
      "Validating bootstrapped sample #79\n"
     ]
    },
    {
     "name": "stderr",
     "output_type": "stream",
     "text": [
      "overflow encountered in exp\n"
     ]
    },
    {
     "name": "stdout",
     "output_type": "stream",
     "text": [
      "Validating bootstrapped sample #80\n"
     ]
    },
    {
     "name": "stderr",
     "output_type": "stream",
     "text": [
      "overflow encountered in exp\n"
     ]
    },
    {
     "name": "stdout",
     "output_type": "stream",
     "text": [
      "Validating bootstrapped sample #81\n"
     ]
    },
    {
     "name": "stderr",
     "output_type": "stream",
     "text": [
      "overflow encountered in exp\n"
     ]
    },
    {
     "name": "stdout",
     "output_type": "stream",
     "text": [
      "Validating bootstrapped sample #82\n"
     ]
    },
    {
     "name": "stderr",
     "output_type": "stream",
     "text": [
      "overflow encountered in exp\n"
     ]
    },
    {
     "name": "stdout",
     "output_type": "stream",
     "text": [
      "Validating bootstrapped sample #83\n"
     ]
    },
    {
     "name": "stderr",
     "output_type": "stream",
     "text": [
      "overflow encountered in exp\n"
     ]
    },
    {
     "name": "stdout",
     "output_type": "stream",
     "text": [
      "Validating bootstrapped sample #84\n"
     ]
    },
    {
     "name": "stderr",
     "output_type": "stream",
     "text": [
      "overflow encountered in exp\n"
     ]
    },
    {
     "name": "stdout",
     "output_type": "stream",
     "text": [
      "Validating bootstrapped sample #85\n"
     ]
    },
    {
     "name": "stderr",
     "output_type": "stream",
     "text": [
      "overflow encountered in exp\n"
     ]
    },
    {
     "name": "stdout",
     "output_type": "stream",
     "text": [
      "Validating bootstrapped sample #86\n"
     ]
    },
    {
     "name": "stderr",
     "output_type": "stream",
     "text": [
      "overflow encountered in exp\n"
     ]
    },
    {
     "name": "stdout",
     "output_type": "stream",
     "text": [
      "Validating bootstrapped sample #87\n"
     ]
    },
    {
     "name": "stderr",
     "output_type": "stream",
     "text": [
      "overflow encountered in exp\n"
     ]
    },
    {
     "name": "stdout",
     "output_type": "stream",
     "text": [
      "Validating bootstrapped sample #88\n"
     ]
    },
    {
     "name": "stderr",
     "output_type": "stream",
     "text": [
      "overflow encountered in exp\n"
     ]
    },
    {
     "name": "stdout",
     "output_type": "stream",
     "text": [
      "Validating bootstrapped sample #89\n"
     ]
    },
    {
     "name": "stderr",
     "output_type": "stream",
     "text": [
      "overflow encountered in exp\n"
     ]
    },
    {
     "name": "stdout",
     "output_type": "stream",
     "text": [
      "Validating bootstrapped sample #90\n"
     ]
    },
    {
     "name": "stderr",
     "output_type": "stream",
     "text": [
      "overflow encountered in exp\n"
     ]
    },
    {
     "name": "stdout",
     "output_type": "stream",
     "text": [
      "Validating bootstrapped sample #91\n"
     ]
    },
    {
     "name": "stderr",
     "output_type": "stream",
     "text": [
      "overflow encountered in exp\n"
     ]
    },
    {
     "name": "stdout",
     "output_type": "stream",
     "text": [
      "Validating bootstrapped sample #92\n"
     ]
    },
    {
     "name": "stderr",
     "output_type": "stream",
     "text": [
      "overflow encountered in exp\n"
     ]
    },
    {
     "name": "stdout",
     "output_type": "stream",
     "text": [
      "Validating bootstrapped sample #93\n"
     ]
    },
    {
     "name": "stderr",
     "output_type": "stream",
     "text": [
      "overflow encountered in exp\n"
     ]
    },
    {
     "name": "stdout",
     "output_type": "stream",
     "text": [
      "Validating bootstrapped sample #94\n"
     ]
    },
    {
     "name": "stderr",
     "output_type": "stream",
     "text": [
      "overflow encountered in exp\n"
     ]
    },
    {
     "name": "stdout",
     "output_type": "stream",
     "text": [
      "Validating bootstrapped sample #95\n"
     ]
    },
    {
     "name": "stderr",
     "output_type": "stream",
     "text": [
      "overflow encountered in exp\n"
     ]
    },
    {
     "name": "stdout",
     "output_type": "stream",
     "text": [
      "Validating bootstrapped sample #96\n"
     ]
    },
    {
     "name": "stderr",
     "output_type": "stream",
     "text": [
      "overflow encountered in exp\n"
     ]
    },
    {
     "name": "stdout",
     "output_type": "stream",
     "text": [
      "Validating bootstrapped sample #97\n"
     ]
    },
    {
     "name": "stderr",
     "output_type": "stream",
     "text": [
      "overflow encountered in exp\n"
     ]
    },
    {
     "name": "stdout",
     "output_type": "stream",
     "text": [
      "Validating bootstrapped sample #98\n"
     ]
    },
    {
     "name": "stderr",
     "output_type": "stream",
     "text": [
      "overflow encountered in exp\n"
     ]
    },
    {
     "name": "stdout",
     "output_type": "stream",
     "text": [
      "Validating bootstrapped sample #99\n"
     ]
    },
    {
     "name": "stderr",
     "output_type": "stream",
     "text": [
      "overflow encountered in exp\n"
     ]
    },
    {
     "name": "stdout",
     "output_type": "stream",
     "text": [
      "Validating bootstrapped sample #100\n"
     ]
    },
    {
     "name": "stderr",
     "output_type": "stream",
     "text": [
      "overflow encountered in exp\n"
     ]
    },
    {
     "name": "stdout",
     "output_type": "stream",
     "text": [
      "Running experiment with following parameters: {'target': 'AKI', 'cohort': 'SINAI', 'bootstrap': 'yes', 'n_iterations': 100, 'n_ratio': 0.5}\n",
      "Validating bootstrapped sample #1\n",
      "Validating bootstrapped sample #2\n",
      "Validating bootstrapped sample #3\n",
      "Validating bootstrapped sample #4\n",
      "Validating bootstrapped sample #5\n",
      "Validating bootstrapped sample #6\n",
      "Validating bootstrapped sample #7\n",
      "Validating bootstrapped sample #8\n",
      "Validating bootstrapped sample #9\n",
      "Validating bootstrapped sample #10\n",
      "Validating bootstrapped sample #11\n",
      "Validating bootstrapped sample #12\n",
      "Validating bootstrapped sample #13\n",
      "Validating bootstrapped sample #14\n",
      "Validating bootstrapped sample #15\n",
      "Validating bootstrapped sample #16\n",
      "Validating bootstrapped sample #17\n",
      "Validating bootstrapped sample #18\n",
      "Validating bootstrapped sample #19\n",
      "Validating bootstrapped sample #20\n",
      "Validating bootstrapped sample #21\n",
      "Validating bootstrapped sample #22\n",
      "Validating bootstrapped sample #23\n",
      "Validating bootstrapped sample #24\n",
      "Validating bootstrapped sample #25\n",
      "Validating bootstrapped sample #26\n",
      "Validating bootstrapped sample #27\n",
      "Validating bootstrapped sample #28\n",
      "Validating bootstrapped sample #29\n",
      "Validating bootstrapped sample #30\n",
      "Validating bootstrapped sample #31\n",
      "Validating bootstrapped sample #32\n",
      "Validating bootstrapped sample #33\n",
      "Validating bootstrapped sample #34\n",
      "Validating bootstrapped sample #35\n",
      "Validating bootstrapped sample #36\n",
      "Validating bootstrapped sample #37\n",
      "Validating bootstrapped sample #38\n",
      "Validating bootstrapped sample #39\n",
      "Validating bootstrapped sample #40\n",
      "Validating bootstrapped sample #41\n",
      "Validating bootstrapped sample #42\n",
      "Validating bootstrapped sample #43\n",
      "Validating bootstrapped sample #44\n",
      "Validating bootstrapped sample #45\n",
      "Validating bootstrapped sample #46\n",
      "Validating bootstrapped sample #47\n",
      "Validating bootstrapped sample #48\n",
      "Validating bootstrapped sample #49\n",
      "Validating bootstrapped sample #50\n",
      "Validating bootstrapped sample #51\n",
      "Validating bootstrapped sample #52\n",
      "Validating bootstrapped sample #53\n",
      "Validating bootstrapped sample #54\n",
      "Validating bootstrapped sample #55\n",
      "Validating bootstrapped sample #56\n",
      "Validating bootstrapped sample #57\n",
      "Validating bootstrapped sample #58\n",
      "Validating bootstrapped sample #59\n",
      "Validating bootstrapped sample #60\n",
      "Validating bootstrapped sample #61\n",
      "Validating bootstrapped sample #62\n",
      "Validating bootstrapped sample #63\n",
      "Validating bootstrapped sample #64\n",
      "Validating bootstrapped sample #65\n",
      "Validating bootstrapped sample #66\n",
      "Validating bootstrapped sample #67\n",
      "Validating bootstrapped sample #68\n",
      "Validating bootstrapped sample #69\n",
      "Validating bootstrapped sample #70\n",
      "Validating bootstrapped sample #71\n",
      "Validating bootstrapped sample #72\n",
      "Validating bootstrapped sample #73\n",
      "Validating bootstrapped sample #74\n",
      "Validating bootstrapped sample #75\n",
      "Validating bootstrapped sample #76\n",
      "Validating bootstrapped sample #77\n",
      "Validating bootstrapped sample #78\n",
      "Validating bootstrapped sample #79\n",
      "Validating bootstrapped sample #80\n",
      "Validating bootstrapped sample #81\n",
      "Validating bootstrapped sample #82\n",
      "Validating bootstrapped sample #83\n",
      "Validating bootstrapped sample #84\n",
      "Validating bootstrapped sample #85\n",
      "Validating bootstrapped sample #86\n",
      "Validating bootstrapped sample #87\n",
      "Validating bootstrapped sample #88\n",
      "Validating bootstrapped sample #89\n",
      "Validating bootstrapped sample #90\n",
      "Validating bootstrapped sample #91\n",
      "Validating bootstrapped sample #92\n",
      "Validating bootstrapped sample #93\n",
      "Validating bootstrapped sample #94\n",
      "Validating bootstrapped sample #95\n",
      "Validating bootstrapped sample #96\n",
      "Validating bootstrapped sample #97\n",
      "Validating bootstrapped sample #98\n",
      "Validating bootstrapped sample #99\n",
      "Validating bootstrapped sample #100\n",
      "Running experiment with following parameters: {'target': 'AKI', 'cohort': 'SINAI', 'bootstrap': 'yes', 'n_iterations': 100, 'n_ratio': 0.5}\n"
     ]
    },
    {
     "name": "stderr",
     "output_type": "stream",
     "text": [
      "Precision and F-score are ill-defined and being set to 0.0 in labels with no predicted samples.\n",
      "invalid value encountered in long_scalars\n",
      "invalid value encountered in double_scalars\n",
      "invalid value encountered in sqrt\n",
      "invalid value encountered in double_scalars\n"
     ]
    },
    {
     "name": "stdout",
     "output_type": "stream",
     "text": [
      "Validating bootstrapped sample #1\n"
     ]
    },
    {
     "name": "stderr",
     "output_type": "stream",
     "text": [
      "Precision and F-score are ill-defined and being set to 0.0 in labels with no predicted samples.\n",
      "invalid value encountered in long_scalars\n",
      "invalid value encountered in double_scalars\n",
      "invalid value encountered in sqrt\n",
      "invalid value encountered in double_scalars\n",
      "Precision and F-score are ill-defined and being set to 0.0 in labels with no predicted samples.\n"
     ]
    },
    {
     "name": "stdout",
     "output_type": "stream",
     "text": [
      "Validating bootstrapped sample #2\n"
     ]
    },
    {
     "name": "stderr",
     "output_type": "stream",
     "text": [
      "invalid value encountered in long_scalars\n",
      "invalid value encountered in double_scalars\n",
      "invalid value encountered in sqrt\n",
      "invalid value encountered in double_scalars\n",
      "Precision and F-score are ill-defined and being set to 0.0 in labels with no predicted samples.\n",
      "invalid value encountered in long_scalars\n"
     ]
    },
    {
     "name": "stdout",
     "output_type": "stream",
     "text": [
      "Validating bootstrapped sample #3\n",
      "Validating bootstrapped sample #4\n"
     ]
    },
    {
     "name": "stderr",
     "output_type": "stream",
     "text": [
      "invalid value encountered in double_scalars\n",
      "invalid value encountered in sqrt\n",
      "invalid value encountered in double_scalars\n",
      "Precision and F-score are ill-defined and being set to 0.0 in labels with no predicted samples.\n",
      "invalid value encountered in long_scalars\n",
      "invalid value encountered in double_scalars\n",
      "invalid value encountered in sqrt\n",
      "invalid value encountered in double_scalars\n",
      "Precision and F-score are ill-defined and being set to 0.0 in labels with no predicted samples.\n",
      "invalid value encountered in long_scalars\n",
      "invalid value encountered in double_scalars\n",
      "invalid value encountered in sqrt\n",
      "invalid value encountered in double_scalars\n"
     ]
    },
    {
     "name": "stdout",
     "output_type": "stream",
     "text": [
      "Validating bootstrapped sample #5\n",
      "Validating bootstrapped sample #6\n"
     ]
    },
    {
     "name": "stderr",
     "output_type": "stream",
     "text": [
      "Precision and F-score are ill-defined and being set to 0.0 in labels with no predicted samples.\n",
      "invalid value encountered in long_scalars\n",
      "invalid value encountered in double_scalars\n",
      "invalid value encountered in sqrt\n",
      "invalid value encountered in double_scalars\n",
      "Precision and F-score are ill-defined and being set to 0.0 in labels with no predicted samples.\n"
     ]
    },
    {
     "name": "stdout",
     "output_type": "stream",
     "text": [
      "Validating bootstrapped sample #7\n",
      "Validating bootstrapped sample #8\n"
     ]
    },
    {
     "name": "stderr",
     "output_type": "stream",
     "text": [
      "invalid value encountered in long_scalars\n",
      "invalid value encountered in double_scalars\n",
      "invalid value encountered in sqrt\n",
      "invalid value encountered in double_scalars\n",
      "Precision and F-score are ill-defined and being set to 0.0 in labels with no predicted samples.\n",
      "invalid value encountered in long_scalars\n",
      "invalid value encountered in double_scalars\n",
      "invalid value encountered in sqrt\n",
      "invalid value encountered in double_scalars\n"
     ]
    },
    {
     "name": "stdout",
     "output_type": "stream",
     "text": [
      "Validating bootstrapped sample #9\n",
      "Validating bootstrapped sample #10\n"
     ]
    },
    {
     "name": "stderr",
     "output_type": "stream",
     "text": [
      "Precision and F-score are ill-defined and being set to 0.0 in labels with no predicted samples.\n",
      "invalid value encountered in long_scalars\n",
      "invalid value encountered in double_scalars\n",
      "invalid value encountered in sqrt\n",
      "invalid value encountered in double_scalars\n",
      "Precision and F-score are ill-defined and being set to 0.0 in labels with no predicted samples.\n",
      "invalid value encountered in long_scalars\n",
      "invalid value encountered in double_scalars\n",
      "invalid value encountered in sqrt\n",
      "invalid value encountered in double_scalars\n",
      "Precision and F-score are ill-defined and being set to 0.0 in labels with no predicted samples.\n"
     ]
    },
    {
     "name": "stdout",
     "output_type": "stream",
     "text": [
      "Validating bootstrapped sample #11\n"
     ]
    },
    {
     "name": "stderr",
     "output_type": "stream",
     "text": [
      "invalid value encountered in long_scalars\n",
      "invalid value encountered in double_scalars\n",
      "invalid value encountered in sqrt\n",
      "invalid value encountered in double_scalars\n",
      "Precision and F-score are ill-defined and being set to 0.0 in labels with no predicted samples.\n"
     ]
    },
    {
     "name": "stdout",
     "output_type": "stream",
     "text": [
      "Validating bootstrapped sample #12\n"
     ]
    },
    {
     "name": "stderr",
     "output_type": "stream",
     "text": [
      "invalid value encountered in long_scalars\n",
      "invalid value encountered in double_scalars\n",
      "invalid value encountered in sqrt\n",
      "invalid value encountered in double_scalars\n",
      "Precision and F-score are ill-defined and being set to 0.0 in labels with no predicted samples.\n",
      "invalid value encountered in long_scalars\n",
      "invalid value encountered in double_scalars\n",
      "invalid value encountered in sqrt\n",
      "invalid value encountered in double_scalars\n"
     ]
    },
    {
     "name": "stdout",
     "output_type": "stream",
     "text": [
      "Validating bootstrapped sample #13\n",
      "Validating bootstrapped sample #14\n"
     ]
    },
    {
     "name": "stderr",
     "output_type": "stream",
     "text": [
      "Precision and F-score are ill-defined and being set to 0.0 in labels with no predicted samples.\n",
      "invalid value encountered in long_scalars\n",
      "invalid value encountered in double_scalars\n",
      "invalid value encountered in sqrt\n",
      "invalid value encountered in double_scalars\n",
      "Precision and F-score are ill-defined and being set to 0.0 in labels with no predicted samples.\n"
     ]
    },
    {
     "name": "stdout",
     "output_type": "stream",
     "text": [
      "Validating bootstrapped sample #15\n"
     ]
    },
    {
     "name": "stderr",
     "output_type": "stream",
     "text": [
      "invalid value encountered in long_scalars\n",
      "invalid value encountered in double_scalars\n",
      "invalid value encountered in sqrt\n",
      "invalid value encountered in double_scalars\n",
      "Precision and F-score are ill-defined and being set to 0.0 in labels with no predicted samples.\n",
      "invalid value encountered in long_scalars\n",
      "invalid value encountered in double_scalars\n",
      "invalid value encountered in sqrt\n",
      "invalid value encountered in double_scalars\n"
     ]
    },
    {
     "name": "stdout",
     "output_type": "stream",
     "text": [
      "Validating bootstrapped sample #16\n",
      "Validating bootstrapped sample #17\n"
     ]
    },
    {
     "name": "stderr",
     "output_type": "stream",
     "text": [
      "Precision and F-score are ill-defined and being set to 0.0 in labels with no predicted samples.\n",
      "invalid value encountered in long_scalars\n",
      "invalid value encountered in double_scalars\n",
      "invalid value encountered in sqrt\n",
      "invalid value encountered in double_scalars\n"
     ]
    },
    {
     "name": "stdout",
     "output_type": "stream",
     "text": [
      "Validating bootstrapped sample #18\n",
      "Validating bootstrapped sample #19\n"
     ]
    },
    {
     "name": "stderr",
     "output_type": "stream",
     "text": [
      "Precision and F-score are ill-defined and being set to 0.0 in labels with no predicted samples.\n",
      "invalid value encountered in long_scalars\n",
      "invalid value encountered in double_scalars\n",
      "invalid value encountered in sqrt\n",
      "invalid value encountered in double_scalars\n",
      "Precision and F-score are ill-defined and being set to 0.0 in labels with no predicted samples.\n",
      "invalid value encountered in long_scalars\n",
      "invalid value encountered in double_scalars\n",
      "invalid value encountered in sqrt\n",
      "invalid value encountered in double_scalars\n",
      "Precision and F-score are ill-defined and being set to 0.0 in labels with no predicted samples.\n",
      "invalid value encountered in long_scalars\n",
      "invalid value encountered in double_scalars\n",
      "invalid value encountered in sqrt\n",
      "invalid value encountered in double_scalars\n"
     ]
    },
    {
     "name": "stdout",
     "output_type": "stream",
     "text": [
      "Validating bootstrapped sample #20\n",
      "Validating bootstrapped sample #21\n"
     ]
    },
    {
     "name": "stderr",
     "output_type": "stream",
     "text": [
      "Precision and F-score are ill-defined and being set to 0.0 in labels with no predicted samples.\n",
      "invalid value encountered in long_scalars\n",
      "invalid value encountered in double_scalars\n",
      "invalid value encountered in sqrt\n",
      "invalid value encountered in double_scalars\n"
     ]
    },
    {
     "name": "stdout",
     "output_type": "stream",
     "text": [
      "Validating bootstrapped sample #22\n"
     ]
    },
    {
     "name": "stderr",
     "output_type": "stream",
     "text": [
      "Precision and F-score are ill-defined and being set to 0.0 in labels with no predicted samples.\n",
      "invalid value encountered in long_scalars\n",
      "invalid value encountered in double_scalars\n",
      "invalid value encountered in sqrt\n",
      "invalid value encountered in double_scalars\n"
     ]
    },
    {
     "name": "stdout",
     "output_type": "stream",
     "text": [
      "Validating bootstrapped sample #23\n",
      "Validating bootstrapped sample #24\n"
     ]
    },
    {
     "name": "stderr",
     "output_type": "stream",
     "text": [
      "Precision and F-score are ill-defined and being set to 0.0 in labels with no predicted samples.\n",
      "invalid value encountered in long_scalars\n",
      "invalid value encountered in double_scalars\n",
      "invalid value encountered in sqrt\n",
      "invalid value encountered in double_scalars\n",
      "Precision and F-score are ill-defined and being set to 0.0 in labels with no predicted samples.\n",
      "invalid value encountered in long_scalars\n",
      "invalid value encountered in double_scalars\n",
      "invalid value encountered in sqrt\n",
      "invalid value encountered in double_scalars\n"
     ]
    },
    {
     "name": "stdout",
     "output_type": "stream",
     "text": [
      "Validating bootstrapped sample #25\n",
      "Validating bootstrapped sample #26\n"
     ]
    },
    {
     "name": "stderr",
     "output_type": "stream",
     "text": [
      "Precision and F-score are ill-defined and being set to 0.0 in labels with no predicted samples.\n",
      "invalid value encountered in long_scalars\n",
      "invalid value encountered in double_scalars\n",
      "invalid value encountered in sqrt\n",
      "invalid value encountered in double_scalars\n",
      "Precision and F-score are ill-defined and being set to 0.0 in labels with no predicted samples.\n",
      "invalid value encountered in long_scalars\n",
      "invalid value encountered in double_scalars\n",
      "invalid value encountered in sqrt\n",
      "invalid value encountered in double_scalars\n",
      "Precision and F-score are ill-defined and being set to 0.0 in labels with no predicted samples.\n",
      "invalid value encountered in long_scalars\n"
     ]
    },
    {
     "name": "stdout",
     "output_type": "stream",
     "text": [
      "Validating bootstrapped sample #27\n",
      "Validating bootstrapped sample #28\n"
     ]
    },
    {
     "name": "stderr",
     "output_type": "stream",
     "text": [
      "invalid value encountered in double_scalars\n",
      "invalid value encountered in sqrt\n",
      "invalid value encountered in double_scalars\n",
      "Precision and F-score are ill-defined and being set to 0.0 in labels with no predicted samples.\n",
      "invalid value encountered in long_scalars\n",
      "invalid value encountered in double_scalars\n",
      "invalid value encountered in sqrt\n",
      "invalid value encountered in double_scalars\n"
     ]
    },
    {
     "name": "stdout",
     "output_type": "stream",
     "text": [
      "Validating bootstrapped sample #29\n"
     ]
    },
    {
     "name": "stderr",
     "output_type": "stream",
     "text": [
      "Precision and F-score are ill-defined and being set to 0.0 in labels with no predicted samples.\n",
      "invalid value encountered in long_scalars\n",
      "invalid value encountered in double_scalars\n",
      "invalid value encountered in sqrt\n",
      "invalid value encountered in double_scalars\n"
     ]
    },
    {
     "name": "stdout",
     "output_type": "stream",
     "text": [
      "Validating bootstrapped sample #30\n",
      "Validating bootstrapped sample #31\n"
     ]
    },
    {
     "name": "stderr",
     "output_type": "stream",
     "text": [
      "Precision and F-score are ill-defined and being set to 0.0 in labels with no predicted samples.\n",
      "invalid value encountered in long_scalars\n",
      "invalid value encountered in double_scalars\n",
      "invalid value encountered in sqrt\n",
      "invalid value encountered in double_scalars\n",
      "Precision and F-score are ill-defined and being set to 0.0 in labels with no predicted samples.\n",
      "invalid value encountered in long_scalars\n",
      "invalid value encountered in double_scalars\n",
      "invalid value encountered in sqrt\n",
      "invalid value encountered in double_scalars\n"
     ]
    },
    {
     "name": "stdout",
     "output_type": "stream",
     "text": [
      "Validating bootstrapped sample #32\n"
     ]
    },
    {
     "name": "stderr",
     "output_type": "stream",
     "text": [
      "Precision and F-score are ill-defined and being set to 0.0 in labels with no predicted samples.\n",
      "invalid value encountered in long_scalars\n",
      "invalid value encountered in double_scalars\n",
      "invalid value encountered in sqrt\n",
      "invalid value encountered in double_scalars\n",
      "Precision and F-score are ill-defined and being set to 0.0 in labels with no predicted samples.\n"
     ]
    },
    {
     "name": "stdout",
     "output_type": "stream",
     "text": [
      "Validating bootstrapped sample #33\n",
      "Validating bootstrapped sample #34\n"
     ]
    },
    {
     "name": "stderr",
     "output_type": "stream",
     "text": [
      "invalid value encountered in long_scalars\n",
      "invalid value encountered in double_scalars\n",
      "invalid value encountered in sqrt\n",
      "invalid value encountered in double_scalars\n",
      "Precision and F-score are ill-defined and being set to 0.0 in labels with no predicted samples.\n",
      "invalid value encountered in long_scalars\n",
      "invalid value encountered in double_scalars\n",
      "invalid value encountered in sqrt\n",
      "invalid value encountered in double_scalars\n",
      "Precision and F-score are ill-defined and being set to 0.0 in labels with no predicted samples.\n"
     ]
    },
    {
     "name": "stdout",
     "output_type": "stream",
     "text": [
      "Validating bootstrapped sample #35\n"
     ]
    },
    {
     "name": "stderr",
     "output_type": "stream",
     "text": [
      "invalid value encountered in long_scalars\n",
      "invalid value encountered in double_scalars\n",
      "invalid value encountered in sqrt\n",
      "invalid value encountered in double_scalars\n",
      "Precision and F-score are ill-defined and being set to 0.0 in labels with no predicted samples.\n",
      "invalid value encountered in long_scalars\n",
      "invalid value encountered in double_scalars\n",
      "invalid value encountered in sqrt\n",
      "invalid value encountered in double_scalars\n"
     ]
    },
    {
     "name": "stdout",
     "output_type": "stream",
     "text": [
      "Validating bootstrapped sample #36\n",
      "Validating bootstrapped sample #37\n"
     ]
    },
    {
     "name": "stderr",
     "output_type": "stream",
     "text": [
      "Precision and F-score are ill-defined and being set to 0.0 in labels with no predicted samples.\n",
      "invalid value encountered in long_scalars\n",
      "invalid value encountered in double_scalars\n",
      "invalid value encountered in sqrt\n",
      "invalid value encountered in double_scalars\n"
     ]
    },
    {
     "name": "stdout",
     "output_type": "stream",
     "text": [
      "Validating bootstrapped sample #38\n"
     ]
    },
    {
     "name": "stderr",
     "output_type": "stream",
     "text": [
      "Precision and F-score are ill-defined and being set to 0.0 in labels with no predicted samples.\n",
      "invalid value encountered in long_scalars\n",
      "invalid value encountered in double_scalars\n",
      "invalid value encountered in sqrt\n",
      "invalid value encountered in double_scalars\n"
     ]
    },
    {
     "name": "stdout",
     "output_type": "stream",
     "text": [
      "Validating bootstrapped sample #39\n"
     ]
    },
    {
     "name": "stderr",
     "output_type": "stream",
     "text": [
      "Precision and F-score are ill-defined and being set to 0.0 in labels with no predicted samples.\n",
      "invalid value encountered in long_scalars\n",
      "invalid value encountered in double_scalars\n",
      "invalid value encountered in sqrt\n",
      "invalid value encountered in double_scalars\n",
      "Precision and F-score are ill-defined and being set to 0.0 in labels with no predicted samples.\n"
     ]
    },
    {
     "name": "stdout",
     "output_type": "stream",
     "text": [
      "Validating bootstrapped sample #40\n",
      "Validating bootstrapped sample #41\n"
     ]
    },
    {
     "name": "stderr",
     "output_type": "stream",
     "text": [
      "invalid value encountered in long_scalars\n",
      "invalid value encountered in double_scalars\n",
      "invalid value encountered in sqrt\n",
      "invalid value encountered in double_scalars\n",
      "Precision and F-score are ill-defined and being set to 0.0 in labels with no predicted samples.\n",
      "invalid value encountered in long_scalars\n",
      "invalid value encountered in double_scalars\n",
      "invalid value encountered in sqrt\n",
      "invalid value encountered in double_scalars\n"
     ]
    },
    {
     "name": "stdout",
     "output_type": "stream",
     "text": [
      "Validating bootstrapped sample #42\n",
      "Validating bootstrapped sample #43\n"
     ]
    },
    {
     "name": "stderr",
     "output_type": "stream",
     "text": [
      "Precision and F-score are ill-defined and being set to 0.0 in labels with no predicted samples.\n",
      "invalid value encountered in long_scalars\n",
      "invalid value encountered in double_scalars\n",
      "invalid value encountered in sqrt\n",
      "invalid value encountered in double_scalars\n",
      "Precision and F-score are ill-defined and being set to 0.0 in labels with no predicted samples.\n",
      "invalid value encountered in long_scalars\n",
      "invalid value encountered in double_scalars\n",
      "invalid value encountered in sqrt\n",
      "invalid value encountered in double_scalars\n",
      "Precision and F-score are ill-defined and being set to 0.0 in labels with no predicted samples.\n",
      "invalid value encountered in long_scalars\n",
      "invalid value encountered in double_scalars\n",
      "invalid value encountered in sqrt\n",
      "invalid value encountered in double_scalars\n"
     ]
    },
    {
     "name": "stdout",
     "output_type": "stream",
     "text": [
      "Validating bootstrapped sample #44\n",
      "Validating bootstrapped sample #45\n"
     ]
    },
    {
     "name": "stderr",
     "output_type": "stream",
     "text": [
      "Precision and F-score are ill-defined and being set to 0.0 in labels with no predicted samples.\n",
      "invalid value encountered in long_scalars\n",
      "invalid value encountered in double_scalars\n",
      "invalid value encountered in sqrt\n",
      "invalid value encountered in double_scalars\n",
      "Precision and F-score are ill-defined and being set to 0.0 in labels with no predicted samples.\n"
     ]
    },
    {
     "name": "stdout",
     "output_type": "stream",
     "text": [
      "Validating bootstrapped sample #46\n",
      "Validating bootstrapped sample #47\n"
     ]
    },
    {
     "name": "stderr",
     "output_type": "stream",
     "text": [
      "invalid value encountered in long_scalars\n",
      "invalid value encountered in double_scalars\n",
      "invalid value encountered in sqrt\n",
      "invalid value encountered in double_scalars\n",
      "Precision and F-score are ill-defined and being set to 0.0 in labels with no predicted samples.\n",
      "invalid value encountered in long_scalars\n",
      "invalid value encountered in double_scalars\n",
      "invalid value encountered in sqrt\n",
      "invalid value encountered in double_scalars\n",
      "Precision and F-score are ill-defined and being set to 0.0 in labels with no predicted samples.\n",
      "invalid value encountered in long_scalars\n"
     ]
    },
    {
     "name": "stdout",
     "output_type": "stream",
     "text": [
      "Validating bootstrapped sample #48\n",
      "Validating bootstrapped sample #49\n"
     ]
    },
    {
     "name": "stderr",
     "output_type": "stream",
     "text": [
      "invalid value encountered in double_scalars\n",
      "invalid value encountered in sqrt\n",
      "invalid value encountered in double_scalars\n",
      "Precision and F-score are ill-defined and being set to 0.0 in labels with no predicted samples.\n",
      "invalid value encountered in long_scalars\n",
      "invalid value encountered in double_scalars\n",
      "invalid value encountered in sqrt\n",
      "invalid value encountered in double_scalars\n",
      "Precision and F-score are ill-defined and being set to 0.0 in labels with no predicted samples.\n"
     ]
    },
    {
     "name": "stdout",
     "output_type": "stream",
     "text": [
      "Validating bootstrapped sample #50\n"
     ]
    },
    {
     "name": "stderr",
     "output_type": "stream",
     "text": [
      "invalid value encountered in long_scalars\n",
      "invalid value encountered in double_scalars\n",
      "invalid value encountered in sqrt\n",
      "invalid value encountered in double_scalars\n",
      "Precision and F-score are ill-defined and being set to 0.0 in labels with no predicted samples.\n",
      "invalid value encountered in long_scalars\n",
      "invalid value encountered in double_scalars\n",
      "invalid value encountered in sqrt\n",
      "invalid value encountered in double_scalars\n"
     ]
    },
    {
     "name": "stdout",
     "output_type": "stream",
     "text": [
      "Validating bootstrapped sample #51\n",
      "Validating bootstrapped sample #52\n"
     ]
    },
    {
     "name": "stderr",
     "output_type": "stream",
     "text": [
      "Precision and F-score are ill-defined and being set to 0.0 in labels with no predicted samples.\n",
      "invalid value encountered in long_scalars\n",
      "invalid value encountered in double_scalars\n",
      "invalid value encountered in sqrt\n",
      "invalid value encountered in double_scalars\n",
      "Precision and F-score are ill-defined and being set to 0.0 in labels with no predicted samples.\n"
     ]
    },
    {
     "name": "stdout",
     "output_type": "stream",
     "text": [
      "Validating bootstrapped sample #53\n",
      "Validating bootstrapped sample #54\n"
     ]
    },
    {
     "name": "stderr",
     "output_type": "stream",
     "text": [
      "invalid value encountered in long_scalars\n",
      "invalid value encountered in double_scalars\n",
      "invalid value encountered in sqrt\n",
      "invalid value encountered in double_scalars\n",
      "Precision and F-score are ill-defined and being set to 0.0 in labels with no predicted samples.\n",
      "invalid value encountered in long_scalars\n",
      "invalid value encountered in double_scalars\n",
      "invalid value encountered in sqrt\n",
      "invalid value encountered in double_scalars\n"
     ]
    },
    {
     "name": "stdout",
     "output_type": "stream",
     "text": [
      "Validating bootstrapped sample #55\n",
      "Validating bootstrapped sample #56\n"
     ]
    },
    {
     "name": "stderr",
     "output_type": "stream",
     "text": [
      "Precision and F-score are ill-defined and being set to 0.0 in labels with no predicted samples.\n",
      "invalid value encountered in long_scalars\n",
      "invalid value encountered in double_scalars\n",
      "invalid value encountered in sqrt\n",
      "invalid value encountered in double_scalars\n",
      "Precision and F-score are ill-defined and being set to 0.0 in labels with no predicted samples.\n",
      "invalid value encountered in long_scalars\n",
      "invalid value encountered in double_scalars\n",
      "invalid value encountered in sqrt\n",
      "invalid value encountered in double_scalars\n",
      "Precision and F-score are ill-defined and being set to 0.0 in labels with no predicted samples.\n",
      "invalid value encountered in long_scalars\n",
      "invalid value encountered in double_scalars\n",
      "invalid value encountered in sqrt\n",
      "invalid value encountered in double_scalars\n"
     ]
    },
    {
     "name": "stdout",
     "output_type": "stream",
     "text": [
      "Validating bootstrapped sample #57\n",
      "Validating bootstrapped sample #58\n"
     ]
    },
    {
     "name": "stderr",
     "output_type": "stream",
     "text": [
      "Precision and F-score are ill-defined and being set to 0.0 in labels with no predicted samples.\n",
      "invalid value encountered in long_scalars\n",
      "invalid value encountered in double_scalars\n",
      "invalid value encountered in sqrt\n",
      "invalid value encountered in double_scalars\n"
     ]
    },
    {
     "name": "stdout",
     "output_type": "stream",
     "text": [
      "Validating bootstrapped sample #59\n"
     ]
    },
    {
     "name": "stderr",
     "output_type": "stream",
     "text": [
      "Precision and F-score are ill-defined and being set to 0.0 in labels with no predicted samples.\n",
      "invalid value encountered in long_scalars\n",
      "invalid value encountered in double_scalars\n",
      "invalid value encountered in sqrt\n",
      "invalid value encountered in double_scalars\n"
     ]
    },
    {
     "name": "stdout",
     "output_type": "stream",
     "text": [
      "Validating bootstrapped sample #60\n"
     ]
    },
    {
     "name": "stderr",
     "output_type": "stream",
     "text": [
      "Precision and F-score are ill-defined and being set to 0.0 in labels with no predicted samples.\n",
      "invalid value encountered in long_scalars\n",
      "invalid value encountered in double_scalars\n",
      "invalid value encountered in sqrt\n",
      "invalid value encountered in double_scalars\n",
      "Precision and F-score are ill-defined and being set to 0.0 in labels with no predicted samples.\n"
     ]
    },
    {
     "name": "stdout",
     "output_type": "stream",
     "text": [
      "Validating bootstrapped sample #61\n",
      "Validating bootstrapped sample #62\n"
     ]
    },
    {
     "name": "stderr",
     "output_type": "stream",
     "text": [
      "invalid value encountered in long_scalars\n",
      "invalid value encountered in double_scalars\n",
      "invalid value encountered in sqrt\n",
      "invalid value encountered in double_scalars\n",
      "Precision and F-score are ill-defined and being set to 0.0 in labels with no predicted samples.\n",
      "invalid value encountered in long_scalars\n",
      "invalid value encountered in double_scalars\n",
      "invalid value encountered in sqrt\n",
      "invalid value encountered in double_scalars\n"
     ]
    },
    {
     "name": "stdout",
     "output_type": "stream",
     "text": [
      "Validating bootstrapped sample #63\n",
      "Validating bootstrapped sample #64\n"
     ]
    },
    {
     "name": "stderr",
     "output_type": "stream",
     "text": [
      "Precision and F-score are ill-defined and being set to 0.0 in labels with no predicted samples.\n",
      "invalid value encountered in long_scalars\n",
      "invalid value encountered in double_scalars\n",
      "invalid value encountered in sqrt\n",
      "invalid value encountered in double_scalars\n",
      "Precision and F-score are ill-defined and being set to 0.0 in labels with no predicted samples.\n",
      "invalid value encountered in long_scalars\n",
      "invalid value encountered in double_scalars\n",
      "invalid value encountered in sqrt\n",
      "invalid value encountered in double_scalars\n",
      "Precision and F-score are ill-defined and being set to 0.0 in labels with no predicted samples.\n"
     ]
    },
    {
     "name": "stdout",
     "output_type": "stream",
     "text": [
      "Validating bootstrapped sample #65\n"
     ]
    },
    {
     "name": "stderr",
     "output_type": "stream",
     "text": [
      "invalid value encountered in long_scalars\n",
      "invalid value encountered in double_scalars\n",
      "invalid value encountered in sqrt\n",
      "invalid value encountered in double_scalars\n",
      "Precision and F-score are ill-defined and being set to 0.0 in labels with no predicted samples.\n"
     ]
    },
    {
     "name": "stdout",
     "output_type": "stream",
     "text": [
      "Validating bootstrapped sample #66\n"
     ]
    },
    {
     "name": "stderr",
     "output_type": "stream",
     "text": [
      "invalid value encountered in long_scalars\n",
      "invalid value encountered in double_scalars\n",
      "invalid value encountered in sqrt\n",
      "invalid value encountered in double_scalars\n",
      "Precision and F-score are ill-defined and being set to 0.0 in labels with no predicted samples.\n",
      "invalid value encountered in long_scalars\n",
      "invalid value encountered in double_scalars\n",
      "invalid value encountered in sqrt\n",
      "invalid value encountered in double_scalars\n"
     ]
    },
    {
     "name": "stdout",
     "output_type": "stream",
     "text": [
      "Validating bootstrapped sample #67\n",
      "Validating bootstrapped sample #68\n"
     ]
    },
    {
     "name": "stderr",
     "output_type": "stream",
     "text": [
      "Precision and F-score are ill-defined and being set to 0.0 in labels with no predicted samples.\n",
      "invalid value encountered in long_scalars\n",
      "invalid value encountered in double_scalars\n",
      "invalid value encountered in sqrt\n",
      "invalid value encountered in double_scalars\n"
     ]
    },
    {
     "name": "stdout",
     "output_type": "stream",
     "text": [
      "Validating bootstrapped sample #69\n"
     ]
    },
    {
     "name": "stderr",
     "output_type": "stream",
     "text": [
      "Precision and F-score are ill-defined and being set to 0.0 in labels with no predicted samples.\n",
      "invalid value encountered in long_scalars\n",
      "invalid value encountered in double_scalars\n",
      "invalid value encountered in sqrt\n",
      "invalid value encountered in double_scalars\n"
     ]
    },
    {
     "name": "stdout",
     "output_type": "stream",
     "text": [
      "Validating bootstrapped sample #70\n",
      "Validating bootstrapped sample #71\n"
     ]
    },
    {
     "name": "stderr",
     "output_type": "stream",
     "text": [
      "Precision and F-score are ill-defined and being set to 0.0 in labels with no predicted samples.\n",
      "invalid value encountered in long_scalars\n",
      "invalid value encountered in double_scalars\n",
      "invalid value encountered in sqrt\n",
      "invalid value encountered in double_scalars\n",
      "Precision and F-score are ill-defined and being set to 0.0 in labels with no predicted samples.\n",
      "invalid value encountered in long_scalars\n",
      "invalid value encountered in double_scalars\n",
      "invalid value encountered in sqrt\n",
      "invalid value encountered in double_scalars\n"
     ]
    },
    {
     "name": "stdout",
     "output_type": "stream",
     "text": [
      "Validating bootstrapped sample #72\n"
     ]
    },
    {
     "name": "stderr",
     "output_type": "stream",
     "text": [
      "Precision and F-score are ill-defined and being set to 0.0 in labels with no predicted samples.\n",
      "invalid value encountered in long_scalars\n",
      "invalid value encountered in double_scalars\n",
      "invalid value encountered in sqrt\n",
      "invalid value encountered in double_scalars\n"
     ]
    },
    {
     "name": "stdout",
     "output_type": "stream",
     "text": [
      "Validating bootstrapped sample #73\n"
     ]
    },
    {
     "name": "stderr",
     "output_type": "stream",
     "text": [
      "Precision and F-score are ill-defined and being set to 0.0 in labels with no predicted samples.\n",
      "invalid value encountered in long_scalars\n",
      "invalid value encountered in double_scalars\n",
      "invalid value encountered in sqrt\n",
      "invalid value encountered in double_scalars\n",
      "Precision and F-score are ill-defined and being set to 0.0 in labels with no predicted samples.\n"
     ]
    },
    {
     "name": "stdout",
     "output_type": "stream",
     "text": [
      "Validating bootstrapped sample #74\n"
     ]
    },
    {
     "name": "stderr",
     "output_type": "stream",
     "text": [
      "invalid value encountered in long_scalars\n",
      "invalid value encountered in double_scalars\n",
      "invalid value encountered in sqrt\n",
      "invalid value encountered in double_scalars\n",
      "Precision and F-score are ill-defined and being set to 0.0 in labels with no predicted samples.\n",
      "invalid value encountered in long_scalars\n",
      "invalid value encountered in double_scalars\n",
      "invalid value encountered in sqrt\n",
      "invalid value encountered in double_scalars\n"
     ]
    },
    {
     "name": "stdout",
     "output_type": "stream",
     "text": [
      "Validating bootstrapped sample #75\n",
      "Validating bootstrapped sample #76\n"
     ]
    },
    {
     "name": "stderr",
     "output_type": "stream",
     "text": [
      "Precision and F-score are ill-defined and being set to 0.0 in labels with no predicted samples.\n",
      "invalid value encountered in long_scalars\n",
      "invalid value encountered in double_scalars\n",
      "invalid value encountered in sqrt\n",
      "invalid value encountered in double_scalars\n",
      "Precision and F-score are ill-defined and being set to 0.0 in labels with no predicted samples.\n"
     ]
    },
    {
     "name": "stdout",
     "output_type": "stream",
     "text": [
      "Validating bootstrapped sample #77\n",
      "Validating bootstrapped sample #78\n"
     ]
    },
    {
     "name": "stderr",
     "output_type": "stream",
     "text": [
      "invalid value encountered in long_scalars\n",
      "invalid value encountered in double_scalars\n",
      "invalid value encountered in sqrt\n",
      "invalid value encountered in double_scalars\n",
      "Precision and F-score are ill-defined and being set to 0.0 in labels with no predicted samples.\n",
      "invalid value encountered in long_scalars\n",
      "invalid value encountered in double_scalars\n",
      "invalid value encountered in sqrt\n",
      "invalid value encountered in double_scalars\n",
      "Precision and F-score are ill-defined and being set to 0.0 in labels with no predicted samples.\n",
      "invalid value encountered in long_scalars\n",
      "invalid value encountered in double_scalars\n",
      "invalid value encountered in sqrt\n",
      "invalid value encountered in double_scalars\n"
     ]
    },
    {
     "name": "stdout",
     "output_type": "stream",
     "text": [
      "Validating bootstrapped sample #79\n",
      "Validating bootstrapped sample #80\n"
     ]
    },
    {
     "name": "stderr",
     "output_type": "stream",
     "text": [
      "Precision and F-score are ill-defined and being set to 0.0 in labels with no predicted samples.\n",
      "invalid value encountered in long_scalars\n",
      "invalid value encountered in double_scalars\n",
      "invalid value encountered in sqrt\n",
      "invalid value encountered in double_scalars\n",
      "Precision and F-score are ill-defined and being set to 0.0 in labels with no predicted samples.\n"
     ]
    },
    {
     "name": "stdout",
     "output_type": "stream",
     "text": [
      "Validating bootstrapped sample #81\n",
      "Validating bootstrapped sample #82\n"
     ]
    },
    {
     "name": "stderr",
     "output_type": "stream",
     "text": [
      "invalid value encountered in long_scalars\n",
      "invalid value encountered in double_scalars\n",
      "invalid value encountered in sqrt\n",
      "invalid value encountered in double_scalars\n",
      "Precision and F-score are ill-defined and being set to 0.0 in labels with no predicted samples.\n",
      "invalid value encountered in long_scalars\n",
      "invalid value encountered in double_scalars\n",
      "invalid value encountered in sqrt\n",
      "invalid value encountered in double_scalars\n"
     ]
    },
    {
     "name": "stdout",
     "output_type": "stream",
     "text": [
      "Validating bootstrapped sample #83\n",
      "Validating bootstrapped sample #84\n"
     ]
    },
    {
     "name": "stderr",
     "output_type": "stream",
     "text": [
      "Precision and F-score are ill-defined and being set to 0.0 in labels with no predicted samples.\n",
      "invalid value encountered in long_scalars\n",
      "invalid value encountered in double_scalars\n",
      "invalid value encountered in sqrt\n",
      "invalid value encountered in double_scalars\n",
      "Precision and F-score are ill-defined and being set to 0.0 in labels with no predicted samples.\n",
      "invalid value encountered in long_scalars\n",
      "invalid value encountered in double_scalars\n",
      "invalid value encountered in sqrt\n",
      "invalid value encountered in double_scalars\n",
      "Precision and F-score are ill-defined and being set to 0.0 in labels with no predicted samples.\n",
      "invalid value encountered in long_scalars\n",
      "invalid value encountered in double_scalars\n",
      "invalid value encountered in sqrt\n",
      "invalid value encountered in double_scalars\n"
     ]
    },
    {
     "name": "stdout",
     "output_type": "stream",
     "text": [
      "Validating bootstrapped sample #85\n",
      "Validating bootstrapped sample #86\n"
     ]
    },
    {
     "name": "stderr",
     "output_type": "stream",
     "text": [
      "Precision and F-score are ill-defined and being set to 0.0 in labels with no predicted samples.\n",
      "invalid value encountered in long_scalars\n",
      "invalid value encountered in double_scalars\n",
      "invalid value encountered in sqrt\n",
      "invalid value encountered in double_scalars\n",
      "Precision and F-score are ill-defined and being set to 0.0 in labels with no predicted samples.\n"
     ]
    },
    {
     "name": "stdout",
     "output_type": "stream",
     "text": [
      "Validating bootstrapped sample #87\n",
      "Validating bootstrapped sample #88\n"
     ]
    },
    {
     "name": "stderr",
     "output_type": "stream",
     "text": [
      "invalid value encountered in long_scalars\n",
      "invalid value encountered in double_scalars\n",
      "invalid value encountered in sqrt\n",
      "invalid value encountered in double_scalars\n",
      "Precision and F-score are ill-defined and being set to 0.0 in labels with no predicted samples.\n",
      "invalid value encountered in long_scalars\n",
      "invalid value encountered in double_scalars\n",
      "invalid value encountered in sqrt\n",
      "invalid value encountered in double_scalars\n",
      "Precision and F-score are ill-defined and being set to 0.0 in labels with no predicted samples.\n",
      "invalid value encountered in long_scalars\n"
     ]
    },
    {
     "name": "stdout",
     "output_type": "stream",
     "text": [
      "Validating bootstrapped sample #89\n",
      "Validating bootstrapped sample #90\n"
     ]
    },
    {
     "name": "stderr",
     "output_type": "stream",
     "text": [
      "invalid value encountered in double_scalars\n",
      "invalid value encountered in sqrt\n",
      "invalid value encountered in double_scalars\n",
      "Precision and F-score are ill-defined and being set to 0.0 in labels with no predicted samples.\n",
      "invalid value encountered in long_scalars\n",
      "invalid value encountered in double_scalars\n",
      "invalid value encountered in sqrt\n",
      "invalid value encountered in double_scalars\n"
     ]
    },
    {
     "name": "stdout",
     "output_type": "stream",
     "text": [
      "Validating bootstrapped sample #91\n",
      "Validating bootstrapped sample #92\n"
     ]
    },
    {
     "name": "stderr",
     "output_type": "stream",
     "text": [
      "Precision and F-score are ill-defined and being set to 0.0 in labels with no predicted samples.\n",
      "invalid value encountered in long_scalars\n",
      "invalid value encountered in double_scalars\n",
      "invalid value encountered in sqrt\n",
      "invalid value encountered in double_scalars\n",
      "Precision and F-score are ill-defined and being set to 0.0 in labels with no predicted samples.\n",
      "invalid value encountered in long_scalars\n",
      "invalid value encountered in double_scalars\n",
      "invalid value encountered in sqrt\n",
      "invalid value encountered in double_scalars\n",
      "Precision and F-score are ill-defined and being set to 0.0 in labels with no predicted samples.\n",
      "invalid value encountered in long_scalars\n",
      "invalid value encountered in double_scalars\n",
      "invalid value encountered in sqrt\n",
      "invalid value encountered in double_scalars\n"
     ]
    },
    {
     "name": "stdout",
     "output_type": "stream",
     "text": [
      "Validating bootstrapped sample #93\n",
      "Validating bootstrapped sample #94\n"
     ]
    },
    {
     "name": "stderr",
     "output_type": "stream",
     "text": [
      "Precision and F-score are ill-defined and being set to 0.0 in labels with no predicted samples.\n",
      "invalid value encountered in long_scalars\n",
      "invalid value encountered in double_scalars\n",
      "invalid value encountered in sqrt\n",
      "invalid value encountered in double_scalars\n",
      "Precision and F-score are ill-defined and being set to 0.0 in labels with no predicted samples.\n"
     ]
    },
    {
     "name": "stdout",
     "output_type": "stream",
     "text": [
      "Validating bootstrapped sample #95\n"
     ]
    },
    {
     "name": "stderr",
     "output_type": "stream",
     "text": [
      "invalid value encountered in long_scalars\n",
      "invalid value encountered in double_scalars\n",
      "invalid value encountered in sqrt\n",
      "invalid value encountered in double_scalars\n",
      "Precision and F-score are ill-defined and being set to 0.0 in labels with no predicted samples.\n",
      "invalid value encountered in long_scalars\n"
     ]
    },
    {
     "name": "stdout",
     "output_type": "stream",
     "text": [
      "Validating bootstrapped sample #96\n",
      "Validating bootstrapped sample #97\n"
     ]
    },
    {
     "name": "stderr",
     "output_type": "stream",
     "text": [
      "invalid value encountered in double_scalars\n",
      "invalid value encountered in sqrt\n",
      "invalid value encountered in double_scalars\n",
      "Precision and F-score are ill-defined and being set to 0.0 in labels with no predicted samples.\n",
      "invalid value encountered in long_scalars\n",
      "invalid value encountered in double_scalars\n",
      "invalid value encountered in sqrt\n",
      "invalid value encountered in double_scalars\n"
     ]
    },
    {
     "name": "stdout",
     "output_type": "stream",
     "text": [
      "Validating bootstrapped sample #98\n",
      "Validating bootstrapped sample #99\n"
     ]
    },
    {
     "name": "stderr",
     "output_type": "stream",
     "text": [
      "Precision and F-score are ill-defined and being set to 0.0 in labels with no predicted samples.\n",
      "invalid value encountered in long_scalars\n",
      "invalid value encountered in double_scalars\n",
      "invalid value encountered in sqrt\n",
      "invalid value encountered in double_scalars\n",
      "Precision and F-score are ill-defined and being set to 0.0 in labels with no predicted samples.\n",
      "invalid value encountered in long_scalars\n",
      "invalid value encountered in double_scalars\n",
      "invalid value encountered in sqrt\n",
      "invalid value encountered in double_scalars\n",
      "Precision and F-score are ill-defined and being set to 0.0 in labels with no predicted samples.\n",
      "invalid value encountered in long_scalars\n",
      "invalid value encountered in double_scalars\n",
      "invalid value encountered in sqrt\n",
      "invalid value encountered in double_scalars\n"
     ]
    },
    {
     "name": "stdout",
     "output_type": "stream",
     "text": [
      "Validating bootstrapped sample #100\n",
      "Running experiment with following parameters: {'target': 'AKI', 'cohort': 'SINAI', 'bootstrap': 'yes', 'n_iterations': 100, 'n_ratio': 0.5}\n",
      "Validating bootstrapped sample #1\n",
      "Validating bootstrapped sample #2\n",
      "Validating bootstrapped sample #3\n",
      "Validating bootstrapped sample #4\n",
      "Validating bootstrapped sample #5\n",
      "Validating bootstrapped sample #6\n",
      "Validating bootstrapped sample #7\n",
      "Validating bootstrapped sample #8\n",
      "Validating bootstrapped sample #9\n",
      "Validating bootstrapped sample #10\n",
      "Validating bootstrapped sample #11\n",
      "Validating bootstrapped sample #12\n",
      "Validating bootstrapped sample #13\n",
      "Validating bootstrapped sample #14\n",
      "Validating bootstrapped sample #15\n",
      "Validating bootstrapped sample #16\n",
      "Validating bootstrapped sample #17\n",
      "Validating bootstrapped sample #18\n",
      "Validating bootstrapped sample #19\n",
      "Validating bootstrapped sample #20\n",
      "Validating bootstrapped sample #21\n",
      "Validating bootstrapped sample #22\n",
      "Validating bootstrapped sample #23\n",
      "Validating bootstrapped sample #24\n",
      "Validating bootstrapped sample #25\n",
      "Validating bootstrapped sample #26\n",
      "Validating bootstrapped sample #27\n",
      "Validating bootstrapped sample #28\n",
      "Validating bootstrapped sample #29\n",
      "Validating bootstrapped sample #30\n",
      "Validating bootstrapped sample #31\n",
      "Validating bootstrapped sample #32\n",
      "Validating bootstrapped sample #33\n",
      "Validating bootstrapped sample #34\n",
      "Validating bootstrapped sample #35\n",
      "Validating bootstrapped sample #36\n",
      "Validating bootstrapped sample #37\n",
      "Validating bootstrapped sample #38\n",
      "Validating bootstrapped sample #39\n",
      "Validating bootstrapped sample #40\n",
      "Validating bootstrapped sample #41\n",
      "Validating bootstrapped sample #42\n",
      "Validating bootstrapped sample #43\n",
      "Validating bootstrapped sample #44\n",
      "Validating bootstrapped sample #45\n",
      "Validating bootstrapped sample #46\n",
      "Validating bootstrapped sample #47\n",
      "Validating bootstrapped sample #48\n",
      "Validating bootstrapped sample #49\n",
      "Validating bootstrapped sample #50\n",
      "Validating bootstrapped sample #51\n",
      "Validating bootstrapped sample #52\n",
      "Validating bootstrapped sample #53\n",
      "Validating bootstrapped sample #54\n",
      "Validating bootstrapped sample #55\n",
      "Validating bootstrapped sample #56\n",
      "Validating bootstrapped sample #57\n",
      "Validating bootstrapped sample #58\n",
      "Validating bootstrapped sample #59\n",
      "Validating bootstrapped sample #60\n",
      "Validating bootstrapped sample #61\n",
      "Validating bootstrapped sample #62\n",
      "Validating bootstrapped sample #63\n",
      "Validating bootstrapped sample #64\n",
      "Validating bootstrapped sample #65\n",
      "Validating bootstrapped sample #66\n",
      "Validating bootstrapped sample #67\n",
      "Validating bootstrapped sample #68\n",
      "Validating bootstrapped sample #69\n",
      "Validating bootstrapped sample #70\n",
      "Validating bootstrapped sample #71\n",
      "Validating bootstrapped sample #72\n",
      "Validating bootstrapped sample #73\n",
      "Validating bootstrapped sample #74\n",
      "Validating bootstrapped sample #75\n",
      "Validating bootstrapped sample #76\n",
      "Validating bootstrapped sample #77\n",
      "Validating bootstrapped sample #78\n",
      "Validating bootstrapped sample #79\n",
      "Validating bootstrapped sample #80\n",
      "Validating bootstrapped sample #81\n",
      "Validating bootstrapped sample #82\n",
      "Validating bootstrapped sample #83\n",
      "Validating bootstrapped sample #84\n",
      "Validating bootstrapped sample #85\n",
      "Validating bootstrapped sample #86\n",
      "Validating bootstrapped sample #87\n",
      "Validating bootstrapped sample #88\n",
      "Validating bootstrapped sample #89\n",
      "Validating bootstrapped sample #90\n",
      "Validating bootstrapped sample #91\n",
      "Validating bootstrapped sample #92\n",
      "Validating bootstrapped sample #93\n",
      "Validating bootstrapped sample #94\n",
      "Validating bootstrapped sample #95\n",
      "Validating bootstrapped sample #96\n",
      "Validating bootstrapped sample #97\n",
      "Validating bootstrapped sample #98\n",
      "Validating bootstrapped sample #99\n",
      "Validating bootstrapped sample #100\n",
      "Running 7 validation experiments took 265.956 sec.\n",
      "{'f524fae8-2113-11ea-bee5-000d3a0e06d9': {'parameters': {'target': 'AKI', 'cohort': 'SINAI', 'bootstrap': 'yes', 'n_iterations': 100, 'n_ratio': 0.5, 'model_features': ['GENDER', 'AGE_AT_ADMISSION', 'AKI', 'ELIXHAUSER_SCORE', 'AIDS', 'ALCOHOL_ABUSE', 'BLOOD_LOSS_ANEMIA', 'CARDIAC_ARRHYTHMIAS', 'CHRONIC_PULMONARY', 'COAGULOPATHY', 'CONGESTIVE_HEART_FAILURE', 'DEFICIENCY_ANEMIAS', 'DEPRESSION', 'DIABETES_COMPLICATED', 'DIABETES_UNCOMPLICATED', 'DRUG_ABUSE', 'FLUID_ELECTROLYTE', 'HYPERTENSION', 'HYPOTHYROIDISM', 'LIVER_DISEASE', 'LYMPHOMA', 'METASTATIC_CANCER', 'OBESITY', 'OTHER_NEUROLOGICAL', 'PARALYSIS', 'PEPTIC_ULCER', 'PERIPHERAL_VASCULAR', 'PSYCHOSES', 'PULMONARY_CIRCULATION', 'RENAL_FAILURE', 'RHEUMATOID_ARTHRITIS', 'SOLID_TUMOR', 'VALVULAR_DISEASE', 'WEIGHT_LOSS', 'BUN_DTS_1.0', 'BUN_DTS_2.0', 'BUN_DTS_3.0', 'BLD CREA_DTS_1.0', 'BLD CREA_DTS_2.0', 'BLD CREA_DTS_3.0', 'ANION GAP_DTS_1.0', 'ANION GAP_DTS_2.0', 'ANION GAP_DTS_3.0', 'ALBUMIN_DTS_1.0', 'ALBUMIN_DTS_2.0', 'ALBUMIN_DTS_3.0', 'BILIRUBIN_DTS_1.0', 'BILIRUBIN_DTS_2.0', 'BILIRUBIN_DTS_3.0', 'CHLORIDE_DTS_1.0', 'CHLORIDE_DTS_2.0', 'CHLORIDE_DTS_3.0', 'CHLORIDE (WHOLE BLOOD)_DTS_1.0', 'CHLORIDE (WHOLE BLOOD)_DTS_2.0', 'CHLORIDE (WHOLE BLOOD)_DTS_3.0', 'GLUCOSE_DTS_1.0', 'GLUCOSE_DTS_2.0', 'GLUCOSE_DTS_3.0', 'GLUCOSE (BLOOD GAS)_DTS_1.0', 'GLUCOSE (BLOOD GAS)_DTS_2.0', 'GLUCOSE (BLOOD GAS)_DTS_3.0', 'HEMATOCRIT_DTS_1.0', 'HEMATOCRIT_DTS_2.0', 'HEMATOCRIT_DTS_3.0', 'HEMATOCRIT (CALCULATED)_DTS_1.0', 'HEMATOCRIT (CALCULATED)_DTS_2.0', 'HEMATOCRIT (CALCULATED)_DTS_3.0', 'HEMOGLOBIN_DTS_1.0', 'HEMOGLOBIN_DTS_2.0', 'HEMOGLOBIN_DTS_3.0', 'HEMOGLOBIN (BLOOD GAS)_DTS_1.0', 'HEMOGLOBIN (BLOOD GAS)_DTS_2.0', 'HEMOGLOBIN (BLOOD GAS)_DTS_3.0', 'LACTATE_DTS_1.0', 'LACTATE_DTS_2.0', 'LACTATE_DTS_3.0', 'PLATELET COUNT_DTS_1.0', 'PLATELET COUNT_DTS_2.0', 'PLATELET COUNT_DTS_3.0', 'POTASSIUM_DTS_1.0', 'POTASSIUM_DTS_2.0', 'POTASSIUM_DTS_3.0', 'POTASSIUM WHOLE BLOOD_DTS_1.0', 'POTASSIUM WHOLE BLOOD_DTS_2.0', 'POTASSIUM WHOLE BLOOD_DTS_3.0', 'PTT_DTS_1.0', 'PTT_DTS_2.0', 'PTT_DTS_3.0', 'INR(PT)_DTS_1.0', 'INR(PT)_DTS_2.0', 'INR(PT)_DTS_3.0', 'PT_DTS_1.0', 'PT_DTS_2.0', 'PT_DTS_3.0', 'SODIUM_DTS_1.0', 'SODIUM_DTS_2.0', 'SODIUM_DTS_3.0', 'SODIUM (WHOLE BLOOD)_DTS_1.0', 'SODIUM (WHOLE BLOOD)_DTS_2.0', 'SODIUM (WHOLE BLOOD)_DTS_3.0', 'WHITE BLOOD CELLS_DTS_1.0', 'WHITE BLOOD CELLS_DTS_2.0', 'WHITE BLOOD CELLS_DTS_3.0', 'WBC COUNT_DTS_3.0'], 'algorithm': 'LogisticRegression', 'datetime': datetime.datetime(2019, 12, 17, 21, 27, 42, 396518)}, 'results': {'y_true': 0        0.0\n",
      "1        0.0\n",
      "2        0.0\n",
      "3        0.0\n",
      "4        0.0\n",
      "5        0.0\n",
      "6        0.0\n",
      "7        0.0\n",
      "8        0.0\n",
      "9        0.0\n",
      "10       0.0\n",
      "11       0.0\n",
      "12       0.0\n",
      "13       0.0\n",
      "14       0.0\n",
      "15       0.0\n",
      "16       0.0\n",
      "17       0.0\n",
      "18       0.0\n",
      "19       0.0\n",
      "20       0.0\n",
      "21       0.0\n",
      "22       0.0\n",
      "23       0.0\n",
      "24       1.0\n",
      "25       1.0\n",
      "26       1.0\n",
      "27       0.0\n",
      "28       0.0\n",
      "29       0.0\n",
      "        ... \n",
      "25769    0.0\n",
      "25770    0.0\n",
      "25771    0.0\n",
      "25772    0.0\n",
      "25773    0.0\n",
      "25774    0.0\n",
      "25775    0.0\n",
      "25776    0.0\n",
      "25777    0.0\n",
      "25778    0.0\n",
      "25779    0.0\n",
      "25780    0.0\n",
      "25781    0.0\n",
      "25782    0.0\n",
      "25783    0.0\n",
      "25784    0.0\n",
      "25785    0.0\n",
      "25786    0.0\n",
      "25787    0.0\n",
      "25788    0.0\n",
      "25789    0.0\n",
      "25790    0.0\n",
      "25791    0.0\n",
      "25792    0.0\n",
      "25793    0.0\n",
      "25794    0.0\n",
      "25795    0.0\n",
      "25796    0.0\n",
      "25797    0.0\n",
      "25798    0.0\n",
      "Name: AKI, Length: 25799, dtype: float64, 'y_pred': array([0., 1., 0., ..., 0., 0., 1.]), 'y_probs': array([0.47462679, 0.5675549 , 0.43719267, ..., 0.44730696, 0.43592521,\n",
      "       0.61699334])}, 'performance': {'discrimination': {'precision': 0.06717625899280576, 'recall': 0.6423043852106621, 'f1-score': 0.12163152324350729, 'support': 1163.0, 'confusion_matrix': [[14263, 10373], [416, 747]], 'auc': 0.6372212605562789, 'n': 25799, 'tn': 14263, 'fp': 10373, 'fn': 416, 'tp': 747, 'dor': 2.469072119555948}, 'calibration': {'slope': 2.5983647813926183, 'intercept': 0.46039752672486256}, 'clinical_usefulness': {'treated': -0.9092083672493765, 'treated_all': -2.1830691112058607, 'untreated': 0.5459403188384931, 'overall': -0.36326804841088334, 'prevalence': 0.04507926663824179, 'adapt': 0.10939571301213219, 'n': 25799}, 'bootstrap': defaultdict(<function <lambda> at 0x7f6c706d5a60>, {'precision': {'mean': 0.06680012701834075, 'std': 0.002956221016883627, 'ci': 0.005912442033767254}, 'recall': {'mean': 0.6416994397234795, 'std': 0.018996622017468722, 'ci': 0.037993244034937444}, 'f1-score': {'mean': 0.12098911188726266, 'std': 0.005044025376303563, 'ci': 0.010088050752607125}, 'auc': {'mean': 0.6361598289950686, 'std': 0.010549424669144204, 'ci': 0.021098849338288407}, 'dor': {'mean': 2.4651769924810627, 'std': 0.2076807142578201, 'ci': 0.4153614285156402}})}, 'exp_id': 'f524fae8-2113-11ea-bee5-000d3a0e06d9'}, 'f47ddb80-216a-11ea-bee5-000d3a0e06d9': {'parameters': {'target': 'AKI', 'cohort': 'SINAI', 'bootstrap': 'yes', 'n_iterations': 100, 'n_ratio': 0.5, 'model_features': ['GENDER', 'AGE_AT_ADMISSION', 'AKI', 'ELIXHAUSER_SCORE', 'AIDS', 'ALCOHOL_ABUSE', 'BLOOD_LOSS_ANEMIA', 'CARDIAC_ARRHYTHMIAS', 'CHRONIC_PULMONARY', 'COAGULOPATHY', 'CONGESTIVE_HEART_FAILURE', 'DEFICIENCY_ANEMIAS', 'DEPRESSION', 'DIABETES_COMPLICATED', 'DIABETES_UNCOMPLICATED', 'DRUG_ABUSE', 'FLUID_ELECTROLYTE', 'HYPERTENSION', 'HYPOTHYROIDISM', 'LIVER_DISEASE', 'LYMPHOMA', 'METASTATIC_CANCER', 'OBESITY', 'OTHER_NEUROLOGICAL', 'PARALYSIS', 'PEPTIC_ULCER', 'PERIPHERAL_VASCULAR', 'PSYCHOSES', 'PULMONARY_CIRCULATION', 'RENAL_FAILURE', 'RHEUMATOID_ARTHRITIS', 'SOLID_TUMOR', 'VALVULAR_DISEASE', 'WEIGHT_LOSS', 'BUN_DTS_1.0', 'BUN_DTS_2.0', 'BUN_DTS_3.0', 'BLD CREA_DTS_1.0', 'BLD CREA_DTS_2.0', 'BLD CREA_DTS_3.0', 'ANION GAP_DTS_1.0', 'ANION GAP_DTS_2.0', 'ANION GAP_DTS_3.0', 'ALBUMIN_DTS_1.0', 'ALBUMIN_DTS_2.0', 'ALBUMIN_DTS_3.0', 'BILIRUBIN_DTS_1.0', 'BILIRUBIN_DTS_2.0', 'BILIRUBIN_DTS_3.0', 'CHLORIDE_DTS_1.0', 'CHLORIDE_DTS_2.0', 'CHLORIDE_DTS_3.0', 'CHLORIDE (WHOLE BLOOD)_DTS_1.0', 'CHLORIDE (WHOLE BLOOD)_DTS_2.0', 'CHLORIDE (WHOLE BLOOD)_DTS_3.0', 'GLUCOSE_DTS_1.0', 'GLUCOSE_DTS_2.0', 'GLUCOSE_DTS_3.0', 'GLUCOSE (BLOOD GAS)_DTS_1.0', 'GLUCOSE (BLOOD GAS)_DTS_2.0', 'GLUCOSE (BLOOD GAS)_DTS_3.0', 'HEMATOCRIT_DTS_1.0', 'HEMATOCRIT_DTS_2.0', 'HEMATOCRIT_DTS_3.0', 'HEMATOCRIT (CALCULATED)_DTS_1.0', 'HEMATOCRIT (CALCULATED)_DTS_2.0', 'HEMATOCRIT (CALCULATED)_DTS_3.0', 'HEMOGLOBIN_DTS_1.0', 'HEMOGLOBIN_DTS_2.0', 'HEMOGLOBIN_DTS_3.0', 'HEMOGLOBIN (BLOOD GAS)_DTS_1.0', 'HEMOGLOBIN (BLOOD GAS)_DTS_2.0', 'HEMOGLOBIN (BLOOD GAS)_DTS_3.0', 'LACTATE_DTS_1.0', 'LACTATE_DTS_2.0', 'LACTATE_DTS_3.0', 'PLATELET COUNT_DTS_1.0', 'PLATELET COUNT_DTS_2.0', 'PLATELET COUNT_DTS_3.0', 'POTASSIUM_DTS_1.0', 'POTASSIUM_DTS_2.0', 'POTASSIUM_DTS_3.0', 'POTASSIUM WHOLE BLOOD_DTS_1.0', 'POTASSIUM WHOLE BLOOD_DTS_2.0', 'POTASSIUM WHOLE BLOOD_DTS_3.0', 'PTT_DTS_1.0', 'PTT_DTS_2.0', 'PTT_DTS_3.0', 'INR(PT)_DTS_1.0', 'INR(PT)_DTS_2.0', 'INR(PT)_DTS_3.0', 'PT_DTS_1.0', 'PT_DTS_2.0', 'PT_DTS_3.0', 'SODIUM_DTS_1.0', 'SODIUM_DTS_2.0', 'SODIUM_DTS_3.0', 'SODIUM (WHOLE BLOOD)_DTS_1.0', 'SODIUM (WHOLE BLOOD)_DTS_2.0', 'SODIUM (WHOLE BLOOD)_DTS_3.0', 'WHITE BLOOD CELLS_DTS_1.0', 'WHITE BLOOD CELLS_DTS_2.0', 'WHITE BLOOD CELLS_DTS_3.0', 'WBC COUNT_DTS_3.0'], 'algorithm': 'LogisticRegression', 'datetime': datetime.datetime(2019, 12, 18, 7, 50, 25, 320345)}, 'results': {'y_true': 0        0.0\n",
      "1        0.0\n",
      "2        0.0\n",
      "3        0.0\n",
      "4        0.0\n",
      "5        0.0\n",
      "6        0.0\n",
      "7        0.0\n",
      "8        0.0\n",
      "9        0.0\n",
      "10       0.0\n",
      "11       0.0\n",
      "12       0.0\n",
      "13       0.0\n",
      "14       0.0\n",
      "15       0.0\n",
      "16       0.0\n",
      "17       0.0\n",
      "18       0.0\n",
      "19       0.0\n",
      "20       0.0\n",
      "21       0.0\n",
      "22       0.0\n",
      "23       0.0\n",
      "24       1.0\n",
      "25       1.0\n",
      "26       1.0\n",
      "27       0.0\n",
      "28       0.0\n",
      "29       0.0\n",
      "        ... \n",
      "25769    0.0\n",
      "25770    0.0\n",
      "25771    0.0\n",
      "25772    0.0\n",
      "25773    0.0\n",
      "25774    0.0\n",
      "25775    0.0\n",
      "25776    0.0\n",
      "25777    0.0\n",
      "25778    0.0\n",
      "25779    0.0\n",
      "25780    0.0\n",
      "25781    0.0\n",
      "25782    0.0\n",
      "25783    0.0\n",
      "25784    0.0\n",
      "25785    0.0\n",
      "25786    0.0\n",
      "25787    0.0\n",
      "25788    0.0\n",
      "25789    0.0\n",
      "25790    0.0\n",
      "25791    0.0\n",
      "25792    0.0\n",
      "25793    0.0\n",
      "25794    0.0\n",
      "25795    0.0\n",
      "25796    0.0\n",
      "25797    0.0\n",
      "25798    0.0\n",
      "Name: AKI, Length: 25799, dtype: float64, 'y_pred': array([0., 1., 0., ..., 0., 0., 1.]), 'y_probs': array([0.47462679, 0.5675549 , 0.43719267, ..., 0.44730696, 0.43592521,\n",
      "       0.61699334])}, 'performance': {'discrimination': {'precision': 0.06717625899280576, 'recall': 0.6423043852106621, 'f1-score': 0.12163152324350729, 'support': 1163.0, 'confusion_matrix': [[14263, 10373], [416, 747]], 'auc': 0.6372212605562789, 'n': 25799, 'tn': 14263, 'fp': 10373, 'fn': 416, 'tp': 747, 'dor': 2.469072119555948}, 'calibration': {'slope': 2.5983647813926183, 'intercept': 0.46039752672486256}, 'clinical_usefulness': {'treated': -0.9092083672493765, 'treated_all': -2.1830691112058607, 'untreated': 0.5459403188384931, 'overall': -0.36326804841088334, 'prevalence': 0.04507926663824179, 'adapt': 0.10939571301213219, 'n': 25799}, 'bootstrap': defaultdict(<function <lambda> at 0x7f6c704b6158>, {'precision': {'mean': 0.06677515323596969, 'std': 0.0031514233983970788, 'ci': 0.0063028467967941575}, 'recall': {'mean': 0.6395940239768572, 'std': 0.021331831154290833, 'ci': 0.042663662308581665}, 'f1-score': {'mean': 0.12090857583066433, 'std': 0.005391941378211936, 'ci': 0.010783882756423871}, 'auc': {'mean': 0.6354764731606948, 'std': 0.011316298948351674, 'ci': 0.022632597896703348}, 'dor': {'mean': 2.450549683958791, 'std': 0.23361243614503663, 'ci': 0.46722487229007326}})}, 'exp_id': 'f47ddb80-216a-11ea-bee5-000d3a0e06d9'}, '0d197b9a-216b-11ea-bee5-000d3a0e06d9': {'parameters': {'target': 'AKI', 'cohort': 'SINAI', 'bootstrap': 'yes', 'n_iterations': 100, 'n_ratio': 0.5, 'model_features': ['GENDER', 'AGE_AT_ADMISSION', 'AKI', 'ELIXHAUSER_SCORE', 'AIDS', 'ALCOHOL_ABUSE', 'BLOOD_LOSS_ANEMIA', 'CARDIAC_ARRHYTHMIAS', 'CHRONIC_PULMONARY', 'COAGULOPATHY', 'CONGESTIVE_HEART_FAILURE', 'DEFICIENCY_ANEMIAS', 'DEPRESSION', 'DIABETES_COMPLICATED', 'DIABETES_UNCOMPLICATED', 'DRUG_ABUSE', 'FLUID_ELECTROLYTE', 'HYPERTENSION', 'HYPOTHYROIDISM', 'LIVER_DISEASE', 'LYMPHOMA', 'METASTATIC_CANCER', 'OBESITY', 'OTHER_NEUROLOGICAL', 'PARALYSIS', 'PEPTIC_ULCER', 'PERIPHERAL_VASCULAR', 'PSYCHOSES', 'PULMONARY_CIRCULATION', 'RENAL_FAILURE', 'RHEUMATOID_ARTHRITIS', 'SOLID_TUMOR', 'VALVULAR_DISEASE', 'WEIGHT_LOSS', 'BUN_DTS_1.0', 'BUN_DTS_2.0', 'BUN_DTS_3.0', 'BLD CREA_DTS_1.0', 'BLD CREA_DTS_2.0', 'BLD CREA_DTS_3.0', 'ANION GAP_DTS_1.0', 'ANION GAP_DTS_2.0', 'ANION GAP_DTS_3.0', 'ALBUMIN_DTS_1.0', 'ALBUMIN_DTS_2.0', 'ALBUMIN_DTS_3.0', 'BILIRUBIN_DTS_1.0', 'BILIRUBIN_DTS_2.0', 'BILIRUBIN_DTS_3.0', 'CHLORIDE_DTS_1.0', 'CHLORIDE_DTS_2.0', 'CHLORIDE_DTS_3.0', 'CHLORIDE (WHOLE BLOOD)_DTS_1.0', 'CHLORIDE (WHOLE BLOOD)_DTS_2.0', 'CHLORIDE (WHOLE BLOOD)_DTS_3.0', 'GLUCOSE_DTS_1.0', 'GLUCOSE_DTS_2.0', 'GLUCOSE_DTS_3.0', 'GLUCOSE (BLOOD GAS)_DTS_1.0', 'GLUCOSE (BLOOD GAS)_DTS_2.0', 'GLUCOSE (BLOOD GAS)_DTS_3.0', 'HEMATOCRIT_DTS_1.0', 'HEMATOCRIT_DTS_2.0', 'HEMATOCRIT_DTS_3.0', 'HEMATOCRIT (CALCULATED)_DTS_1.0', 'HEMATOCRIT (CALCULATED)_DTS_2.0', 'HEMATOCRIT (CALCULATED)_DTS_3.0', 'HEMOGLOBIN_DTS_1.0', 'HEMOGLOBIN_DTS_2.0', 'HEMOGLOBIN_DTS_3.0', 'HEMOGLOBIN (BLOOD GAS)_DTS_1.0', 'HEMOGLOBIN (BLOOD GAS)_DTS_2.0', 'HEMOGLOBIN (BLOOD GAS)_DTS_3.0', 'LACTATE_DTS_1.0', 'LACTATE_DTS_2.0', 'LACTATE_DTS_3.0', 'PLATELET COUNT_DTS_1.0', 'PLATELET COUNT_DTS_2.0', 'PLATELET COUNT_DTS_3.0', 'POTASSIUM_DTS_1.0', 'POTASSIUM_DTS_2.0', 'POTASSIUM_DTS_3.0', 'POTASSIUM WHOLE BLOOD_DTS_1.0', 'POTASSIUM WHOLE BLOOD_DTS_2.0', 'POTASSIUM WHOLE BLOOD_DTS_3.0', 'PTT_DTS_1.0', 'PTT_DTS_2.0', 'PTT_DTS_3.0', 'INR(PT)_DTS_1.0', 'INR(PT)_DTS_2.0', 'INR(PT)_DTS_3.0', 'PT_DTS_1.0', 'PT_DTS_2.0', 'PT_DTS_3.0', 'SODIUM_DTS_1.0', 'SODIUM_DTS_2.0', 'SODIUM_DTS_3.0', 'SODIUM (WHOLE BLOOD)_DTS_1.0', 'SODIUM (WHOLE BLOOD)_DTS_2.0', 'SODIUM (WHOLE BLOOD)_DTS_3.0', 'WHITE BLOOD CELLS_DTS_1.0', 'WHITE BLOOD CELLS_DTS_2.0', 'WHITE BLOOD CELLS_DTS_3.0', 'WBC COUNT_DTS_3.0'], 'algorithm': 'DecisionTree', 'datetime': datetime.datetime(2019, 12, 18, 7, 50, 40, 25884)}, 'results': {'y_true': 0        0.0\n",
      "1        0.0\n",
      "2        0.0\n",
      "3        0.0\n",
      "4        0.0\n",
      "5        0.0\n",
      "6        0.0\n",
      "7        0.0\n",
      "8        0.0\n",
      "9        0.0\n",
      "10       0.0\n",
      "11       0.0\n",
      "12       0.0\n",
      "13       0.0\n",
      "14       0.0\n",
      "15       0.0\n",
      "16       0.0\n",
      "17       0.0\n",
      "18       0.0\n",
      "19       0.0\n",
      "20       0.0\n",
      "21       0.0\n",
      "22       0.0\n",
      "23       0.0\n",
      "24       1.0\n",
      "25       1.0\n",
      "26       1.0\n",
      "27       0.0\n",
      "28       0.0\n",
      "29       0.0\n",
      "        ... \n",
      "25769    0.0\n",
      "25770    0.0\n",
      "25771    0.0\n",
      "25772    0.0\n",
      "25773    0.0\n",
      "25774    0.0\n",
      "25775    0.0\n",
      "25776    0.0\n",
      "25777    0.0\n",
      "25778    0.0\n",
      "25779    0.0\n",
      "25780    0.0\n",
      "25781    0.0\n",
      "25782    0.0\n",
      "25783    0.0\n",
      "25784    0.0\n",
      "25785    0.0\n",
      "25786    0.0\n",
      "25787    0.0\n",
      "25788    0.0\n",
      "25789    0.0\n",
      "25790    0.0\n",
      "25791    0.0\n",
      "25792    0.0\n",
      "25793    0.0\n",
      "25794    0.0\n",
      "25795    0.0\n",
      "25796    0.0\n",
      "25797    0.0\n",
      "25798    0.0\n",
      "Name: AKI, Length: 25799, dtype: float64, 'y_pred': array([0., 0., 0., ..., 0., 0., 0.]), 'y_probs': array([0.30315969, 0.35475013, 0.30315969, ..., 0.30315969, 0.30315969,\n",
      "       0.35475013])}, 'performance': {'discrimination': {'precision': 0.1438278595696489, 'recall': 0.10920034393809114, 'f1-score': 0.1241446725317693, 'support': 1163.0, 'confusion_matrix': [[23880, 756], [1036, 127]], 'auc': 0.6370773247826269, 'n': 25799, 'tn': 23880, 'fp': 756, 'fn': 1036, 'tp': 127, 'dor': 3.872188515045658}, 'calibration': {'slope': 5.089215422713242, 'intercept': 0.13701669052262933}, 'clinical_usefulness': {'treated': -0.06345207178572812, 'treated_all': -2.1830691112058607, 'untreated': 0.9084073026086283, 'overall': 0.8449552308229002, 'prevalence': 0.04507926663824179, 'adapt': 0.6168494902903213, 'n': 25799}, 'bootstrap': defaultdict(<function <lambda> at 0x7f6c703b6950>, {'precision': {'mean': 0.14282698557512233, 'std': 0.01889316363040144, 'ci': 0.03778632726080288}, 'recall': {'mean': 0.10935583478880286, 'std': 0.013778999521975963, 'ci': 0.027557999043951925}, 'f1-score': {'mean': 0.12379349316523733, 'std': 0.015662738744769464, 'ci': 0.03132547748953893}, 'auc': {'mean': 0.6369701708052571, 'std': 0.01023211530109973, 'ci': 0.02046423060219946}, 'dor': {'mean': 3.8588819415300004, 'std': 0.6132722296587622, 'ci': 1.2265444593175243}})}, 'exp_id': '0d197b9a-216b-11ea-bee5-000d3a0e06d9'}, '15dd6692-216b-11ea-bee5-000d3a0e06d9': {'parameters': {'target': 'AKI', 'cohort': 'SINAI', 'bootstrap': 'yes', 'n_iterations': 100, 'n_ratio': 0.5, 'model_features': ['GENDER', 'AGE_AT_ADMISSION', 'AKI', 'ELIXHAUSER_SCORE', 'AIDS', 'ALCOHOL_ABUSE', 'BLOOD_LOSS_ANEMIA', 'CARDIAC_ARRHYTHMIAS', 'CHRONIC_PULMONARY', 'COAGULOPATHY', 'CONGESTIVE_HEART_FAILURE', 'DEFICIENCY_ANEMIAS', 'DEPRESSION', 'DIABETES_COMPLICATED', 'DIABETES_UNCOMPLICATED', 'DRUG_ABUSE', 'FLUID_ELECTROLYTE', 'HYPERTENSION', 'HYPOTHYROIDISM', 'LIVER_DISEASE', 'LYMPHOMA', 'METASTATIC_CANCER', 'OBESITY', 'OTHER_NEUROLOGICAL', 'PARALYSIS', 'PEPTIC_ULCER', 'PERIPHERAL_VASCULAR', 'PSYCHOSES', 'PULMONARY_CIRCULATION', 'RENAL_FAILURE', 'RHEUMATOID_ARTHRITIS', 'SOLID_TUMOR', 'VALVULAR_DISEASE', 'WEIGHT_LOSS', 'BUN_DTS_1.0', 'BUN_DTS_2.0', 'BUN_DTS_3.0', 'BLD CREA_DTS_1.0', 'BLD CREA_DTS_2.0', 'BLD CREA_DTS_3.0', 'ANION GAP_DTS_1.0', 'ANION GAP_DTS_2.0', 'ANION GAP_DTS_3.0', 'ALBUMIN_DTS_1.0', 'ALBUMIN_DTS_2.0', 'ALBUMIN_DTS_3.0', 'BILIRUBIN_DTS_1.0', 'BILIRUBIN_DTS_2.0', 'BILIRUBIN_DTS_3.0', 'CHLORIDE_DTS_1.0', 'CHLORIDE_DTS_2.0', 'CHLORIDE_DTS_3.0', 'CHLORIDE (WHOLE BLOOD)_DTS_1.0', 'CHLORIDE (WHOLE BLOOD)_DTS_2.0', 'CHLORIDE (WHOLE BLOOD)_DTS_3.0', 'GLUCOSE_DTS_1.0', 'GLUCOSE_DTS_2.0', 'GLUCOSE_DTS_3.0', 'GLUCOSE (BLOOD GAS)_DTS_1.0', 'GLUCOSE (BLOOD GAS)_DTS_2.0', 'GLUCOSE (BLOOD GAS)_DTS_3.0', 'HEMATOCRIT_DTS_1.0', 'HEMATOCRIT_DTS_2.0', 'HEMATOCRIT_DTS_3.0', 'HEMATOCRIT (CALCULATED)_DTS_1.0', 'HEMATOCRIT (CALCULATED)_DTS_2.0', 'HEMATOCRIT (CALCULATED)_DTS_3.0', 'HEMOGLOBIN_DTS_1.0', 'HEMOGLOBIN_DTS_2.0', 'HEMOGLOBIN_DTS_3.0', 'HEMOGLOBIN (BLOOD GAS)_DTS_1.0', 'HEMOGLOBIN (BLOOD GAS)_DTS_2.0', 'HEMOGLOBIN (BLOOD GAS)_DTS_3.0', 'LACTATE_DTS_1.0', 'LACTATE_DTS_2.0', 'LACTATE_DTS_3.0', 'PLATELET COUNT_DTS_1.0', 'PLATELET COUNT_DTS_2.0', 'PLATELET COUNT_DTS_3.0', 'POTASSIUM_DTS_1.0', 'POTASSIUM_DTS_2.0', 'POTASSIUM_DTS_3.0', 'POTASSIUM WHOLE BLOOD_DTS_1.0', 'POTASSIUM WHOLE BLOOD_DTS_2.0', 'POTASSIUM WHOLE BLOOD_DTS_3.0', 'PTT_DTS_1.0', 'PTT_DTS_2.0', 'PTT_DTS_3.0', 'INR(PT)_DTS_1.0', 'INR(PT)_DTS_2.0', 'INR(PT)_DTS_3.0', 'PT_DTS_1.0', 'PT_DTS_2.0', 'PT_DTS_3.0', 'SODIUM_DTS_1.0', 'SODIUM_DTS_2.0', 'SODIUM_DTS_3.0', 'SODIUM (WHOLE BLOOD)_DTS_1.0', 'SODIUM (WHOLE BLOOD)_DTS_2.0', 'SODIUM (WHOLE BLOOD)_DTS_3.0', 'WHITE BLOOD CELLS_DTS_1.0', 'WHITE BLOOD CELLS_DTS_2.0', 'WHITE BLOOD CELLS_DTS_3.0', 'WBC COUNT_DTS_3.0'], 'algorithm': 'AdaBoost', 'datetime': datetime.datetime(2019, 12, 18, 7, 51, 50, 260931)}, 'results': {'y_true': 0        0.0\n",
      "1        0.0\n",
      "2        0.0\n",
      "3        0.0\n",
      "4        0.0\n",
      "5        0.0\n",
      "6        0.0\n",
      "7        0.0\n",
      "8        0.0\n",
      "9        0.0\n",
      "10       0.0\n",
      "11       0.0\n",
      "12       0.0\n",
      "13       0.0\n",
      "14       0.0\n",
      "15       0.0\n",
      "16       0.0\n",
      "17       0.0\n",
      "18       0.0\n",
      "19       0.0\n",
      "20       0.0\n",
      "21       0.0\n",
      "22       0.0\n",
      "23       0.0\n",
      "24       1.0\n",
      "25       1.0\n",
      "26       1.0\n",
      "27       0.0\n",
      "28       0.0\n",
      "29       0.0\n",
      "        ... \n",
      "25769    0.0\n",
      "25770    0.0\n",
      "25771    0.0\n",
      "25772    0.0\n",
      "25773    0.0\n",
      "25774    0.0\n",
      "25775    0.0\n",
      "25776    0.0\n",
      "25777    0.0\n",
      "25778    0.0\n",
      "25779    0.0\n",
      "25780    0.0\n",
      "25781    0.0\n",
      "25782    0.0\n",
      "25783    0.0\n",
      "25784    0.0\n",
      "25785    0.0\n",
      "25786    0.0\n",
      "25787    0.0\n",
      "25788    0.0\n",
      "25789    0.0\n",
      "25790    0.0\n",
      "25791    0.0\n",
      "25792    0.0\n",
      "25793    0.0\n",
      "25794    0.0\n",
      "25795    0.0\n",
      "25796    0.0\n",
      "25797    0.0\n",
      "25798    0.0\n",
      "Name: AKI, Length: 25799, dtype: float64, 'y_pred': array([0., 0., 0., ..., 0., 0., 0.]), 'y_probs': array([0.42618885, 0.43009585, 0.42521528, ..., 0.42397076, 0.42411588,\n",
      "       0.43659847])}, 'performance': {'discrimination': {'precision': 0.0, 'recall': 0.0, 'f1-score': 0.0, 'support': 1163.0, 'confusion_matrix': [[24636, 0], [1163, 0]], 'auc': 0.732077605394562, 'n': 25799, 'tn': 24636, 'fp': 0, 'fn': 1163, 'tp': 0, 'dor': 0.0}, 'calibration': {'slope': nan, 'intercept': nan}, 'clinical_usefulness': {'treated': 0.0, 'treated_all': -2.1830691112058607, 'untreated': 0.9356010476596546, 'overall': 0.9356010476596546, 'prevalence': 0.04507926663824179, 'adapt': 0.6549207333617582, 'n': 25799}, 'bootstrap': defaultdict(<function <lambda> at 0x7f6c70310b70>, {'precision': {'mean': 0.0, 'std': 0.0, 'ci': 0.0}, 'recall': {'mean': 0.0, 'std': 0.0, 'ci': 0.0}, 'f1-score': {'mean': 0.0, 'std': 0.0, 'ci': 0.0}, 'auc': {'mean': 0.7319487739502137, 'std': 0.010511394125471165, 'ci': 0.02102278825094233}, 'dor': {'mean': 0.0, 'std': 0.0, 'ci': 0.0}})}, 'exp_id': '15dd6692-216b-11ea-bee5-000d3a0e06d9'}, '3fba69ba-216b-11ea-bee5-000d3a0e06d9': {'parameters': {'target': 'AKI', 'cohort': 'SINAI', 'bootstrap': 'yes', 'n_iterations': 100, 'n_ratio': 0.5, 'model_features': ['GENDER', 'AGE_AT_ADMISSION', 'AKI', 'ELIXHAUSER_SCORE', 'AIDS', 'ALCOHOL_ABUSE', 'BLOOD_LOSS_ANEMIA', 'CARDIAC_ARRHYTHMIAS', 'CHRONIC_PULMONARY', 'COAGULOPATHY', 'CONGESTIVE_HEART_FAILURE', 'DEFICIENCY_ANEMIAS', 'DEPRESSION', 'DIABETES_COMPLICATED', 'DIABETES_UNCOMPLICATED', 'DRUG_ABUSE', 'FLUID_ELECTROLYTE', 'HYPERTENSION', 'HYPOTHYROIDISM', 'LIVER_DISEASE', 'LYMPHOMA', 'METASTATIC_CANCER', 'OBESITY', 'OTHER_NEUROLOGICAL', 'PARALYSIS', 'PEPTIC_ULCER', 'PERIPHERAL_VASCULAR', 'PSYCHOSES', 'PULMONARY_CIRCULATION', 'RENAL_FAILURE', 'RHEUMATOID_ARTHRITIS', 'SOLID_TUMOR', 'VALVULAR_DISEASE', 'WEIGHT_LOSS', 'BUN_DTS_1.0', 'BUN_DTS_2.0', 'BUN_DTS_3.0', 'BLD CREA_DTS_1.0', 'BLD CREA_DTS_2.0', 'BLD CREA_DTS_3.0', 'ANION GAP_DTS_1.0', 'ANION GAP_DTS_2.0', 'ANION GAP_DTS_3.0', 'ALBUMIN_DTS_1.0', 'ALBUMIN_DTS_2.0', 'ALBUMIN_DTS_3.0', 'BILIRUBIN_DTS_1.0', 'BILIRUBIN_DTS_2.0', 'BILIRUBIN_DTS_3.0', 'CHLORIDE_DTS_1.0', 'CHLORIDE_DTS_2.0', 'CHLORIDE_DTS_3.0', 'CHLORIDE (WHOLE BLOOD)_DTS_1.0', 'CHLORIDE (WHOLE BLOOD)_DTS_2.0', 'CHLORIDE (WHOLE BLOOD)_DTS_3.0', 'GLUCOSE_DTS_1.0', 'GLUCOSE_DTS_2.0', 'GLUCOSE_DTS_3.0', 'GLUCOSE (BLOOD GAS)_DTS_1.0', 'GLUCOSE (BLOOD GAS)_DTS_2.0', 'GLUCOSE (BLOOD GAS)_DTS_3.0', 'HEMATOCRIT_DTS_1.0', 'HEMATOCRIT_DTS_2.0', 'HEMATOCRIT_DTS_3.0', 'HEMATOCRIT (CALCULATED)_DTS_1.0', 'HEMATOCRIT (CALCULATED)_DTS_2.0', 'HEMATOCRIT (CALCULATED)_DTS_3.0', 'HEMOGLOBIN_DTS_1.0', 'HEMOGLOBIN_DTS_2.0', 'HEMOGLOBIN_DTS_3.0', 'HEMOGLOBIN (BLOOD GAS)_DTS_1.0', 'HEMOGLOBIN (BLOOD GAS)_DTS_2.0', 'HEMOGLOBIN (BLOOD GAS)_DTS_3.0', 'LACTATE_DTS_1.0', 'LACTATE_DTS_2.0', 'LACTATE_DTS_3.0', 'PLATELET COUNT_DTS_1.0', 'PLATELET COUNT_DTS_2.0', 'PLATELET COUNT_DTS_3.0', 'POTASSIUM_DTS_1.0', 'POTASSIUM_DTS_2.0', 'POTASSIUM_DTS_3.0', 'POTASSIUM WHOLE BLOOD_DTS_1.0', 'POTASSIUM WHOLE BLOOD_DTS_2.0', 'POTASSIUM WHOLE BLOOD_DTS_3.0', 'PTT_DTS_1.0', 'PTT_DTS_2.0', 'PTT_DTS_3.0', 'INR(PT)_DTS_1.0', 'INR(PT)_DTS_2.0', 'INR(PT)_DTS_3.0', 'PT_DTS_1.0', 'PT_DTS_2.0', 'PT_DTS_3.0', 'SODIUM_DTS_1.0', 'SODIUM_DTS_2.0', 'SODIUM_DTS_3.0', 'SODIUM (WHOLE BLOOD)_DTS_1.0', 'SODIUM (WHOLE BLOOD)_DTS_2.0', 'SODIUM (WHOLE BLOOD)_DTS_3.0', 'WHITE BLOOD CELLS_DTS_1.0', 'WHITE BLOOD CELLS_DTS_2.0', 'WHITE BLOOD CELLS_DTS_3.0', 'WBC COUNT_DTS_3.0'], 'algorithm': 'ElasticNetLR', 'datetime': datetime.datetime(2019, 12, 18, 7, 52, 31, 641475)}, 'results': {'y_true': 0        0.0\n",
      "1        0.0\n",
      "2        0.0\n",
      "3        0.0\n",
      "4        0.0\n",
      "5        0.0\n",
      "6        0.0\n",
      "7        0.0\n",
      "8        0.0\n",
      "9        0.0\n",
      "10       0.0\n",
      "11       0.0\n",
      "12       0.0\n",
      "13       0.0\n",
      "14       0.0\n",
      "15       0.0\n",
      "16       0.0\n",
      "17       0.0\n",
      "18       0.0\n",
      "19       0.0\n",
      "20       0.0\n",
      "21       0.0\n",
      "22       0.0\n",
      "23       0.0\n",
      "24       1.0\n",
      "25       1.0\n",
      "26       1.0\n",
      "27       0.0\n",
      "28       0.0\n",
      "29       0.0\n",
      "        ... \n",
      "25769    0.0\n",
      "25770    0.0\n",
      "25771    0.0\n",
      "25772    0.0\n",
      "25773    0.0\n",
      "25774    0.0\n",
      "25775    0.0\n",
      "25776    0.0\n",
      "25777    0.0\n",
      "25778    0.0\n",
      "25779    0.0\n",
      "25780    0.0\n",
      "25781    0.0\n",
      "25782    0.0\n",
      "25783    0.0\n",
      "25784    0.0\n",
      "25785    0.0\n",
      "25786    0.0\n",
      "25787    0.0\n",
      "25788    0.0\n",
      "25789    0.0\n",
      "25790    0.0\n",
      "25791    0.0\n",
      "25792    0.0\n",
      "25793    0.0\n",
      "25794    0.0\n",
      "25795    0.0\n",
      "25796    0.0\n",
      "25797    0.0\n",
      "25798    0.0\n",
      "Name: AKI, Length: 25799, dtype: float64, 'y_pred': array([0., 1., 0., ..., 0., 0., 1.]), 'y_probs': array([0., 1., 0., ..., 0., 0., 1.])}, 'performance': {'discrimination': {'precision': 0.07605015100210488, 'recall': 0.7145313843508169, 'f1-score': 0.13746898263027296, 'support': 1163.0, 'confusion_matrix': [[14540, 10096], [332, 831]], 'auc': 0.6550868521860577, 'n': 25799, 'tn': 14540, 'fp': 10096, 'fn': 332, 'tp': 831, 'dor': 3.604773690642125}, 'calibration': {'slope': 5.584502459447564, 'intercept': 0.4163476627916802}, 'clinical_usefulness': {'treated': -0.8808997764771243, 'treated_all': -2.1830691112058607, 'untreated': 0.5580725720266013, 'overall': -0.32282720445052293, 'prevalence': 0.04507926663824179, 'adapt': 0.12638086747548355, 'n': 25799}, 'bootstrap': defaultdict(<function <lambda> at 0x7f6c5e9db840>, {'precision': {'mean': 0.07595936705229177, 'std': 0.0034354440783682374, 'ci': 0.006870888156736475}, 'recall': {'mean': 0.7111499285235774, 'std': 0.01751066374260294, 'ci': 0.03502132748520588}, 'f1-score': {'mean': 0.13724016352676374, 'std': 0.005778279441430944, 'ci': 0.011556558882861888}, 'auc': {'mean': 0.653461333369042, 'std': 0.009083561347512523, 'ci': 0.018167122695025045}, 'dor': {'mean': 3.5629417813029596, 'std': 0.31874753948963935, 'ci': 0.6374950789792787}})}, 'exp_id': '3fba69ba-216b-11ea-bee5-000d3a0e06d9'}, '5864963e-216b-11ea-bee5-000d3a0e06d9': {'parameters': {'target': 'AKI', 'cohort': 'SINAI', 'bootstrap': 'yes', 'n_iterations': 100, 'n_ratio': 0.5, 'model_features': ['GENDER', 'AGE_AT_ADMISSION', 'AKI', 'ELIXHAUSER_SCORE', 'AIDS', 'ALCOHOL_ABUSE', 'BLOOD_LOSS_ANEMIA', 'CARDIAC_ARRHYTHMIAS', 'CHRONIC_PULMONARY', 'COAGULOPATHY', 'CONGESTIVE_HEART_FAILURE', 'DEFICIENCY_ANEMIAS', 'DEPRESSION', 'DIABETES_COMPLICATED', 'DIABETES_UNCOMPLICATED', 'DRUG_ABUSE', 'FLUID_ELECTROLYTE', 'HYPERTENSION', 'HYPOTHYROIDISM', 'LIVER_DISEASE', 'LYMPHOMA', 'METASTATIC_CANCER', 'OBESITY', 'OTHER_NEUROLOGICAL', 'PARALYSIS', 'PEPTIC_ULCER', 'PERIPHERAL_VASCULAR', 'PSYCHOSES', 'PULMONARY_CIRCULATION', 'RENAL_FAILURE', 'RHEUMATOID_ARTHRITIS', 'SOLID_TUMOR', 'VALVULAR_DISEASE', 'WEIGHT_LOSS', 'BUN_DTS_1.0', 'BUN_DTS_2.0', 'BUN_DTS_3.0', 'BLD CREA_DTS_1.0', 'BLD CREA_DTS_2.0', 'BLD CREA_DTS_3.0', 'ANION GAP_DTS_1.0', 'ANION GAP_DTS_2.0', 'ANION GAP_DTS_3.0', 'ALBUMIN_DTS_1.0', 'ALBUMIN_DTS_2.0', 'ALBUMIN_DTS_3.0', 'BILIRUBIN_DTS_1.0', 'BILIRUBIN_DTS_2.0', 'BILIRUBIN_DTS_3.0', 'CHLORIDE_DTS_1.0', 'CHLORIDE_DTS_2.0', 'CHLORIDE_DTS_3.0', 'CHLORIDE (WHOLE BLOOD)_DTS_1.0', 'CHLORIDE (WHOLE BLOOD)_DTS_2.0', 'CHLORIDE (WHOLE BLOOD)_DTS_3.0', 'GLUCOSE_DTS_1.0', 'GLUCOSE_DTS_2.0', 'GLUCOSE_DTS_3.0', 'GLUCOSE (BLOOD GAS)_DTS_1.0', 'GLUCOSE (BLOOD GAS)_DTS_2.0', 'GLUCOSE (BLOOD GAS)_DTS_3.0', 'HEMATOCRIT_DTS_1.0', 'HEMATOCRIT_DTS_2.0', 'HEMATOCRIT_DTS_3.0', 'HEMATOCRIT (CALCULATED)_DTS_1.0', 'HEMATOCRIT (CALCULATED)_DTS_2.0', 'HEMATOCRIT (CALCULATED)_DTS_3.0', 'HEMOGLOBIN_DTS_1.0', 'HEMOGLOBIN_DTS_2.0', 'HEMOGLOBIN_DTS_3.0', 'HEMOGLOBIN (BLOOD GAS)_DTS_1.0', 'HEMOGLOBIN (BLOOD GAS)_DTS_2.0', 'HEMOGLOBIN (BLOOD GAS)_DTS_3.0', 'LACTATE_DTS_1.0', 'LACTATE_DTS_2.0', 'LACTATE_DTS_3.0', 'PLATELET COUNT_DTS_1.0', 'PLATELET COUNT_DTS_2.0', 'PLATELET COUNT_DTS_3.0', 'POTASSIUM_DTS_1.0', 'POTASSIUM_DTS_2.0', 'POTASSIUM_DTS_3.0', 'POTASSIUM WHOLE BLOOD_DTS_1.0', 'POTASSIUM WHOLE BLOOD_DTS_2.0', 'POTASSIUM WHOLE BLOOD_DTS_3.0', 'PTT_DTS_1.0', 'PTT_DTS_2.0', 'PTT_DTS_3.0', 'INR(PT)_DTS_1.0', 'INR(PT)_DTS_2.0', 'INR(PT)_DTS_3.0', 'PT_DTS_1.0', 'PT_DTS_2.0', 'PT_DTS_3.0', 'SODIUM_DTS_1.0', 'SODIUM_DTS_2.0', 'SODIUM_DTS_3.0', 'SODIUM (WHOLE BLOOD)_DTS_1.0', 'SODIUM (WHOLE BLOOD)_DTS_2.0', 'SODIUM (WHOLE BLOOD)_DTS_3.0', 'WHITE BLOOD CELLS_DTS_1.0', 'WHITE BLOOD CELLS_DTS_2.0', 'WHITE BLOOD CELLS_DTS_3.0', 'WBC COUNT_DTS_3.0'], 'algorithm': 'GaussianNaiveBayes', 'datetime': datetime.datetime(2019, 12, 18, 7, 52, 48, 845959)}, 'results': {'y_true': 0        0.0\n",
      "1        0.0\n",
      "2        0.0\n",
      "3        0.0\n",
      "4        0.0\n",
      "5        0.0\n",
      "6        0.0\n",
      "7        0.0\n",
      "8        0.0\n",
      "9        0.0\n",
      "10       0.0\n",
      "11       0.0\n",
      "12       0.0\n",
      "13       0.0\n",
      "14       0.0\n",
      "15       0.0\n",
      "16       0.0\n",
      "17       0.0\n",
      "18       0.0\n",
      "19       0.0\n",
      "20       0.0\n",
      "21       0.0\n",
      "22       0.0\n",
      "23       0.0\n",
      "24       1.0\n",
      "25       1.0\n",
      "26       1.0\n",
      "27       0.0\n",
      "28       0.0\n",
      "29       0.0\n",
      "        ... \n",
      "25769    0.0\n",
      "25770    0.0\n",
      "25771    0.0\n",
      "25772    0.0\n",
      "25773    0.0\n",
      "25774    0.0\n",
      "25775    0.0\n",
      "25776    0.0\n",
      "25777    0.0\n",
      "25778    0.0\n",
      "25779    0.0\n",
      "25780    0.0\n",
      "25781    0.0\n",
      "25782    0.0\n",
      "25783    0.0\n",
      "25784    0.0\n",
      "25785    0.0\n",
      "25786    0.0\n",
      "25787    0.0\n",
      "25788    0.0\n",
      "25789    0.0\n",
      "25790    0.0\n",
      "25791    0.0\n",
      "25792    0.0\n",
      "25793    0.0\n",
      "25794    0.0\n",
      "25795    0.0\n",
      "25796    0.0\n",
      "25797    0.0\n",
      "25798    0.0\n",
      "Name: AKI, Length: 25799, dtype: float64, 'y_pred': array([0., 0., 0., ..., 0., 0., 0.]), 'y_probs': array([0., 0., 0., ..., 0., 0., 0.])}, 'performance': {'discrimination': {'precision': 0.02702702702702703, 'recall': 0.0017196904557179708, 'f1-score': 0.0032336297493936943, 'support': 1163.0, 'confusion_matrix': [[24564, 72], [1161, 2]], 'auc': 0.49919596304131403, 'n': 25799, 'tn': 24564, 'fp': 72, 'fn': 1161, 'tp': 2, 'dor': 0.5877117427505024}, 'calibration': {'slope': -55.23589832869082, 'intercept': 2.4928621169916436}, 'clinical_usefulness': {'treated': -0.006434357920849645, 'treated_all': -2.1830691112058607, 'untreated': 0.9328434656935762, 'overall': 0.9264091077727266, 'prevalence': 0.04507926663824179, 'adapt': 0.6510601186092484, 'n': 25799}, 'bootstrap': defaultdict(<function <lambda> at 0x7f6c703b71e0>, {'precision': {'mean': 0.027041143121635084, 'std': 0.027420453416291537, 'ci': 0.054840906832583074}, 'recall': {'mean': 0.0018506130901371023, 'std': 0.0019011585373305503, 'ci': 0.0038023170746611006}, 'f1-score': {'mean': 0.003459204621775773, 'std': 0.0035441962586482273, 'ci': 0.007088392517296455}, 'auc': {'mean': 0.49943589069239563, 'std': 0.0011038892066129373, 'ci': 0.0022077784132258746}, 'dor': {'mean': 0.611172328619157, 'std': 0.639210479133179, 'ci': 1.278420958266358}})}, 'exp_id': '5864963e-216b-11ea-bee5-000d3a0e06d9'}, '62a5c49c-216b-11ea-bee5-000d3a0e06d9': {'parameters': {'target': 'AKI', 'cohort': 'SINAI', 'bootstrap': 'yes', 'n_iterations': 100, 'n_ratio': 0.5, 'model_features': ['GENDER', 'AGE_AT_ADMISSION', 'AKI', 'ELIXHAUSER_SCORE', 'AIDS', 'ALCOHOL_ABUSE', 'BLOOD_LOSS_ANEMIA', 'CARDIAC_ARRHYTHMIAS', 'CHRONIC_PULMONARY', 'COAGULOPATHY', 'CONGESTIVE_HEART_FAILURE', 'DEFICIENCY_ANEMIAS', 'DEPRESSION', 'DIABETES_COMPLICATED', 'DIABETES_UNCOMPLICATED', 'DRUG_ABUSE', 'FLUID_ELECTROLYTE', 'HYPERTENSION', 'HYPOTHYROIDISM', 'LIVER_DISEASE', 'LYMPHOMA', 'METASTATIC_CANCER', 'OBESITY', 'OTHER_NEUROLOGICAL', 'PARALYSIS', 'PEPTIC_ULCER', 'PERIPHERAL_VASCULAR', 'PSYCHOSES', 'PULMONARY_CIRCULATION', 'RENAL_FAILURE', 'RHEUMATOID_ARTHRITIS', 'SOLID_TUMOR', 'VALVULAR_DISEASE', 'WEIGHT_LOSS', 'BUN_DTS_1.0', 'BUN_DTS_2.0', 'BUN_DTS_3.0', 'BLD CREA_DTS_1.0', 'BLD CREA_DTS_2.0', 'BLD CREA_DTS_3.0', 'ANION GAP_DTS_1.0', 'ANION GAP_DTS_2.0', 'ANION GAP_DTS_3.0', 'ALBUMIN_DTS_1.0', 'ALBUMIN_DTS_2.0', 'ALBUMIN_DTS_3.0', 'BILIRUBIN_DTS_1.0', 'BILIRUBIN_DTS_2.0', 'BILIRUBIN_DTS_3.0', 'CHLORIDE_DTS_1.0', 'CHLORIDE_DTS_2.0', 'CHLORIDE_DTS_3.0', 'CHLORIDE (WHOLE BLOOD)_DTS_1.0', 'CHLORIDE (WHOLE BLOOD)_DTS_2.0', 'CHLORIDE (WHOLE BLOOD)_DTS_3.0', 'GLUCOSE_DTS_1.0', 'GLUCOSE_DTS_2.0', 'GLUCOSE_DTS_3.0', 'GLUCOSE (BLOOD GAS)_DTS_1.0', 'GLUCOSE (BLOOD GAS)_DTS_2.0', 'GLUCOSE (BLOOD GAS)_DTS_3.0', 'HEMATOCRIT_DTS_1.0', 'HEMATOCRIT_DTS_2.0', 'HEMATOCRIT_DTS_3.0', 'HEMATOCRIT (CALCULATED)_DTS_1.0', 'HEMATOCRIT (CALCULATED)_DTS_2.0', 'HEMATOCRIT (CALCULATED)_DTS_3.0', 'HEMOGLOBIN_DTS_1.0', 'HEMOGLOBIN_DTS_2.0', 'HEMOGLOBIN_DTS_3.0', 'HEMOGLOBIN (BLOOD GAS)_DTS_1.0', 'HEMOGLOBIN (BLOOD GAS)_DTS_2.0', 'HEMOGLOBIN (BLOOD GAS)_DTS_3.0', 'LACTATE_DTS_1.0', 'LACTATE_DTS_2.0', 'LACTATE_DTS_3.0', 'PLATELET COUNT_DTS_1.0', 'PLATELET COUNT_DTS_2.0', 'PLATELET COUNT_DTS_3.0', 'POTASSIUM_DTS_1.0', 'POTASSIUM_DTS_2.0', 'POTASSIUM_DTS_3.0', 'POTASSIUM WHOLE BLOOD_DTS_1.0', 'POTASSIUM WHOLE BLOOD_DTS_2.0', 'POTASSIUM WHOLE BLOOD_DTS_3.0', 'PTT_DTS_1.0', 'PTT_DTS_2.0', 'PTT_DTS_3.0', 'INR(PT)_DTS_1.0', 'INR(PT)_DTS_2.0', 'INR(PT)_DTS_3.0', 'PT_DTS_1.0', 'PT_DTS_2.0', 'PT_DTS_3.0', 'SODIUM_DTS_1.0', 'SODIUM_DTS_2.0', 'SODIUM_DTS_3.0', 'SODIUM (WHOLE BLOOD)_DTS_1.0', 'SODIUM (WHOLE BLOOD)_DTS_2.0', 'SODIUM (WHOLE BLOOD)_DTS_3.0', 'WHITE BLOOD CELLS_DTS_1.0', 'WHITE BLOOD CELLS_DTS_2.0', 'WHITE BLOOD CELLS_DTS_3.0', 'WBC COUNT_DTS_3.0'], 'algorithm': 'GradientBoostingDecisionTree', 'datetime': datetime.datetime(2019, 12, 18, 7, 53, 9, 266123)}, 'results': {'y_true': 0        0.0\n",
      "1        0.0\n",
      "2        0.0\n",
      "3        0.0\n",
      "4        0.0\n",
      "5        0.0\n",
      "6        0.0\n",
      "7        0.0\n",
      "8        0.0\n",
      "9        0.0\n",
      "10       0.0\n",
      "11       0.0\n",
      "12       0.0\n",
      "13       0.0\n",
      "14       0.0\n",
      "15       0.0\n",
      "16       0.0\n",
      "17       0.0\n",
      "18       0.0\n",
      "19       0.0\n",
      "20       0.0\n",
      "21       0.0\n",
      "22       0.0\n",
      "23       0.0\n",
      "24       1.0\n",
      "25       1.0\n",
      "26       1.0\n",
      "27       0.0\n",
      "28       0.0\n",
      "29       0.0\n",
      "        ... \n",
      "25769    0.0\n",
      "25770    0.0\n",
      "25771    0.0\n",
      "25772    0.0\n",
      "25773    0.0\n",
      "25774    0.0\n",
      "25775    0.0\n",
      "25776    0.0\n",
      "25777    0.0\n",
      "25778    0.0\n",
      "25779    0.0\n",
      "25780    0.0\n",
      "25781    0.0\n",
      "25782    0.0\n",
      "25783    0.0\n",
      "25784    0.0\n",
      "25785    0.0\n",
      "25786    0.0\n",
      "25787    0.0\n",
      "25788    0.0\n",
      "25789    0.0\n",
      "25790    0.0\n",
      "25791    0.0\n",
      "25792    0.0\n",
      "25793    0.0\n",
      "25794    0.0\n",
      "25795    0.0\n",
      "25796    0.0\n",
      "25797    0.0\n",
      "25798    0.0\n",
      "Name: AKI, Length: 25799, dtype: float64, 'y_pred': array([1., 1., 1., ..., 1., 1., 1.]), 'y_probs': array([0.99976543, 0.99923604, 0.99839033, ..., 0.99979842, 0.99978175,\n",
      "       0.99517339])}, 'performance': {'discrimination': {'precision': 0.04507926663824179, 'recall': 1.0, 'f1-score': 0.0862695645723611, 'support': 1163.0, 'confusion_matrix': [[0, 24636], [0, 1163]], 'auc': 0.42905872007172496, 'n': 25799, 'tn': 0, 'fp': 24636, 'fn': 0, 'tp': 1163, 'dor': 0.0}, 'calibration': {'slope': nan, 'intercept': nan}, 'clinical_usefulness': {'treated': -2.1830691112058607, 'treated_all': -2.1830691112058607, 'untreated': 0.0, 'overall': -2.1830691112058607, 'prevalence': 0.04507926663824179, 'adapt': -0.6549207333617583, 'n': 25799}, 'bootstrap': defaultdict(<function <lambda> at 0x7f6c5e9db9d8>, {'precision': {'mean': 0.04483913481665246, 'std': 0.001958886654740127, 'ci': 0.003917773309480254}, 'recall': {'mean': 1.0, 'std': 0.0, 'ci': 0.0}, 'f1-score': {'mean': 0.08582301403713871, 'std': 0.003586691223283816, 'ci': 0.007173382446567632}, 'auc': {'mean': 0.4258959372032685, 'std': 0.012911911213644493, 'ci': 0.025823822427288985}, 'dor': {'mean': 0.0, 'std': 0.0, 'ci': 0.0}})}, 'exp_id': '62a5c49c-216b-11ea-bee5-000d3a0e06d9'}, '6ed1a75e-216b-11ea-bee5-000d3a0e06d9': {'parameters': {'target': 'AKI', 'cohort': 'SINAI', 'bootstrap': 'yes', 'n_iterations': 100, 'n_ratio': 0.5, 'model_features': ['GENDER', 'AGE_AT_ADMISSION', 'AKI', 'ELIXHAUSER_SCORE', 'AIDS', 'ALCOHOL_ABUSE', 'BLOOD_LOSS_ANEMIA', 'CARDIAC_ARRHYTHMIAS', 'CHRONIC_PULMONARY', 'COAGULOPATHY', 'CONGESTIVE_HEART_FAILURE', 'DEFICIENCY_ANEMIAS', 'DEPRESSION', 'DIABETES_COMPLICATED', 'DIABETES_UNCOMPLICATED', 'DRUG_ABUSE', 'FLUID_ELECTROLYTE', 'HYPERTENSION', 'HYPOTHYROIDISM', 'LIVER_DISEASE', 'LYMPHOMA', 'METASTATIC_CANCER', 'OBESITY', 'OTHER_NEUROLOGICAL', 'PARALYSIS', 'PEPTIC_ULCER', 'PERIPHERAL_VASCULAR', 'PSYCHOSES', 'PULMONARY_CIRCULATION', 'RENAL_FAILURE', 'RHEUMATOID_ARTHRITIS', 'SOLID_TUMOR', 'VALVULAR_DISEASE', 'WEIGHT_LOSS', 'BUN_DTS_1.0', 'BUN_DTS_2.0', 'BUN_DTS_3.0', 'BLD CREA_DTS_1.0', 'BLD CREA_DTS_2.0', 'BLD CREA_DTS_3.0', 'ANION GAP_DTS_1.0', 'ANION GAP_DTS_2.0', 'ANION GAP_DTS_3.0', 'ALBUMIN_DTS_1.0', 'ALBUMIN_DTS_2.0', 'ALBUMIN_DTS_3.0', 'BILIRUBIN_DTS_1.0', 'BILIRUBIN_DTS_2.0', 'BILIRUBIN_DTS_3.0', 'CHLORIDE_DTS_1.0', 'CHLORIDE_DTS_2.0', 'CHLORIDE_DTS_3.0', 'CHLORIDE (WHOLE BLOOD)_DTS_1.0', 'CHLORIDE (WHOLE BLOOD)_DTS_2.0', 'CHLORIDE (WHOLE BLOOD)_DTS_3.0', 'GLUCOSE_DTS_1.0', 'GLUCOSE_DTS_2.0', 'GLUCOSE_DTS_3.0', 'GLUCOSE (BLOOD GAS)_DTS_1.0', 'GLUCOSE (BLOOD GAS)_DTS_2.0', 'GLUCOSE (BLOOD GAS)_DTS_3.0', 'HEMATOCRIT_DTS_1.0', 'HEMATOCRIT_DTS_2.0', 'HEMATOCRIT_DTS_3.0', 'HEMATOCRIT (CALCULATED)_DTS_1.0', 'HEMATOCRIT (CALCULATED)_DTS_2.0', 'HEMATOCRIT (CALCULATED)_DTS_3.0', 'HEMOGLOBIN_DTS_1.0', 'HEMOGLOBIN_DTS_2.0', 'HEMOGLOBIN_DTS_3.0', 'HEMOGLOBIN (BLOOD GAS)_DTS_1.0', 'HEMOGLOBIN (BLOOD GAS)_DTS_2.0', 'HEMOGLOBIN (BLOOD GAS)_DTS_3.0', 'LACTATE_DTS_1.0', 'LACTATE_DTS_2.0', 'LACTATE_DTS_3.0', 'PLATELET COUNT_DTS_1.0', 'PLATELET COUNT_DTS_2.0', 'PLATELET COUNT_DTS_3.0', 'POTASSIUM_DTS_1.0', 'POTASSIUM_DTS_2.0', 'POTASSIUM_DTS_3.0', 'POTASSIUM WHOLE BLOOD_DTS_1.0', 'POTASSIUM WHOLE BLOOD_DTS_2.0', 'POTASSIUM WHOLE BLOOD_DTS_3.0', 'PTT_DTS_1.0', 'PTT_DTS_2.0', 'PTT_DTS_3.0', 'INR(PT)_DTS_1.0', 'INR(PT)_DTS_2.0', 'INR(PT)_DTS_3.0', 'PT_DTS_1.0', 'PT_DTS_2.0', 'PT_DTS_3.0', 'SODIUM_DTS_1.0', 'SODIUM_DTS_2.0', 'SODIUM_DTS_3.0', 'SODIUM (WHOLE BLOOD)_DTS_1.0', 'SODIUM (WHOLE BLOOD)_DTS_2.0', 'SODIUM (WHOLE BLOOD)_DTS_3.0', 'WHITE BLOOD CELLS_DTS_1.0', 'WHITE BLOOD CELLS_DTS_2.0', 'WHITE BLOOD CELLS_DTS_3.0', 'WBC COUNT_DTS_3.0'], 'algorithm': 'RandomForest', 'datetime': datetime.datetime(2019, 12, 18, 7, 54, 9, 109431)}, 'results': {'y_true': 0        0.0\n",
      "1        0.0\n",
      "2        0.0\n",
      "3        0.0\n",
      "4        0.0\n",
      "5        0.0\n",
      "6        0.0\n",
      "7        0.0\n",
      "8        0.0\n",
      "9        0.0\n",
      "10       0.0\n",
      "11       0.0\n",
      "12       0.0\n",
      "13       0.0\n",
      "14       0.0\n",
      "15       0.0\n",
      "16       0.0\n",
      "17       0.0\n",
      "18       0.0\n",
      "19       0.0\n",
      "20       0.0\n",
      "21       0.0\n",
      "22       0.0\n",
      "23       0.0\n",
      "24       1.0\n",
      "25       1.0\n",
      "26       1.0\n",
      "27       0.0\n",
      "28       0.0\n",
      "29       0.0\n",
      "        ... \n",
      "25769    0.0\n",
      "25770    0.0\n",
      "25771    0.0\n",
      "25772    0.0\n",
      "25773    0.0\n",
      "25774    0.0\n",
      "25775    0.0\n",
      "25776    0.0\n",
      "25777    0.0\n",
      "25778    0.0\n",
      "25779    0.0\n",
      "25780    0.0\n",
      "25781    0.0\n",
      "25782    0.0\n",
      "25783    0.0\n",
      "25784    0.0\n",
      "25785    0.0\n",
      "25786    0.0\n",
      "25787    0.0\n",
      "25788    0.0\n",
      "25789    0.0\n",
      "25790    0.0\n",
      "25791    0.0\n",
      "25792    0.0\n",
      "25793    0.0\n",
      "25794    0.0\n",
      "25795    0.0\n",
      "25796    0.0\n",
      "25797    0.0\n",
      "25798    0.0\n",
      "Name: AKI, Length: 25799, dtype: float64, 'y_pred': array([0., 0., 0., ..., 0., 0., 0.]), 'y_probs': array([0.33713431, 0.34937254, 0.34668504, ..., 0.31761343, 0.33503647,\n",
      "       0.4142951 ])}, 'performance': {'discrimination': {'precision': 0.2647058823529412, 'recall': 0.007738607050730868, 'f1-score': 0.015037593984962405, 'support': 1163.0, 'confusion_matrix': [[24611, 25], [1154, 9]], 'auc': 0.7315314940826482, 'n': 25799, 'tn': 24611, 'fp': 25, 'fn': 1154, 'tp': 9, 'dor': 7.677608318890814}, 'calibration': {'slope': 0.8435885130628185, 'intercept': 0.2949430917415391}, 'clinical_usefulness': {'treated': -0.0019122188198508984, 'treated_all': -2.1830691112058607, 'untreated': 0.9347815253082898, 'overall': 0.9328693064884389, 'prevalence': 0.04507926663824179, 'adapt': 0.6537734020698476, 'n': 25799}, 'bootstrap': defaultdict(<function <lambda> at 0x7f6c703b6d90>, {'precision': {'mean': 0.2526419057240601, 'std': 0.09018561402383762, 'ci': 0.18037122804767525}, 'recall': {'mean': 0.008752007255048716, 'std': 0.0037489087179823194, 'ci': 0.007497817435964639}, 'f1-score': {'mean': 0.01689629152318688, 'std': 0.0071792297721312405, 'ci': 0.014358459544262481}, 'auc': {'mean': 0.7315507821433063, 'std': 0.010470872863929394, 'ci': 0.02094174572785879}, 'dor': {'mean': 7.750321439945053, 'std': 4.199190208837376, 'ci': 8.398380417674751}})}, 'exp_id': '6ed1a75e-216b-11ea-bee5-000d3a0e06d9'}}\n",
      "OK, object pickled.\n",
      "Successfully saved.\n"
     ]
    }
   ],
   "source": [
    "''' define options to run experiments on '''\n",
    "options = {\n",
    "    'target': [\"AKI\"],\n",
    "    'cohort': ['SINAI'],\n",
    "    'bootstrap': ['yes'],\n",
    "    'n_iterations': [100], # number of iterations necessary\n",
    "    'n_ratio': [0.5], #how much of the data should we use for bootstrapping\n",
    "}\n",
    "\n",
    "''' retrieve previous experiments as the case may be '''\n",
    "derivation_experiments = unpickle(derivation_path) or {}\n",
    "validation_experiments = unpickle(validation_path) or {}\n",
    "n_validation_experiments = 0\n",
    "\n",
    "#filter validation experiments if needed\n",
    "\n",
    "with Timer() as t:    \n",
    "    ''' iterate over different options '''\n",
    "    for combination in product(*options.values()):\n",
    "    \n",
    "        ''' for every experiment saved on the pipeline '''\n",
    "        for derivation_experiment in derivation_experiments.values():\n",
    "\n",
    "            ''' initialize parameters '''\n",
    "            exp_id = str(uuid.uuid1())\n",
    "            params = dict(zip(options.keys(), combination))                       \n",
    "\n",
    "            ''' load the data '''\n",
    "            test = Load().execute(filename=filenames[params['cohort']])  \n",
    "                       \n",
    "            params['model_features'] = derivation_experiment['parameters']['model_features']\n",
    "            params['algorithm'] = derivation_experiment['parameters']['algorithm']\n",
    "            \n",
    "            print(f\"Running experiment with following parameters: {params}\")\n",
    "            \n",
    "            ''' evaluate on complete data using complete cohort and existing pipeline '''\n",
    "            validation_experiment = defaultdict(lambda: {})\n",
    "            validation_experiment = run_validation_experiment(params, test, **derivation_experiment['pipeline'])        \n",
    "                        \n",
    "            bs_performance = defaultdict(lambda:{})\n",
    "            bs_experiments = []\n",
    "            if params.get('bootstrap') == 'yes':           \n",
    "                                \n",
    "                metrics = ['precision', 'recall', 'f1-score', 'auc', 'dor']\n",
    "                n_iterations = params['n_iterations']\n",
    "                n_size = int(len(test) * params['n_ratio'])\n",
    "                \n",
    "                bs_exps = []\n",
    "                for i in range(n_iterations):\n",
    "                    print(f\"Validating bootstrapped sample #{i+1}\")\n",
    "                    bs_test = resample(test, n_samples=n_size)                    \n",
    "                    bs_experiments.append(run_validation_experiment(params, bs_test, **derivation_experiment['pipeline']))             \n",
    "                \n",
    "                for metric in metrics:\n",
    "                    measurements = [exp['performance']['discrimination'][metric] for exp in bs_experiments]\n",
    "                    bs_performance[metric]['mean'] = np.mean(measurements)\n",
    "                    bs_performance[metric]['std'] = np.std(measurements)\n",
    "                    bs_performance[metric]['ci'] = np.std(measurements) * 2 #95% CI                    \n",
    "            \n",
    "            ''' save everything '''\n",
    "            #validation_experiment['derivation_exp_id'] = derivation_experiment['exp_id']\n",
    "            validation_experiment['parameters'] = params\n",
    "            validation_experiment['performance']['bootstrap'] = bs_performance\n",
    "            validation_experiment['exp_id'] = exp_id\n",
    "            \n",
    "            validation_experiments[exp_id] = validation_experiment\n",
    "\n",
    "            n_validation_experiments += 1\n",
    "                            \n",
    "\n",
    "print(f'Running {n_validation_experiments} validation experiments took {t.interval:.03f} sec.')\n",
    "\n",
    "print(validation_experiments)\n",
    "\n",
    "''' store everything '''\n",
    "if pickle(validation_experiments, validation_path): print('Successfully saved.')"
   ]
  },
  {
   "cell_type": "code",
   "execution_count": null,
   "metadata": {},
   "outputs": [],
   "source": []
  },
  {
   "cell_type": "code",
   "execution_count": null,
   "metadata": {},
   "outputs": [],
   "source": []
  }
 ],
 "metadata": {
  "kernelspec": {
   "display_name": "Python 3",
   "language": "python",
   "name": "python3"
  },
  "language_info": {
   "codemirror_mode": {
    "name": "ipython",
    "version": 3
   },
   "file_extension": ".py",
   "mimetype": "text/x-python",
   "name": "python",
   "nbconvert_exporter": "python",
   "pygments_lexer": "ipython3",
   "version": "3.6.4"
  }
 },
 "nbformat": 4,
 "nbformat_minor": 2
}
