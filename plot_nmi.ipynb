{
 "cells": [
  {
   "cell_type": "code",
   "execution_count": null,
   "metadata": {},
   "outputs": [],
   "source": [
    "%run default-imports.ipynb\n",
    "from sklearn.preprocessing import KBinsDiscretizer\n",
    "from sklearn.metrics import normalized_mutual_info_score"
   ]
  },
  {
   "cell_type": "code",
   "execution_count": null,
   "metadata": {},
   "outputs": [],
   "source": [
    "cohorts = {\n",
    "    'MIMIC' : { 'title' : \"MIMIC-III\", 'filename' : \"./experiments/experiments_rfe_mimic.d\" },\n",
    "    'SINAI' : { 'title' : \"Mt. Sinai\", 'filename' : \"./experiments/experiments_rfe_mimic.d\" },\n",
    "    'DHZB'  : { 'title' : \"German Heart Center\", 'filename': \"./experiments/experiments_rfe_sinai.d\" },\n",
    "}"
   ]
  },
  {
   "cell_type": "code",
   "execution_count": null,
   "metadata": {},
   "outputs": [],
   "source": [
    "''' mimic becomes the reference column '''\n",
    "reference_columns = Load().execute(filename=cohorts['MIMIC']['filename']).columns\n",
    "\n",
    "''' according to the order in the mimic file '''\n",
    "numeric_columns = [1, 3] + list(range(34, 104))\n",
    "\n",
    "''' for storing the data necessary to plot '''\n",
    "nmi_matrices = unpickle('./experiments/nmi_matrices.d') or {}\n",
    "nmi_differences = unpickle('./experiments/nmi_differences.d') or defaultdict(lambda: {})"
   ]
  },
  {
   "cell_type": "code",
   "execution_count": null,
   "metadata": {},
   "outputs": [],
   "source": [
    "''' computes the normalized mutual information (NMI) matrix '''\n",
    "def compute_nmi(data):    \n",
    "    discretizer = KBinsDiscretizer(n_bins=20, encode='ordinal', strategy='quantile')\n",
    "    ''' necessary in case a given column is not available '''\n",
    "    for column in [column for column in reference_columns if not column in data.columns]:\n",
    "        data[column] = np.zeros(data.shape[0])\n",
    "    data_discretized = data[reference_columns]\n",
    "    data_discretized.iloc[numeric_columns] = discretizer.fit_transform(data.iloc[numeric_columns])\n",
    "    nmi_matrix = np.zeros((len(data_discretized.columns), len(data_discretized.columns)))\n",
    "\n",
    "    for i in range(len(data_discretized.columns)):\n",
    "        for j in range(len(data_discretized.columns)):\n",
    "            col1 = data_discretized.columns[i]\n",
    "            col2 = data_discretized.columns[j]\n",
    "            nmi_matrix[i, j] = normalized_mutual_info_score(data_discretized[col1], data_discretized[col2], 'max')\n",
    "    return nmi_matrix\n",
    "\n",
    "''' computes the mean nmi different between two given matrices '''    \n",
    "def compute_mean_nmi_difference(nmi_matrix1, nmi_matrix2):    \n",
    "    diff = nmi_matrix1 - nmi_matrix2\n",
    "    return np.mean(np.absolute(diff))"
   ]
  },
  {
   "cell_type": "code",
   "execution_count": null,
   "metadata": {},
   "outputs": [],
   "source": [
    "''' obtain the NMI matrices '''\n",
    "for cohort in cohorts:\n",
    "    try:\n",
    "        data,_ = Impute().execute(Load().execute(filename=cohorts[cohort]['filename']))    \n",
    "        nmi_matrix = compute_nmi(data)\n",
    "        nmi_matrices[cohort] = nmi_matrix\n",
    "    except:\n",
    "        print(f\"Cohort {cohort} not available. File '{cohorts[cohort]['filename']}' not found.\")        "
   ]
  },
  {
   "cell_type": "code",
   "execution_count": null,
   "metadata": {},
   "outputs": [],
   "source": [
    "''' now obtain the NMI differences '''\n",
    "for cohort1, cohort2 in product([cohort for cohort in cohorts], [cohort for cohort in cohorts]):        \n",
    "    if (cohort1 == cohort2): nmi_differences[cohort1][cohort2] = 0.0            \n",
    "    elif not nmi_differences.get(cohort2):\n",
    "        ''' calculate differences '''   \n",
    "        nmi_differences[cohort1][cohort2] = compute_mean_nmi_difference(nmi_matrices[cohort1], nmi_matrices[cohort2])\n",
    "        print(f\"Calculated {cohort1} x {cohort2}\")\n",
    "print('Finished calculating mean differences')        "
   ]
  },
  {
   "cell_type": "code",
   "execution_count": null,
   "metadata": {},
   "outputs": [],
   "source": [
    "''' now store everything for later use '''\n",
    "if pickle(nmi_matrices, 'nmi_matrices.d'):\n",
    "    print('Successfully saved nmi_matrices.')\n",
    "\n",
    "nmi_differences = {k:v for k,v in nmi_differences.items()} #remove lambda for pickling\n",
    "if pickle(nmi_differences, './experiments/nmi_differences.d'):\n",
    "    print('Successfully saved nmi_differences.')"
   ]
  },
  {
   "cell_type": "code",
   "execution_count": null,
   "metadata": {},
   "outputs": [],
   "source": [
    "''' plot the NMI matrices '''\n",
    "fig, axs = plt.subplots(1, len(cohorts), figsize=(15,5))\n",
    "fig_index = 0\n",
    "\n",
    "BIGGER_SIZE = 14\n",
    "plt.rc('font', size=BIGGER_SIZE)          # controls default text sizes\n",
    "plt.rc('axes', titlesize=BIGGER_SIZE)     # fontsize of the axes title\n",
    "plt.rc('axes', labelsize=BIGGER_SIZE)    # fontsize of the x and y labels\n",
    "plt.rc('xtick', labelsize=BIGGER_SIZE)    # fontsize of the tick labels\n",
    "plt.rc('ytick', labelsize=BIGGER_SIZE)    # fontsize of the tick labels\n",
    "\n",
    "for cohort in cohorts:\n",
    "    ax = axs[fig_index]\n",
    "    ax.xaxis.tick_top()\n",
    "    ax.xaxis.set_label_position('top')\n",
    "    ax.set_xlabel('Features')\n",
    "    ax.set_ylabel('Features')\n",
    "    ax.set_title(cohorts[cohort]['title'], y=-0.12) #set title in the bottom\n",
    "    _ = ax.imshow(nmi_matrices[cohort], cmap='Blues')     \n",
    "    fig_index += 1\n",
    "\n",
    "plt.tight_layout()\n",
    "plt.savefig('nmi_matrices.pdf')"
   ]
  },
  {
   "cell_type": "code",
   "execution_count": null,
   "metadata": {},
   "outputs": [],
   "source": []
  }
 ],
 "metadata": {
  "kernelspec": {
   "display_name": "Python 3",
   "language": "python",
   "name": "python3"
  },
  "language_info": {
   "codemirror_mode": {
    "name": "ipython",
    "version": 3
   },
   "file_extension": ".py",
   "mimetype": "text/x-python",
   "name": "python",
   "nbconvert_exporter": "python",
   "pygments_lexer": "ipython3",
   "version": "3.6.4"
  }
 },
 "nbformat": 4,
 "nbformat_minor": 2
}
