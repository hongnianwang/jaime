{
 "cells": [
  {
   "cell_type": "code",
   "execution_count": null,
   "metadata": {},
   "outputs": [],
   "source": [
    "%run default-imports.ipynb"
   ]
  },
  {
   "cell_type": "code",
   "execution_count": null,
   "metadata": {},
   "outputs": [],
   "source": [
    "%run run-experiment.ipynb"
   ]
  },
  {
   "cell_type": "code",
   "execution_count": null,
   "metadata": {},
   "outputs": [],
   "source": [
    "''' define options to run experiments on '''\n",
    "options = {\n",
    "    'target': [\"AKI\"],\n",
    "    'cohort': ['MIMIC'],\n",
    "    'test_size': [0.2],\n",
    "    'imputation_method': [imputer for imputer in imputers],    \n",
    "    'algorithm': [algorithms.LR, algorithms.ENLR, algorithms.DT, algorithms.GNBAYES, algorithms.ADABOOST, algorithms.GBDT, algorithms.RF],\n",
    "    'sampling_method': [None] + [sampler for sampler in samplers],\n",
    "    'sampling_strategy': [0.1, 0.25, 0.50, 0.75, 1],\n",
    "    'scale_method': [None] + [scaler for scaler in scalers],\n",
    "    'optimize_mode': [False],\n",
    "    \n",
    "    #'explainers' : [['MimicExplainer', 'ShapExplainer', 'FeatContribExplainer', 'LimeExplainer']]\n",
    "}\n",
    "\n",
    "experiments = unpickle('experiments.json') or {}\n",
    "n_experiments = 0\n",
    "\n",
    "with Timer() as t:\n",
    "    \n",
    "    ''' iterate over different options '''\n",
    "    for combination in product(*options.values()):\n",
    "        try:\n",
    "            params = dict(zip(options.keys(), combination))\n",
    "            print(f\"Running experiment with following parameters: {params}\")\n",
    "            experiment = run_experiment(params)\n",
    "            print(experiment)\n",
    "            exp_id = str(uuid.uuid1())\n",
    "            experiments[exp_id] = experiment            \n",
    "            n_experiments += 1\n",
    "        except Exception as e:\n",
    "            print(f\"Could not run experiment with params {str(params)}. Error: {str(e)}\")\n",
    "\n",
    "print(f'Running {n_experiments} experiments took {t.interval:.03f} sec.')\n",
    "\n",
    "''' store everything '''\n",
    "if pickle(experiments, 'experiments.json'):\n",
    "    print('Successfully saved.')"
   ]
  },
  {
   "cell_type": "code",
   "execution_count": null,
   "metadata": {},
   "outputs": [],
   "source": []
  },
  {
   "cell_type": "code",
   "execution_count": null,
   "metadata": {},
   "outputs": [],
   "source": []
  }
 ],
 "metadata": {
  "kernelspec": {
   "display_name": "Python 3",
   "language": "python",
   "name": "python3"
  },
  "language_info": {
   "codemirror_mode": {
    "name": "ipython",
    "version": 3
   },
   "file_extension": ".py",
   "mimetype": "text/x-python",
   "name": "python",
   "nbconvert_exporter": "python",
   "pygments_lexer": "ipython3",
   "version": "3.6.4"
  }
 },
 "nbformat": 4,
 "nbformat_minor": 2
}
